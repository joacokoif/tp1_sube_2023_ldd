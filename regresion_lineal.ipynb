{
 "cells": [
  {
   "cell_type": "code",
   "execution_count": 19,
   "metadata": {},
   "outputs": [],
   "source": [
    "# Importación de librerías necesarias\n",
    "import numpy as np\n",
    "import pandas as pd\n",
    "import matplotlib.pyplot as plt\n",
    "import seaborn as sns\n",
    "import seaborn.objects as so\n",
    "import matplotlib.pyplot as plt\n",
    "import matplotlib.ticker as ticker\n",
    "import geopandas as gpd\n",
    "import json\n",
    "import plotly.express as px\n",
    "from sklearn import linear_model    # Herramientas de modelos lineales\n",
    "from sklearn.metrics import mean_squared_error, r2_score    # Medidas de desempeño\n",
    "from sklearn.model_selection import train_test_split\n",
    "from sklearn.linear_model import LinearRegression\n",
    "from sklearn.linear_model import Ridge\n",
    "from sklearn.model_selection import train_test_split, GridSearchCV\n",
    "from sklearn import linear_model    # Herramientas de modelos lineales\n",
    "from sklearn.preprocessing import PolynomialFeatures    # Herramientas de polinomios\n",
    "from sklearn.model_selection import train_test_split, cross_val_score\n",
    "from sklearn.datasets import make_regression\n",
    "from formulaic import Formula\n",
    "from sklearn.model_selection import KFold"
   ]
  },
  {
   "cell_type": "code",
   "execution_count": 20,
   "metadata": {},
   "outputs": [],
   "source": [
    "datos_AMBA = pd.read_csv('sube-2023-regresion.csv')"
   ]
  },
  {
   "cell_type": "code",
   "execution_count": 21,
   "metadata": {},
   "outputs": [
    {
     "name": "stdout",
     "output_type": "stream",
     "text": [
      "                BS_ASLINEA_123  BSAS_LINEA_002  BSAS_LINEA_009  \\\n",
      "DIA_TRANSPORTE                                                   \n",
      "2023-01-01                1681            5670            5644   \n",
      "2023-01-02                9440           21759           23284   \n",
      "2023-01-04               10540           24755           25405   \n",
      "2023-01-05               10408           25772           26489   \n",
      "2023-01-06               10530           26021           26458   \n",
      "\n",
      "                BSAS_LINEA_010  BSAS_LINEA_015  BSAS_LINEA_017  \\\n",
      "DIA_TRANSPORTE                                                   \n",
      "2023-01-01                5177            9109            7013   \n",
      "2023-01-02               21176           45269           29962   \n",
      "2023-01-04               23806           52873           33659   \n",
      "2023-01-05               24688           53436           35182   \n",
      "2023-01-06               24167           53163           35212   \n",
      "\n",
      "                BSAS_LINEA_019  BSAS_LINEA_020  BSAS_LINEA_021  \\\n",
      "DIA_TRANSPORTE                                                   \n",
      "2023-01-01                1604            2617           11235   \n",
      "2023-01-02               13921           11934           55611   \n",
      "2023-01-04               16172           13366           61721   \n",
      "2023-01-05               16569           12929           62510   \n",
      "2023-01-06               16459           12955           63528   \n",
      "\n",
      "                BSAS_LINEA_022  ...  LINEA 5  LINEA 50  LINEA 6  LINEA 7  \\\n",
      "DIA_TRANSPORTE                  ...                                        \n",
      "2023-01-01                2202  ...   4832.0      4839     2449     2184   \n",
      "2023-01-02               13823  ...  20333.0     16221    10486    12774   \n",
      "2023-01-04               16206  ...  23041.0     18448    12193    13949   \n",
      "2023-01-05               16863  ...  23928.0     18481    12888    14668   \n",
      "2023-01-06               16846  ...  24247.0     19300    12703    14199   \n",
      "\n",
      "                LINEA 76  LINEA 8  LINEA_099  LINEA_119_AMBA  LINEA_164_AMBA  \\\n",
      "DIA_TRANSPORTE                                                                 \n",
      "2023-01-01          3797     5317       1882          1573.0            3210   \n",
      "2023-01-02         17374    23250      10322          7345.0           19362   \n",
      "2023-01-04         19860    26294      11981          7925.0           21784   \n",
      "2023-01-05         21235    27216      11787          7597.0           22972   \n",
      "2023-01-06         23472    27073      11567          7811.0           23411   \n",
      "\n",
      "                LINEA 119  \n",
      "DIA_TRANSPORTE             \n",
      "2023-01-01            NaN  \n",
      "2023-01-02            NaN  \n",
      "2023-01-04            NaN  \n",
      "2023-01-05            NaN  \n",
      "2023-01-06            NaN  \n",
      "\n",
      "[5 rows x 136 columns]\n"
     ]
    }
   ],
   "source": [
    "datos_regresion = pd.read_csv('sube-2023-regresion.csv')\n",
    "\n",
    "datos_ColectivoJN = datos_AMBA[(datos_regresion[\"TIPO_TRANSPORTE\"] == \"COLECTIVO\") & (datos_regresion['AMBA'] == 'SI') & (datos_regresion[\"PROVINCIA\"] == \"JN\") & (datos_regresion ['DATO_PRELIMINAR'] == 'NO')] # Filtro y excluir los datos\n",
    "\n",
    "cols = datos_ColectivoJN[\"LINEA\"].unique() #busco toda las lineas (sin repetidos)\n",
    "\n",
    "pasajeros_por_linea = pd.DataFrame()#creo el data frame\n",
    "\n",
    "pasajeros_por_linea = pd. DataFrame ()\n",
    "for col in cols:\n",
    "    datos_linea = datos_ColectivoJN [ datos_ColectivoJN .LINEA == col ][[\"DIA_TRANSPORTE\", \"CANTIDAD\"]]\n",
    "    datos_linea = datos_linea . set_index (\"DIA_TRANSPORTE\").rename(columns = {\"CANTIDAD\" : col })\n",
    "    pasajeros_por_linea = pd.concat ([ pasajeros_por_linea , datos_linea ], axis = 1)\n",
    "\n",
    "print(pasajeros_por_linea.head())\n",
    "\n"
   ]
  },
  {
   "cell_type": "code",
   "execution_count": 22,
   "metadata": {},
   "outputs": [
    {
     "data": {
      "text/html": [
       "<div>\n",
       "<style scoped>\n",
       "    .dataframe tbody tr th:only-of-type {\n",
       "        vertical-align: middle;\n",
       "    }\n",
       "\n",
       "    .dataframe tbody tr th {\n",
       "        vertical-align: top;\n",
       "    }\n",
       "\n",
       "    .dataframe thead th {\n",
       "        text-align: right;\n",
       "    }\n",
       "</style>\n",
       "<table border=\"1\" class=\"dataframe\">\n",
       "  <thead>\n",
       "    <tr style=\"text-align: right;\">\n",
       "      <th></th>\n",
       "      <th>BS_ASLINEA_123</th>\n",
       "      <th>BSAS_LINEA_002</th>\n",
       "      <th>BSAS_LINEA_009</th>\n",
       "      <th>BSAS_LINEA_010</th>\n",
       "      <th>BSAS_LINEA_015</th>\n",
       "      <th>BSAS_LINEA_017</th>\n",
       "      <th>BSAS_LINEA_019</th>\n",
       "      <th>BSAS_LINEA_020</th>\n",
       "      <th>BSAS_LINEA_021</th>\n",
       "      <th>BSAS_LINEA_022</th>\n",
       "      <th>...</th>\n",
       "      <th>LINEA 4</th>\n",
       "      <th>LINEA 42</th>\n",
       "      <th>LINEA 44</th>\n",
       "      <th>LINEA 50</th>\n",
       "      <th>LINEA 6</th>\n",
       "      <th>LINEA 7</th>\n",
       "      <th>LINEA 76</th>\n",
       "      <th>LINEA 8</th>\n",
       "      <th>LINEA_099</th>\n",
       "      <th>LINEA_164_AMBA</th>\n",
       "    </tr>\n",
       "    <tr>\n",
       "      <th>DIA_TRANSPORTE</th>\n",
       "      <th></th>\n",
       "      <th></th>\n",
       "      <th></th>\n",
       "      <th></th>\n",
       "      <th></th>\n",
       "      <th></th>\n",
       "      <th></th>\n",
       "      <th></th>\n",
       "      <th></th>\n",
       "      <th></th>\n",
       "      <th></th>\n",
       "      <th></th>\n",
       "      <th></th>\n",
       "      <th></th>\n",
       "      <th></th>\n",
       "      <th></th>\n",
       "      <th></th>\n",
       "      <th></th>\n",
       "      <th></th>\n",
       "      <th></th>\n",
       "      <th></th>\n",
       "    </tr>\n",
       "  </thead>\n",
       "  <tbody>\n",
       "    <tr>\n",
       "      <th>2023-01-01</th>\n",
       "      <td>1681</td>\n",
       "      <td>5670</td>\n",
       "      <td>5644</td>\n",
       "      <td>5177</td>\n",
       "      <td>9109</td>\n",
       "      <td>7013</td>\n",
       "      <td>1604</td>\n",
       "      <td>2617</td>\n",
       "      <td>11235</td>\n",
       "      <td>2202</td>\n",
       "      <td>...</td>\n",
       "      <td>2942</td>\n",
       "      <td>4029</td>\n",
       "      <td>4649</td>\n",
       "      <td>4839</td>\n",
       "      <td>2449</td>\n",
       "      <td>2184</td>\n",
       "      <td>3797</td>\n",
       "      <td>5317</td>\n",
       "      <td>1882</td>\n",
       "      <td>3210</td>\n",
       "    </tr>\n",
       "    <tr>\n",
       "      <th>2023-01-02</th>\n",
       "      <td>9440</td>\n",
       "      <td>21759</td>\n",
       "      <td>23284</td>\n",
       "      <td>21176</td>\n",
       "      <td>45269</td>\n",
       "      <td>29962</td>\n",
       "      <td>13921</td>\n",
       "      <td>11934</td>\n",
       "      <td>55611</td>\n",
       "      <td>13823</td>\n",
       "      <td>...</td>\n",
       "      <td>15329</td>\n",
       "      <td>19072</td>\n",
       "      <td>20387</td>\n",
       "      <td>16221</td>\n",
       "      <td>10486</td>\n",
       "      <td>12774</td>\n",
       "      <td>17374</td>\n",
       "      <td>23250</td>\n",
       "      <td>10322</td>\n",
       "      <td>19362</td>\n",
       "    </tr>\n",
       "    <tr>\n",
       "      <th>2023-01-04</th>\n",
       "      <td>10540</td>\n",
       "      <td>24755</td>\n",
       "      <td>25405</td>\n",
       "      <td>23806</td>\n",
       "      <td>52873</td>\n",
       "      <td>33659</td>\n",
       "      <td>16172</td>\n",
       "      <td>13366</td>\n",
       "      <td>61721</td>\n",
       "      <td>16206</td>\n",
       "      <td>...</td>\n",
       "      <td>17836</td>\n",
       "      <td>21609</td>\n",
       "      <td>23595</td>\n",
       "      <td>18448</td>\n",
       "      <td>12193</td>\n",
       "      <td>13949</td>\n",
       "      <td>19860</td>\n",
       "      <td>26294</td>\n",
       "      <td>11981</td>\n",
       "      <td>21784</td>\n",
       "    </tr>\n",
       "    <tr>\n",
       "      <th>2023-01-05</th>\n",
       "      <td>10408</td>\n",
       "      <td>25772</td>\n",
       "      <td>26489</td>\n",
       "      <td>24688</td>\n",
       "      <td>53436</td>\n",
       "      <td>35182</td>\n",
       "      <td>16569</td>\n",
       "      <td>12929</td>\n",
       "      <td>62510</td>\n",
       "      <td>16863</td>\n",
       "      <td>...</td>\n",
       "      <td>18044</td>\n",
       "      <td>21993</td>\n",
       "      <td>23687</td>\n",
       "      <td>18481</td>\n",
       "      <td>12888</td>\n",
       "      <td>14668</td>\n",
       "      <td>21235</td>\n",
       "      <td>27216</td>\n",
       "      <td>11787</td>\n",
       "      <td>22972</td>\n",
       "    </tr>\n",
       "    <tr>\n",
       "      <th>2023-01-06</th>\n",
       "      <td>10530</td>\n",
       "      <td>26021</td>\n",
       "      <td>26458</td>\n",
       "      <td>24167</td>\n",
       "      <td>53163</td>\n",
       "      <td>35212</td>\n",
       "      <td>16459</td>\n",
       "      <td>12955</td>\n",
       "      <td>63528</td>\n",
       "      <td>16846</td>\n",
       "      <td>...</td>\n",
       "      <td>18122</td>\n",
       "      <td>22421</td>\n",
       "      <td>23731</td>\n",
       "      <td>19300</td>\n",
       "      <td>12703</td>\n",
       "      <td>14199</td>\n",
       "      <td>23472</td>\n",
       "      <td>27073</td>\n",
       "      <td>11567</td>\n",
       "      <td>23411</td>\n",
       "    </tr>\n",
       "  </tbody>\n",
       "</table>\n",
       "<p>5 rows × 124 columns</p>\n",
       "</div>"
      ],
      "text/plain": [
       "                BS_ASLINEA_123  BSAS_LINEA_002  BSAS_LINEA_009  \\\n",
       "DIA_TRANSPORTE                                                   \n",
       "2023-01-01                1681            5670            5644   \n",
       "2023-01-02                9440           21759           23284   \n",
       "2023-01-04               10540           24755           25405   \n",
       "2023-01-05               10408           25772           26489   \n",
       "2023-01-06               10530           26021           26458   \n",
       "\n",
       "                BSAS_LINEA_010  BSAS_LINEA_015  BSAS_LINEA_017  \\\n",
       "DIA_TRANSPORTE                                                   \n",
       "2023-01-01                5177            9109            7013   \n",
       "2023-01-02               21176           45269           29962   \n",
       "2023-01-04               23806           52873           33659   \n",
       "2023-01-05               24688           53436           35182   \n",
       "2023-01-06               24167           53163           35212   \n",
       "\n",
       "                BSAS_LINEA_019  BSAS_LINEA_020  BSAS_LINEA_021  \\\n",
       "DIA_TRANSPORTE                                                   \n",
       "2023-01-01                1604            2617           11235   \n",
       "2023-01-02               13921           11934           55611   \n",
       "2023-01-04               16172           13366           61721   \n",
       "2023-01-05               16569           12929           62510   \n",
       "2023-01-06               16459           12955           63528   \n",
       "\n",
       "                BSAS_LINEA_022  ...  LINEA 4  LINEA 42  LINEA 44  LINEA 50  \\\n",
       "DIA_TRANSPORTE                  ...                                          \n",
       "2023-01-01                2202  ...     2942      4029      4649      4839   \n",
       "2023-01-02               13823  ...    15329     19072     20387     16221   \n",
       "2023-01-04               16206  ...    17836     21609     23595     18448   \n",
       "2023-01-05               16863  ...    18044     21993     23687     18481   \n",
       "2023-01-06               16846  ...    18122     22421     23731     19300   \n",
       "\n",
       "                LINEA 6  LINEA 7  LINEA 76  LINEA 8  LINEA_099  LINEA_164_AMBA  \n",
       "DIA_TRANSPORTE                                                                  \n",
       "2023-01-01         2449     2184      3797     5317       1882            3210  \n",
       "2023-01-02        10486    12774     17374    23250      10322           19362  \n",
       "2023-01-04        12193    13949     19860    26294      11981           21784  \n",
       "2023-01-05        12888    14668     21235    27216      11787           22972  \n",
       "2023-01-06        12703    14199     23472    27073      11567           23411  \n",
       "\n",
       "[5 rows x 124 columns]"
      ]
     },
     "execution_count": 22,
     "metadata": {},
     "output_type": "execute_result"
    }
   ],
   "source": [
    "pasajeros_por_linea_2023 = pasajeros_por_linea.dropna(axis=1, how = 'any')\n",
    "pasajeros_por_linea_2023.head()"
   ]
  },
  {
   "cell_type": "markdown",
   "metadata": {},
   "source": [
    "# ------------"
   ]
  },
  {
   "cell_type": "code",
   "execution_count": 23,
   "metadata": {},
   "outputs": [
    {
     "name": "stderr",
     "output_type": "stream",
     "text": [
      "/home/tobias/anaconda3/lib/python3.11/site-packages/seaborn/_core/plot.py:1491: FutureWarning: use_inf_as_na option is deprecated and will be removed in a future version. Convert inf values to NaN before operating instead.\n",
      "  with pd.option_context(\"mode.use_inf_as_na\", True):\n",
      "/home/tobias/anaconda3/lib/python3.11/site-packages/seaborn/_core/plot.py:1491: FutureWarning: use_inf_as_na option is deprecated and will be removed in a future version. Convert inf values to NaN before operating instead.\n",
      "  with pd.option_context(\"mode.use_inf_as_na\", True):\n"
     ]
    },
    {
     "data": {
      "image/png": "[encoded data removed]",
      "text/plain": [
       "<seaborn._core.plot.Plot at 0x76e374987f10>"
      ]
     },
     "execution_count": 23,
     "metadata": {
      "image/png": {
       "height": 378.25,
       "width": 508.72499999999997
      }
     },
     "output_type": "execute_result"
    }
   ],
   "source": [
    "(\n",
    "    so.Plot(data=pasajeros_por_linea_2023, x='BSAS_LINEA_146', y='BSAS_LINEA_009')\n",
    "    .add(so.Dot())\n",
    "    .add(so.Line(color='red', linewidth=3), so.PolyFit(1))\n",
    "    .label(title='Regresión Lineal', x='146', y='09')   \n",
    ")"
   ]
  },
  {
   "cell_type": "markdown",
   "metadata": {},
   "source": [
    "# Regresion Lineal"
   ]
  },
  {
   "cell_type": "code",
   "execution_count": 24,
   "metadata": {},
   "outputs": [
    {
     "name": "stdout",
     "output_type": "stream",
     "text": [
      "Beta_1:  1.0509409309293973\n",
      "Beta_0:  -1208.4503187112678\n",
      "R²: 0.9513709701074237\n",
      "MSE: 4929180.41253799\n"
     ]
    }
   ],
   "source": [
    "modelo = linear_model.LinearRegression()\n",
    "modelo.fit(pasajeros_por_linea_2023[['BSAS_LINEA_146']], pasajeros_por_linea_2023[['BSAS_LINEA_009']])\n",
    "\n",
    "beta_1 = modelo.coef_.item()  # la pendiente\n",
    "beta_0 = modelo.intercept_.item()  \n",
    "\n",
    "print('Beta_1: ', beta_1)\n",
    "print('Beta_0: ', beta_0)\n",
    "\n",
    "y_pred = modelo.predict(pasajeros_por_linea_2023[['BSAS_LINEA_146']])\n",
    "\n",
    "r2 = r2_score(pasajeros_por_linea_2023[['BSAS_LINEA_009']], y_pred)\n",
    "mse = mean_squared_error(pasajeros_por_linea_2023[['BSAS_LINEA_009']], y_pred)\n",
    "\n",
    "print(\"R²:\", r2)\n",
    "print(\"MSE:\", mse)"
   ]
  },
  {
   "cell_type": "markdown",
   "metadata": {},
   "source": [
    "Entonces, la recta que mejor aproxima a los datos es (redondeando):\n",
    "$$ Y = -1208.45 + 1.05 X$$"
   ]
  },
  {
   "cell_type": "markdown",
   "metadata": {},
   "source": [
    "### Regresion Lineal con datos de entrenamiento y de prueba."
   ]
  },
  {
   "cell_type": "code",
   "execution_count": 25,
   "metadata": {},
   "outputs": [
    {
     "name": "stdout",
     "output_type": "stream",
     "text": [
      "MSE: 3788175.225623859\n",
      "R²: 0.9604794455324918\n",
      "RMSE 1946.323515149488\n"
     ]
    }
   ],
   "source": [
    "X = pasajeros_por_linea_2023['BSAS_LINEA_146'].values.reshape(-1, 1) \n",
    "y = pasajeros_por_linea_2023['BSAS_LINEA_009'].values\n",
    "\n",
    "# divido los datos de entrenamiento y de prueba\n",
    "X_train, X_test, y_train, y_test = train_test_split(X, y, test_size=0.2, random_state=42)\n",
    "\n",
    "modeloLineal = LinearRegression(fit_intercept=False)\n",
    "\n",
    "# Entrenamos el modelo\n",
    "modeloLineal.fit(X_train, y_train)\n",
    "\n",
    "y_pred = modeloLineal.predict(X_test)\n",
    "\n",
    "rmse = np.sqrt(mean_squared_error(y_test, y_pred))\n",
    "mse = mean_squared_error(y_test, y_pred)\n",
    "r2 = r2_score(y_test, y_pred)\n",
    "\n",
    "print(\"MSE:\", mse)\n",
    "print(\"R²:\", r2)\n",
    "print(\"RMSE\", rmse)"
   ]
  },
  {
   "cell_type": "code",
   "execution_count": 26,
   "metadata": {},
   "outputs": [
    {
     "name": "stdout",
     "output_type": "stream",
     "text": [
      "MSE: 6089564.176975098\n",
      "R²: 0.9364699523106412\n"
     ]
    }
   ],
   "source": [
    "# Seleccionar la línea BSAS_LINEA_146 como predictor\n",
    "X = pasajeros_por_linea_2023['BSAS_LINEA_024'].values.reshape(-1, 1)  # Asegúrate de que sea un array 2D\n",
    "\n",
    "# Definir la variable objetivo\n",
    "y = pasajeros_por_linea_2023['BSAS_LINEA_009'].values\n",
    "\n",
    "# Dividir los datos en conjuntos de entrenamiento y prueba\n",
    "X_train, X_test, y_train, y_test = train_test_split(X, y, test_size=0.2, random_state=42)\n",
    "\n",
    "# Crear el modelo de regresión lineal\n",
    "model = LinearRegression()\n",
    "\n",
    "# Entrenar el modelo\n",
    "model.fit(X_train, y_train)\n",
    "\n",
    "# Predecir con el conjunto de prueba\n",
    "y_pred = model.predict(X_test)\n",
    "\n",
    "# Evaluar el modelo\n",
    "mse = mean_squared_error(y_test, y_pred)\n",
    "r2 = r2_score(y_test, y_pred)\n",
    "\n",
    "print(\"MSE:\", mse)\n",
    "print(\"R²:\", r2)\n"
   ]
  },
  {
   "cell_type": "code",
   "execution_count": 27,
   "metadata": {},
   "outputs": [
    {
     "name": "stdout",
     "output_type": "stream",
     "text": [
      "MSE: 5454023.575030651\n",
      "R²: 0.943100299504077\n"
     ]
    }
   ],
   "source": [
    "# Seleccionar la línea BSAS_LINEA_146 como predictor\n",
    "X = pasajeros_por_linea_2023['LINEA 7'].values.reshape(-1, 1)  # Asegúrate de que sea un array 2D\n",
    "\n",
    "# Definir la variable objetivo\n",
    "y = pasajeros_por_linea_2023['BSAS_LINEA_009'].values\n",
    "\n",
    "# Dividir los datos en conjuntos de entrenamiento y prueba\n",
    "X_train, X_test, y_train, y_test = train_test_split(X, y, test_size=0.2, random_state=42)\n",
    "\n",
    "# Crear el modelo de regresión lineal\n",
    "model = LinearRegression()\n",
    "\n",
    "# Entrenar el modelo\n",
    "model.fit(X_train, y_train)\n",
    "\n",
    "# Predecir con el conjunto de prueba\n",
    "y_pred = model.predict(X_test)\n",
    "\n",
    "# Evaluar el modelo\n",
    "mse = mean_squared_error(y_test, y_pred)\n",
    "r2 = r2_score(y_test, y_pred)\n",
    "\n",
    "print(\"MSE:\", mse)\n",
    "print(\"R²:\", r2)\n"
   ]
  },
  {
   "cell_type": "code",
   "execution_count": 28,
   "metadata": {},
   "outputs": [
    {
     "name": "stdout",
     "output_type": "stream",
     "text": [
      "MSE: 5330149.461214792\n",
      "R²: 0.9443926298136835\n"
     ]
    }
   ],
   "source": [
    "# Seleccionar la línea BSAS_LINEA_146 como predictor\n",
    "X = pasajeros_por_linea_2023['LINEA 101'].values.reshape(-1, 1)  # Asegúrate de que sea un array 2D\n",
    "\n",
    "# Definir la variable objetivo\n",
    "y = pasajeros_por_linea_2023['BSAS_LINEA_009'].values\n",
    "\n",
    "# Dividir los datos en conjuntos de entrenamiento y prueba\n",
    "X_train, X_test, y_train, y_test = train_test_split(X, y, test_size=0.2, random_state=42)\n",
    "\n",
    "# Crear el modelo de regresión lineal\n",
    "model = LinearRegression()\n",
    "\n",
    "# Entrenar el modelo\n",
    "model.fit(X_train, y_train)\n",
    "\n",
    "# Predecir con el conjunto de prueba\n",
    "y_pred = model.predict(X_test)\n",
    "\n",
    "# Evaluar el modelo\n",
    "mse = mean_squared_error(y_test, y_pred)\n",
    "r2 = r2_score(y_test, y_pred)\n",
    "\n",
    "print(\"MSE:\", mse)\n",
    "print(\"R²:\", r2)\n"
   ]
  },
  {
   "cell_type": "code",
   "execution_count": 29,
   "metadata": {},
   "outputs": [
    {
     "name": "stdout",
     "output_type": "stream",
     "text": [
      "MSE: 6021059.054082678\n",
      "R²: 0.9371846395358414\n"
     ]
    }
   ],
   "source": [
    "# Seleccionar la línea BSAS_LINEA_146 como predictor\n",
    "X = pasajeros_por_linea_2023['LINEA 107'].values.reshape(-1, 1)  # Asegúrate de que sea un array 2D\n",
    "\n",
    "# Definir la variable objetivo\n",
    "y = pasajeros_por_linea_2023['BSAS_LINEA_009'].values\n",
    "\n",
    "# Dividir los datos en conjuntos de entrenamiento y prueba\n",
    "X_train, X_test, y_train, y_test = train_test_split(X, y, test_size=0.2, random_state=42)\n",
    "\n",
    "# Crear el modelo de regresión lineal\n",
    "model = LinearRegression()\n",
    "\n",
    "# Entrenar el modelo\n",
    "model.fit(X_train, y_train)\n",
    "\n",
    "# Predecir con el conjunto de prueba\n",
    "y_pred = model.predict(X_test)\n",
    "\n",
    "# Evaluar el modelo\n",
    "mse = mean_squared_error(y_test, y_pred)\n",
    "r2 = r2_score(y_test, y_pred)\n",
    "\n",
    "print(\"MSE:\", mse)\n",
    "print(\"R²:\", r2)\n"
   ]
  },
  {
   "cell_type": "markdown",
   "metadata": {},
   "source": [
    "### regresion lienal con entrenamiento de datos y 5 lineas de colectivo"
   ]
  },
  {
   "cell_type": "code",
   "execution_count": 30,
   "metadata": {},
   "outputs": [
    {
     "name": "stdout",
     "output_type": "stream",
     "text": [
      "MSE: 3985786.177738464\n",
      "R²: 0.9584178475515971\n",
      "RMSE 1996.4433820518086\n"
     ]
    }
   ],
   "source": [
    "selected_lines = ['BSAS_LINEA_146', 'LINEA 101', 'LINEA 7', 'BSAS_LINEA_024']\n",
    "\n",
    "X = pasajeros_por_linea_2023[selected_lines].values\n",
    "y = pasajeros_por_linea_2023['BSAS_LINEA_009'].values\n",
    "\n",
    "X_train, X_test, y_train, y_test = train_test_split(X, y, test_size=0.2, random_state=42)\n",
    "\n",
    "model = LinearRegression()\n",
    "\n",
    "model.fit(X_train, y_train)\n",
    "\n",
    "y_pred = model.predict(X_test)\n",
    "\n",
    "rmse = np.sqrt(mean_squared_error(y_test, y_pred))\n",
    "mse = mean_squared_error(y_test, y_pred)\n",
    "r2 = r2_score(y_test, y_pred)\n",
    "\n",
    "print(\"MSE:\", mse)\n",
    "print(\"R²:\", r2)\n",
    "print(\"RMSE\", rmse)"
   ]
  },
  {
   "cell_type": "markdown",
   "metadata": {},
   "source": [
    "# ------------"
   ]
  },
  {
   "cell_type": "markdown",
   "metadata": {},
   "source": [
    "## Regresión Ridge"
   ]
  },
  {
   "cell_type": "markdown",
   "metadata": {},
   "source": [
    "### Refrescamos los resultados del modelo lineal: (una sola linea de colectivo)\n",
    "\n",
    "* MSE:  3788175.225623859\n",
    "* R²:   0.9604794455324918\n",
    "* RMSE: 1946.323515149488"
   ]
  },
  {
   "cell_type": "code",
   "execution_count": 31,
   "metadata": {},
   "outputs": [
    {
     "name": "stdout",
     "output_type": "stream",
     "text": [
      "Regresión Ridge, MSE: 3742972.035143765\n",
      "Regresión Ridge,  R²: 0.9609510327862676\n",
      "Regresión Ridge, RMSE: 1934.6762093807235\n"
     ]
    }
   ],
   "source": [
    "X = pasajeros_por_linea_2023['BSAS_LINEA_146'].values.reshape(-1, 1)  # Asegúrate de que sea un array 2D\n",
    "y = pasajeros_por_linea_2023['BSAS_LINEA_009'].values\n",
    "\n",
    "#separo los datos de entrenamineto y de testeo\n",
    "X_train, X_test, y_train, y_test = train_test_split(X, y, test_size=0.2, random_state=42)\n",
    "\n",
    "model = Ridge()\n",
    "\n",
    "model.fit(X_train, y_train)\n",
    "\n",
    "y_pred = model.predict(X_test)\n",
    "\n",
    "\"\"\"\n",
    "# evaluo el modelo lineal\n",
    "mse_linear = mean_squared_error(y_test, y_pred_linear)\n",
    "r2_linear = r2_score(y_test, y_pred_linear)\n",
    "print(\"Regresión Lineal - MSE:\", mse_linear, \"R²:\", r2_linear)\n",
    "\"\"\"\n",
    "\n",
    "# evaluo el modelo ridge\n",
    "mse_ridge = mean_squared_error(y_test, y_pred)\n",
    "r2_ridge = r2_score(y_test, y_pred)\n",
    "rmse = np.sqrt(mean_squared_error(y_test, y_pred))\n",
    "print(\"Regresión Ridge, MSE:\", mse_ridge)\n",
    "print(\"Regresión Ridge,  R²:\", r2_ridge)\n",
    "print(\"Regresión Ridge, RMSE:\", rmse)"
   ]
  },
  {
   "cell_type": "markdown",
   "metadata": {},
   "source": [
    "##### Como esperabamos, el RMSE se redució"
   ]
  },
  {
   "cell_type": "markdown",
   "metadata": {},
   "source": [
    "#### Buscamos el hiperparámetro α:\n",
    "# CHEQUEAR"
   ]
  },
  {
   "cell_type": "code",
   "execution_count": 32,
   "metadata": {},
   "outputs": [
    {
     "name": "stdout",
     "output_type": "stream",
     "text": [
      "Para alpha = 0.01000 la raíz del Error Cuadrático Medio es: 2228.68487\n",
      "Para alpha = 0.10000 la raíz del Error Cuadrático Medio es: 2228.68487\n",
      "Para alpha = 0.50000 la raíz del Error Cuadrático Medio es: 2228.68487\n",
      "Para alpha = 1.00000 la raíz del Error Cuadrático Medio es: 2228.68487\n",
      "Para alpha = 2.00000 la raíz del Error Cuadrático Medio es: 2228.68487\n",
      "Para alpha = 3.00000 la raíz del Error Cuadrático Medio es: 2228.68487\n"
     ]
    }
   ],
   "source": [
    "import numpy as np\n",
    "from sklearn.linear_model import Ridge\n",
    "from sklearn.model_selection import KFold\n",
    "from sklearn.metrics import mean_squared_error\n",
    "\n",
    "# Definimos los posibles valores de alpha\n",
    "alphas = np.array([0.01, 0.1, 0.5, 1, 2, 3])\n",
    "\n",
    "# Preparar K-Fold Cross Validation\n",
    "cv = KFold(n_splits=5, shuffle=True, random_state=42)\n",
    "\n",
    "for alpha in alphas:\n",
    "    # Inicializamos un modelo de Regresion Ridge sin intercepto\n",
    "    modeloRidge = Ridge(alpha=alpha, fit_intercept=False)\n",
    "    rmse = np.zeros(cv.get_n_splits())  # Vamos a guardar el error en cada pliego\n",
    "\n",
    "    ind = 0\n",
    "\n",
    "    # Realizamos validación cruzada\n",
    "    for train_index, val_index in cv.split(X):\n",
    "        X_train, X_val = X[train_index], X[val_index]\n",
    "        y_train, y_val = y[train_index], y[val_index]\n",
    "        modeloRidge.fit(X_train, y_train)\n",
    "\n",
    "        y_pred = modeloRidge.predict(X_val)\n",
    "        rmse[ind] = np.sqrt(mean_squared_error(y_val, y_pred))\n",
    "        ind += 1\n",
    "\n",
    "    print(f\"Para alpha = {alpha:.5f} la raíz del Error Cuadrático Medio es: {rmse.mean():.5f}\")\n"
   ]
  },
  {
   "cell_type": "code",
   "execution_count": 33,
   "metadata": {},
   "outputs": [
    {
     "name": "stdout",
     "output_type": "stream",
     "text": [
      "Mejor alpha para Regresión Ridge: 3.0\n",
      "Raíz del Error Cuadrático Medio (Regresión Ridge): 1940.43653\n"
     ]
    }
   ],
   "source": [
    "# definimos los posibles valores \n",
    "alphas = np.array([0.01, 0.1, 0.5, 1, 2, 3])\n",
    "\n",
    "ridge = Ridge(fit_intercept=False)\n",
    "\n",
    "ridge_cv = GridSearchCV(ridge, param_grid={'alpha': alphas}, cv=5, scoring='neg_mean_squared_error')\n",
    "\n",
    "# Ajustar el modelo usando la búsqueda en la rejilla\n",
    "ridge_cv.fit(X_train, y_train)\n",
    "\n",
    "# Obtener el mejor alpha\n",
    "best_alpha = ridge_cv.best_params_['alpha']\n",
    "print(f\"Mejor alpha para Regresión Ridge: {best_alpha}\")\n",
    "\n",
    "# Entrenar el modelo de Regresión Ridge con el mejor alpha\n",
    "modeloRidge = Ridge(alpha=best_alpha, fit_intercept=False)\n",
    "modeloRidge.fit(X_train, y_train)\n",
    "\n",
    "# Predecir y evaluar\n",
    "y_pred_ridge = modeloRidge.predict(X_test)\n",
    "rmse_ridge = np.sqrt(mean_squared_error(y_test, y_pred_ridge))\n",
    "print(f\"Raíz del Error Cuadrático Medio (Regresión Ridge): {rmse_ridge:.5f}\")\n"
   ]
  },
  {
   "cell_type": "markdown",
   "metadata": {},
   "source": [
    "# parte final (ver que modelo es mejor)...REHACER BIEN"
   ]
  },
  {
   "cell_type": "code",
   "execution_count": 34,
   "metadata": {},
   "outputs": [
    {
     "name": "stdout",
     "output_type": "stream",
     "text": [
      "MSE promedio para Regresión Lineal: 5172637.496574414\n"
     ]
    },
    {
     "data": {
      "text/html": [
       "<style>#sk-container-id-2 {color: black;background-color: white;}#sk-container-id-2 pre{padding: 0;}#sk-container-id-2 div.sk-toggleable {background-color: white;}#sk-container-id-2 label.sk-toggleable__label {cursor: pointer;display: block;width: 100%;margin-bottom: 0;padding: 0.3em;box-sizing: border-box;text-align: center;}#sk-container-id-2 label.sk-toggleable__label-arrow:before {content: \"▸\";float: left;margin-right: 0.25em;color: #696969;}#sk-container-id-2 label.sk-toggleable__label-arrow:hover:before {color: black;}#sk-container-id-2 div.sk-estimator:hover label.sk-toggleable__label-arrow:before {color: black;}#sk-container-id-2 div.sk-toggleable__content {max-height: 0;max-width: 0;overflow: hidden;text-align: left;background-color: #f0f8ff;}#sk-container-id-2 div.sk-toggleable__content pre {margin: 0.2em;color: black;border-radius: 0.25em;background-color: #f0f8ff;}#sk-container-id-2 input.sk-toggleable__control:checked~div.sk-toggleable__content {max-height: 200px;max-width: 100%;overflow: auto;}#sk-container-id-2 input.sk-toggleable__control:checked~label.sk-toggleable__label-arrow:before {content: \"▾\";}#sk-container-id-2 div.sk-estimator input.sk-toggleable__control:checked~label.sk-toggleable__label {background-color: #d4ebff;}#sk-container-id-2 div.sk-label input.sk-toggleable__control:checked~label.sk-toggleable__label {background-color: #d4ebff;}#sk-container-id-2 input.sk-hidden--visually {border: 0;clip: rect(1px 1px 1px 1px);clip: rect(1px, 1px, 1px, 1px);height: 1px;margin: -1px;overflow: hidden;padding: 0;position: absolute;width: 1px;}#sk-container-id-2 div.sk-estimator {font-family: monospace;background-color: #f0f8ff;border: 1px dotted black;border-radius: 0.25em;box-sizing: border-box;margin-bottom: 0.5em;}#sk-container-id-2 div.sk-estimator:hover {background-color: #d4ebff;}#sk-container-id-2 div.sk-parallel-item::after {content: \"\";width: 100%;border-bottom: 1px solid gray;flex-grow: 1;}#sk-container-id-2 div.sk-label:hover label.sk-toggleable__label {background-color: #d4ebff;}#sk-container-id-2 div.sk-serial::before {content: \"\";position: absolute;border-left: 1px solid gray;box-sizing: border-box;top: 0;bottom: 0;left: 50%;z-index: 0;}#sk-container-id-2 div.sk-serial {display: flex;flex-direction: column;align-items: center;background-color: white;padding-right: 0.2em;padding-left: 0.2em;position: relative;}#sk-container-id-2 div.sk-item {position: relative;z-index: 1;}#sk-container-id-2 div.sk-parallel {display: flex;align-items: stretch;justify-content: center;background-color: white;position: relative;}#sk-container-id-2 div.sk-item::before, #sk-container-id-2 div.sk-parallel-item::before {content: \"\";position: absolute;border-left: 1px solid gray;box-sizing: border-box;top: 0;bottom: 0;left: 50%;z-index: -1;}#sk-container-id-2 div.sk-parallel-item {display: flex;flex-direction: column;z-index: 1;position: relative;background-color: white;}#sk-container-id-2 div.sk-parallel-item:first-child::after {align-self: flex-end;width: 50%;}#sk-container-id-2 div.sk-parallel-item:last-child::after {align-self: flex-start;width: 50%;}#sk-container-id-2 div.sk-parallel-item:only-child::after {width: 0;}#sk-container-id-2 div.sk-dashed-wrapped {border: 1px dashed gray;margin: 0 0.4em 0.5em 0.4em;box-sizing: border-box;padding-bottom: 0.4em;background-color: white;}#sk-container-id-2 div.sk-label label {font-family: monospace;font-weight: bold;display: inline-block;line-height: 1.2em;}#sk-container-id-2 div.sk-label-container {text-align: center;}#sk-container-id-2 div.sk-container {/* jupyter's `normalize.less` sets `[hidden] { display: none; }` but bootstrap.min.css set `[hidden] { display: none !important; }` so we also need the `!important` here to be able to override the default hidden behavior on the sphinx rendered scikit-learn.org. See: https://github.com/scikit-learn/scikit-learn/issues/21755 */display: inline-block !important;position: relative;}#sk-container-id-2 div.sk-text-repr-fallback {display: none;}</style><div id=\"sk-container-id-2\" class=\"sk-top-container\"><div class=\"sk-text-repr-fallback\"><pre>LinearRegression()</pre><b>In a Jupyter environment, please rerun this cell to show the HTML representation or trust the notebook. <br />On GitHub, the HTML representation is unable to render, please try loading this page with nbviewer.org.</b></div><div class=\"sk-container\" hidden><div class=\"sk-item\"><div class=\"sk-estimator sk-toggleable\"><input class=\"sk-toggleable__control sk-hidden--visually\" id=\"sk-estimator-id-2\" type=\"checkbox\" checked><label for=\"sk-estimator-id-2\" class=\"sk-toggleable__label sk-toggleable__label-arrow\">LinearRegression</label><div class=\"sk-toggleable__content\"><pre>LinearRegression()</pre></div></div></div></div></div>"
      ],
      "text/plain": [
       "LinearRegression()"
      ]
     },
     "execution_count": 34,
     "metadata": {},
     "output_type": "execute_result"
    }
   ],
   "source": [
    "from sklearn.linear_model import LinearRegression\n",
    "from sklearn.model_selection import cross_val_score\n",
    "\n",
    "# Configurar el modelo de Regresión Lineal\n",
    "linear_model = LinearRegression()\n",
    "\n",
    "# Evaluar el modelo usando validación cruzada\n",
    "linear_cv_scores = cross_val_score(linear_model, X_train, y_train, cv=5, scoring='neg_mean_squared_error')\n",
    "mean_linear_cv_score = linear_cv_scores.mean()\n",
    "print(\"MSE promedio para Regresión Lineal:\", -mean_linear_cv_score)\n",
    "\n",
    "# Entrenar el modelo de Regresión Lineal\n",
    "linear_model.fit(X_train, y_train)\n"
   ]
  },
  {
   "cell_type": "code",
   "execution_count": 35,
   "metadata": {},
   "outputs": [
    {
     "name": "stdout",
     "output_type": "stream",
     "text": [
      "Mejor modelo: Regresión Ridge\n"
     ]
    }
   ],
   "source": [
    "# Comparar los MSE de validación cruzada\n",
    "mse_scores = {\n",
    "    'Regresión Lineal': -mean_linear_cv_score,\n",
    "    'Regresión Ridge': -ridge_cv.best_score_\n",
    "}\n",
    "\n",
    "best_model_name = min(mse_scores, key=mse_scores.get)\n",
    "print(\"Mejor modelo:\", best_model_name)\n"
   ]
  },
  {
   "cell_type": "code",
   "execution_count": 36,
   "metadata": {},
   "outputs": [
    {
     "ename": "NameError",
     "evalue": "name 'best_ridge' is not defined",
     "output_type": "error",
     "traceback": [
      "\u001b[0;31m---------------------------------------------------------------------------\u001b[0m",
      "\u001b[0;31mNameError\u001b[0m                                 Traceback (most recent call last)",
      "Cell \u001b[0;32mIn[36], line 7\u001b[0m\n\u001b[1;32m      4\u001b[0m     \u001b[38;5;28mprint\u001b[39m(\u001b[38;5;124m\"\u001b[39m\u001b[38;5;124mFórmula del modelo: y = \u001b[39m\u001b[38;5;132;01m{:.3f}\u001b[39;00m\u001b[38;5;124m + \u001b[39m\u001b[38;5;132;01m{:.3f}\u001b[39;00m\u001b[38;5;124m*X1 + \u001b[39m\u001b[38;5;132;01m{:.3f}\u001b[39;00m\u001b[38;5;124m*X2 + \u001b[39m\u001b[38;5;132;01m{:.3f}\u001b[39;00m\u001b[38;5;124m*X3 + \u001b[39m\u001b[38;5;132;01m{:.3f}\u001b[39;00m\u001b[38;5;124m*X4 + \u001b[39m\u001b[38;5;132;01m{:.3f}\u001b[39;00m\u001b[38;5;124m*X5\u001b[39m\u001b[38;5;124m\"\u001b[39m\u001b[38;5;241m.\u001b[39mformat(beta_0, \u001b[38;5;241m*\u001b[39mbetas))\n\u001b[1;32m      6\u001b[0m \u001b[38;5;28;01melif\u001b[39;00m best_model_name \u001b[38;5;241m==\u001b[39m \u001b[38;5;124m'\u001b[39m\u001b[38;5;124mRegresión Ridge\u001b[39m\u001b[38;5;124m'\u001b[39m:\n\u001b[0;32m----> 7\u001b[0m     beta_0 \u001b[38;5;241m=\u001b[39m best_ridge\u001b[38;5;241m.\u001b[39mintercept_\n\u001b[1;32m      8\u001b[0m     betas \u001b[38;5;241m=\u001b[39m best_ridge\u001b[38;5;241m.\u001b[39mcoef_\n\u001b[1;32m      9\u001b[0m     \u001b[38;5;28mprint\u001b[39m(\u001b[38;5;124m\"\u001b[39m\u001b[38;5;124mFórmula del modelo Ridge: y = \u001b[39m\u001b[38;5;132;01m{:.3f}\u001b[39;00m\u001b[38;5;124m + \u001b[39m\u001b[38;5;132;01m{:.3f}\u001b[39;00m\u001b[38;5;124m*X1 + \u001b[39m\u001b[38;5;132;01m{:.3f}\u001b[39;00m\u001b[38;5;124m*X2 + \u001b[39m\u001b[38;5;132;01m{:.3f}\u001b[39;00m\u001b[38;5;124m*X3 + \u001b[39m\u001b[38;5;132;01m{:.3f}\u001b[39;00m\u001b[38;5;124m*X4 + \u001b[39m\u001b[38;5;132;01m{:.3f}\u001b[39;00m\u001b[38;5;124m*X5\u001b[39m\u001b[38;5;124m\"\u001b[39m\u001b[38;5;241m.\u001b[39mformat(beta_0, \u001b[38;5;241m*\u001b[39mbetas))\n",
      "\u001b[0;31mNameError\u001b[0m: name 'best_ridge' is not defined"
     ]
    }
   ],
   "source": [
    "if best_model_name == 'Regresión Lineal':\n",
    "    beta_0 = model.intercept_\n",
    "    betas = model.coef_\n",
    "    print(\"Fórmula del modelo: y = {:.3f} + {:.3f}*X1 + {:.3f}*X2 + {:.3f}*X3 + {:.3f}*X4 + {:.3f}*X5\".format(beta_0, *betas))\n",
    "\n",
    "elif best_model_name == 'Regresión Ridge':\n",
    "    beta_0 = best_ridge.intercept_\n",
    "    betas = best_ridge.coef_\n",
    "    print(\"Fórmula del modelo Ridge: y = {:.3f} + {:.3f}*X1 + {:.3f}*X2 + {:.3f}*X3 + {:.3f}*X4 + {:.3f}*X5\".format(beta_0, *betas))\n"
   ]
  },
  {
   "cell_type": "code",
   "execution_count": null,
   "metadata": {},
   "outputs": [
    {
     "name": "stdout",
     "output_type": "stream",
     "text": [
      "Modelo 2 - Regresión Polinómica (grado 2)\n",
      "MSE: 4586851.495980073\n",
      "R²: 0.9550487943076833\n"
     ]
    }
   ],
   "source": [
    "# Crear y entrenar el modelo de Regresión Polinómica (grado 2)\n",
    "from sklearn.preprocessing import PolynomialFeatures\n",
    "poly = PolynomialFeatures(degree=2)\n",
    "X_train_poly = poly.fit_transform(X_train)\n",
    "X_test_poly = poly.transform(X_test)\n",
    "\n",
    "model_2 = LinearRegression()\n",
    "model_2.fit(X_train_poly, y_train)\n",
    "\n",
    "# Predecir y evaluar\n",
    "y_pred_2 = model_2.predict(X_test_poly)\n",
    "mse_2 = mean_squared_error(y_test, y_pred_2)\n",
    "r2_2 = r2_score(y_test, y_pred_2)\n",
    "\n",
    "print(\"Modelo 2 - Regresión Polinómica (grado 2)\")\n",
    "print(\"MSE:\", mse_2)\n",
    "print(\"R²:\", r2_2)\n"
   ]
  },
  {
   "cell_type": "code",
   "execution_count": null,
   "metadata": {},
   "outputs": [],
   "source": []
  }
 ],
 "metadata": {
  "kernelspec": {
   "display_name": "Python 3",
   "language": "python",
   "name": "python3"
  },
  "language_info": {
   "codemirror_mode": {
    "name": "ipython",
    "version": 3
   },
   "file_extension": ".py",
   "mimetype": "text/x-python",
   "name": "python",
   "nbconvert_exporter": "python",
   "pygments_lexer": "ipython3",
   "version": "3.11.7"
  }
 },
 "nbformat": 4,
 "nbformat_minor": 2
}
