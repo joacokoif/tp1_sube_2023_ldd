{
 "cells": [
  {
   "cell_type": "markdown",
   "metadata": {},
   "source": [
    "# TP1 SUBE 2023"
   ]
  },
  {
   "cell_type": "code",
   "execution_count": 110,
   "metadata": {},
   "outputs": [],
   "source": [
    "import numpy as np\n",
    "import pandas as pd\n",
    "import matplotlib.pyplot as plt\n",
    "import seaborn as sns\n",
    "import seaborn.objects as so\n",
    "import matplotlib.pyplot as plt"
   ]
  },
  {
   "cell_type": "markdown",
   "metadata": {},
   "source": [
    "# Procesamiento de datos"
   ]
  },
  {
   "cell_type": "markdown",
   "metadata": {},
   "source": [
    "### 1"
   ]
  },
  {
   "cell_type": "code",
   "execution_count": 48,
   "metadata": {},
   "outputs": [
    {
     "data": {
      "text/html": [
       "<div>\n",
       "<style scoped>\n",
       "    .dataframe tbody tr th:only-of-type {\n",
       "        vertical-align: middle;\n",
       "    }\n",
       "\n",
       "    .dataframe tbody tr th {\n",
       "        vertical-align: top;\n",
       "    }\n",
       "\n",
       "    .dataframe thead th {\n",
       "        text-align: right;\n",
       "    }\n",
       "</style>\n",
       "<table border=\"1\" class=\"dataframe\">\n",
       "  <thead>\n",
       "    <tr style=\"text-align: right;\">\n",
       "      <th></th>\n",
       "      <th>DIA_TRANSPORTE</th>\n",
       "      <th>NOMBRE_EMPRESA</th>\n",
       "      <th>LINEA</th>\n",
       "      <th>AMBA</th>\n",
       "      <th>TIPO_TRANSPORTE</th>\n",
       "      <th>JURISDICCION</th>\n",
       "      <th>PROVINCIA</th>\n",
       "      <th>MUNICIPIO</th>\n",
       "      <th>CANTIDAD</th>\n",
       "      <th>DATO_PRELIMINAR</th>\n",
       "    </tr>\n",
       "  </thead>\n",
       "  <tbody>\n",
       "    <tr>\n",
       "      <th>0</th>\n",
       "      <td>2023-01-01</td>\n",
       "      <td>MUNICIPALIDAD DE MERCEDES PROVINCIA DE BUENOS ...</td>\n",
       "      <td>1</td>\n",
       "      <td>SI</td>\n",
       "      <td>COLECTIVO</td>\n",
       "      <td>MUNICIPAL</td>\n",
       "      <td>BUENOS AIRES</td>\n",
       "      <td>MERCEDES</td>\n",
       "      <td>61</td>\n",
       "      <td>NO</td>\n",
       "    </tr>\n",
       "    <tr>\n",
       "      <th>1</th>\n",
       "      <td>2023-01-01</td>\n",
       "      <td>MUNICIPALIDAD DE MERCEDES PROVINCIA DE BUENOS ...</td>\n",
       "      <td>2B</td>\n",
       "      <td>SI</td>\n",
       "      <td>COLECTIVO</td>\n",
       "      <td>MUNICIPAL</td>\n",
       "      <td>BUENOS AIRES</td>\n",
       "      <td>MERCEDES</td>\n",
       "      <td>11</td>\n",
       "      <td>NO</td>\n",
       "    </tr>\n",
       "    <tr>\n",
       "      <th>2</th>\n",
       "      <td>2023-01-01</td>\n",
       "      <td>EMPRESA BATAN S.A.</td>\n",
       "      <td>BS_AS_LINEA 715M</td>\n",
       "      <td>NO</td>\n",
       "      <td>COLECTIVO</td>\n",
       "      <td>MUNICIPAL</td>\n",
       "      <td>BUENOS AIRES</td>\n",
       "      <td>GENERAL PUEYRREDON</td>\n",
       "      <td>1707</td>\n",
       "      <td>NO</td>\n",
       "    </tr>\n",
       "    <tr>\n",
       "      <th>3</th>\n",
       "      <td>2023-01-01</td>\n",
       "      <td>COMPAÑIA  DE TRANSPORTE VECINAL S.A.</td>\n",
       "      <td>BS_AS_LINEA_326</td>\n",
       "      <td>SI</td>\n",
       "      <td>COLECTIVO</td>\n",
       "      <td>PROVINCIAL</td>\n",
       "      <td>BUENOS AIRES</td>\n",
       "      <td>SN</td>\n",
       "      <td>438</td>\n",
       "      <td>NO</td>\n",
       "    </tr>\n",
       "    <tr>\n",
       "      <th>4</th>\n",
       "      <td>2023-01-01</td>\n",
       "      <td>EMPRESA DE TRANSPORTE PERALTA RAMOS SACI</td>\n",
       "      <td>BS_AS_LINEA_512</td>\n",
       "      <td>NO</td>\n",
       "      <td>COLECTIVO</td>\n",
       "      <td>MUNICIPAL</td>\n",
       "      <td>BUENOS AIRES</td>\n",
       "      <td>GENERAL PUEYRREDON</td>\n",
       "      <td>1189</td>\n",
       "      <td>NO</td>\n",
       "    </tr>\n",
       "  </tbody>\n",
       "</table>\n",
       "</div>"
      ],
      "text/plain": [
       "  DIA_TRANSPORTE                                     NOMBRE_EMPRESA  \\\n",
       "0     2023-01-01  MUNICIPALIDAD DE MERCEDES PROVINCIA DE BUENOS ...   \n",
       "1     2023-01-01  MUNICIPALIDAD DE MERCEDES PROVINCIA DE BUENOS ...   \n",
       "2     2023-01-01                                 EMPRESA BATAN S.A.   \n",
       "3     2023-01-01               COMPAÑIA  DE TRANSPORTE VECINAL S.A.   \n",
       "4     2023-01-01           EMPRESA DE TRANSPORTE PERALTA RAMOS SACI   \n",
       "\n",
       "              LINEA AMBA TIPO_TRANSPORTE JURISDICCION     PROVINCIA  \\\n",
       "0                 1   SI       COLECTIVO    MUNICIPAL  BUENOS AIRES   \n",
       "1                2B   SI       COLECTIVO    MUNICIPAL  BUENOS AIRES   \n",
       "2  BS_AS_LINEA 715M   NO       COLECTIVO    MUNICIPAL  BUENOS AIRES   \n",
       "3   BS_AS_LINEA_326   SI       COLECTIVO   PROVINCIAL  BUENOS AIRES   \n",
       "4   BS_AS_LINEA_512   NO       COLECTIVO    MUNICIPAL  BUENOS AIRES   \n",
       "\n",
       "            MUNICIPIO  CANTIDAD DATO_PRELIMINAR  \n",
       "0            MERCEDES        61              NO  \n",
       "1            MERCEDES        11              NO  \n",
       "2  GENERAL PUEYRREDON      1707              NO  \n",
       "3                  SN       438              NO  \n",
       "4  GENERAL PUEYRREDON      1189              NO  "
      ]
     },
     "execution_count": 48,
     "metadata": {},
     "output_type": "execute_result"
    }
   ],
   "source": [
    "sube_2023 = pd.read_csv(\"sube-2023.csv\")\n",
    "sube_2023.head()"
   ]
  },
  {
   "cell_type": "markdown",
   "metadata": {},
   "source": [
    "##### Transformar la columna DIA_TRANSPORTE para que sea reconocida como una fecha."
   ]
  },
  {
   "cell_type": "code",
   "execution_count": 49,
   "metadata": {},
   "outputs": [
    {
     "data": {
      "text/html": [
       "<div>\n",
       "<style scoped>\n",
       "    .dataframe tbody tr th:only-of-type {\n",
       "        vertical-align: middle;\n",
       "    }\n",
       "\n",
       "    .dataframe tbody tr th {\n",
       "        vertical-align: top;\n",
       "    }\n",
       "\n",
       "    .dataframe thead th {\n",
       "        text-align: right;\n",
       "    }\n",
       "</style>\n",
       "<table border=\"1\" class=\"dataframe\">\n",
       "  <thead>\n",
       "    <tr style=\"text-align: right;\">\n",
       "      <th></th>\n",
       "      <th>FECHA</th>\n",
       "      <th>NOMBRE_EMPRESA</th>\n",
       "      <th>LINEA</th>\n",
       "      <th>AMBA</th>\n",
       "      <th>TIPO_TRANSPORTE</th>\n",
       "      <th>JURISDICCION</th>\n",
       "      <th>PROVINCIA</th>\n",
       "      <th>MUNICIPIO</th>\n",
       "      <th>CANTIDAD</th>\n",
       "      <th>DATO_PRELIMINAR</th>\n",
       "    </tr>\n",
       "  </thead>\n",
       "  <tbody>\n",
       "    <tr>\n",
       "      <th>0</th>\n",
       "      <td>2023-01-01</td>\n",
       "      <td>MUNICIPALIDAD DE MERCEDES PROVINCIA DE BUENOS ...</td>\n",
       "      <td>1</td>\n",
       "      <td>SI</td>\n",
       "      <td>COLECTIVO</td>\n",
       "      <td>MUNICIPAL</td>\n",
       "      <td>BUENOS AIRES</td>\n",
       "      <td>MERCEDES</td>\n",
       "      <td>61</td>\n",
       "      <td>NO</td>\n",
       "    </tr>\n",
       "    <tr>\n",
       "      <th>1</th>\n",
       "      <td>2023-01-01</td>\n",
       "      <td>MUNICIPALIDAD DE MERCEDES PROVINCIA DE BUENOS ...</td>\n",
       "      <td>2B</td>\n",
       "      <td>SI</td>\n",
       "      <td>COLECTIVO</td>\n",
       "      <td>MUNICIPAL</td>\n",
       "      <td>BUENOS AIRES</td>\n",
       "      <td>MERCEDES</td>\n",
       "      <td>11</td>\n",
       "      <td>NO</td>\n",
       "    </tr>\n",
       "    <tr>\n",
       "      <th>2</th>\n",
       "      <td>2023-01-01</td>\n",
       "      <td>EMPRESA BATAN S.A.</td>\n",
       "      <td>BS_AS_LINEA 715M</td>\n",
       "      <td>NO</td>\n",
       "      <td>COLECTIVO</td>\n",
       "      <td>MUNICIPAL</td>\n",
       "      <td>BUENOS AIRES</td>\n",
       "      <td>GENERAL PUEYRREDON</td>\n",
       "      <td>1707</td>\n",
       "      <td>NO</td>\n",
       "    </tr>\n",
       "    <tr>\n",
       "      <th>3</th>\n",
       "      <td>2023-01-01</td>\n",
       "      <td>COMPAÑIA  DE TRANSPORTE VECINAL S.A.</td>\n",
       "      <td>BS_AS_LINEA_326</td>\n",
       "      <td>SI</td>\n",
       "      <td>COLECTIVO</td>\n",
       "      <td>PROVINCIAL</td>\n",
       "      <td>BUENOS AIRES</td>\n",
       "      <td>SN</td>\n",
       "      <td>438</td>\n",
       "      <td>NO</td>\n",
       "    </tr>\n",
       "    <tr>\n",
       "      <th>4</th>\n",
       "      <td>2023-01-01</td>\n",
       "      <td>EMPRESA DE TRANSPORTE PERALTA RAMOS SACI</td>\n",
       "      <td>BS_AS_LINEA_512</td>\n",
       "      <td>NO</td>\n",
       "      <td>COLECTIVO</td>\n",
       "      <td>MUNICIPAL</td>\n",
       "      <td>BUENOS AIRES</td>\n",
       "      <td>GENERAL PUEYRREDON</td>\n",
       "      <td>1189</td>\n",
       "      <td>NO</td>\n",
       "    </tr>\n",
       "  </tbody>\n",
       "</table>\n",
       "</div>"
      ],
      "text/plain": [
       "        FECHA                                     NOMBRE_EMPRESA  \\\n",
       "0  2023-01-01  MUNICIPALIDAD DE MERCEDES PROVINCIA DE BUENOS ...   \n",
       "1  2023-01-01  MUNICIPALIDAD DE MERCEDES PROVINCIA DE BUENOS ...   \n",
       "2  2023-01-01                                 EMPRESA BATAN S.A.   \n",
       "3  2023-01-01               COMPAÑIA  DE TRANSPORTE VECINAL S.A.   \n",
       "4  2023-01-01           EMPRESA DE TRANSPORTE PERALTA RAMOS SACI   \n",
       "\n",
       "              LINEA AMBA TIPO_TRANSPORTE JURISDICCION     PROVINCIA  \\\n",
       "0                 1   SI       COLECTIVO    MUNICIPAL  BUENOS AIRES   \n",
       "1                2B   SI       COLECTIVO    MUNICIPAL  BUENOS AIRES   \n",
       "2  BS_AS_LINEA 715M   NO       COLECTIVO    MUNICIPAL  BUENOS AIRES   \n",
       "3   BS_AS_LINEA_326   SI       COLECTIVO   PROVINCIAL  BUENOS AIRES   \n",
       "4   BS_AS_LINEA_512   NO       COLECTIVO    MUNICIPAL  BUENOS AIRES   \n",
       "\n",
       "            MUNICIPIO  CANTIDAD DATO_PRELIMINAR  \n",
       "0            MERCEDES        61              NO  \n",
       "1            MERCEDES        11              NO  \n",
       "2  GENERAL PUEYRREDON      1707              NO  \n",
       "3                  SN       438              NO  \n",
       "4  GENERAL PUEYRREDON      1189              NO  "
      ]
     },
     "execution_count": 49,
     "metadata": {},
     "output_type": "execute_result"
    }
   ],
   "source": [
    "sube_2023_fecha =sube_2023.rename(columns={\"DIA_TRANSPORTE\" : \"FECHA\"})\n",
    "sube_2023_fecha.head()"
   ]
  },
  {
   "cell_type": "markdown",
   "metadata": {},
   "source": [
    "##### Agregar tres columnas al DataFrame:\n",
    "* FECHA_DIA \n",
    "* FECHA_ORDINAL\n",
    "* FECHA_MES"
   ]
  },
  {
   "cell_type": "code",
   "execution_count": 50,
   "metadata": {},
   "outputs": [
    {
     "data": {
      "text/html": [
       "<div>\n",
       "<style scoped>\n",
       "    .dataframe tbody tr th:only-of-type {\n",
       "        vertical-align: middle;\n",
       "    }\n",
       "\n",
       "    .dataframe tbody tr th {\n",
       "        vertical-align: top;\n",
       "    }\n",
       "\n",
       "    .dataframe thead th {\n",
       "        text-align: right;\n",
       "    }\n",
       "</style>\n",
       "<table border=\"1\" class=\"dataframe\">\n",
       "  <thead>\n",
       "    <tr style=\"text-align: right;\">\n",
       "      <th></th>\n",
       "      <th>FECHA</th>\n",
       "      <th>NOMBRE_EMPRESA</th>\n",
       "      <th>LINEA</th>\n",
       "      <th>AMBA</th>\n",
       "      <th>TIPO_TRANSPORTE</th>\n",
       "      <th>JURISDICCION</th>\n",
       "      <th>PROVINCIA</th>\n",
       "      <th>MUNICIPIO</th>\n",
       "      <th>CANTIDAD</th>\n",
       "      <th>DATO_PRELIMINAR</th>\n",
       "      <th>DIA_TRANSPORTE</th>\n",
       "      <th>FECHA_ORDINAL</th>\n",
       "      <th>FECHA_MES</th>\n",
       "    </tr>\n",
       "  </thead>\n",
       "  <tbody>\n",
       "    <tr>\n",
       "      <th>0</th>\n",
       "      <td>2023-01-01</td>\n",
       "      <td>MUNICIPALIDAD DE MERCEDES PROVINCIA DE BUENOS ...</td>\n",
       "      <td>1</td>\n",
       "      <td>SI</td>\n",
       "      <td>COLECTIVO</td>\n",
       "      <td>MUNICIPAL</td>\n",
       "      <td>BUENOS AIRES</td>\n",
       "      <td>MERCEDES</td>\n",
       "      <td>61</td>\n",
       "      <td>NO</td>\n",
       "      <td>Sun</td>\n",
       "      <td>1</td>\n",
       "      <td>01</td>\n",
       "    </tr>\n",
       "    <tr>\n",
       "      <th>1</th>\n",
       "      <td>2023-01-01</td>\n",
       "      <td>MUNICIPALIDAD DE MERCEDES PROVINCIA DE BUENOS ...</td>\n",
       "      <td>2B</td>\n",
       "      <td>SI</td>\n",
       "      <td>COLECTIVO</td>\n",
       "      <td>MUNICIPAL</td>\n",
       "      <td>BUENOS AIRES</td>\n",
       "      <td>MERCEDES</td>\n",
       "      <td>11</td>\n",
       "      <td>NO</td>\n",
       "      <td>Sun</td>\n",
       "      <td>1</td>\n",
       "      <td>01</td>\n",
       "    </tr>\n",
       "    <tr>\n",
       "      <th>2</th>\n",
       "      <td>2023-01-01</td>\n",
       "      <td>EMPRESA BATAN S.A.</td>\n",
       "      <td>BS_AS_LINEA 715M</td>\n",
       "      <td>NO</td>\n",
       "      <td>COLECTIVO</td>\n",
       "      <td>MUNICIPAL</td>\n",
       "      <td>BUENOS AIRES</td>\n",
       "      <td>GENERAL PUEYRREDON</td>\n",
       "      <td>1707</td>\n",
       "      <td>NO</td>\n",
       "      <td>Sun</td>\n",
       "      <td>1</td>\n",
       "      <td>01</td>\n",
       "    </tr>\n",
       "    <tr>\n",
       "      <th>3</th>\n",
       "      <td>2023-01-01</td>\n",
       "      <td>COMPAÑIA  DE TRANSPORTE VECINAL S.A.</td>\n",
       "      <td>BS_AS_LINEA_326</td>\n",
       "      <td>SI</td>\n",
       "      <td>COLECTIVO</td>\n",
       "      <td>PROVINCIAL</td>\n",
       "      <td>BUENOS AIRES</td>\n",
       "      <td>SN</td>\n",
       "      <td>438</td>\n",
       "      <td>NO</td>\n",
       "      <td>Sun</td>\n",
       "      <td>1</td>\n",
       "      <td>01</td>\n",
       "    </tr>\n",
       "    <tr>\n",
       "      <th>4</th>\n",
       "      <td>2023-01-01</td>\n",
       "      <td>EMPRESA DE TRANSPORTE PERALTA RAMOS SACI</td>\n",
       "      <td>BS_AS_LINEA_512</td>\n",
       "      <td>NO</td>\n",
       "      <td>COLECTIVO</td>\n",
       "      <td>MUNICIPAL</td>\n",
       "      <td>BUENOS AIRES</td>\n",
       "      <td>GENERAL PUEYRREDON</td>\n",
       "      <td>1189</td>\n",
       "      <td>NO</td>\n",
       "      <td>Sun</td>\n",
       "      <td>1</td>\n",
       "      <td>01</td>\n",
       "    </tr>\n",
       "  </tbody>\n",
       "</table>\n",
       "</div>"
      ],
      "text/plain": [
       "       FECHA                                     NOMBRE_EMPRESA  \\\n",
       "0 2023-01-01  MUNICIPALIDAD DE MERCEDES PROVINCIA DE BUENOS ...   \n",
       "1 2023-01-01  MUNICIPALIDAD DE MERCEDES PROVINCIA DE BUENOS ...   \n",
       "2 2023-01-01                                 EMPRESA BATAN S.A.   \n",
       "3 2023-01-01               COMPAÑIA  DE TRANSPORTE VECINAL S.A.   \n",
       "4 2023-01-01           EMPRESA DE TRANSPORTE PERALTA RAMOS SACI   \n",
       "\n",
       "              LINEA AMBA TIPO_TRANSPORTE JURISDICCION     PROVINCIA  \\\n",
       "0                 1   SI       COLECTIVO    MUNICIPAL  BUENOS AIRES   \n",
       "1                2B   SI       COLECTIVO    MUNICIPAL  BUENOS AIRES   \n",
       "2  BS_AS_LINEA 715M   NO       COLECTIVO    MUNICIPAL  BUENOS AIRES   \n",
       "3   BS_AS_LINEA_326   SI       COLECTIVO   PROVINCIAL  BUENOS AIRES   \n",
       "4   BS_AS_LINEA_512   NO       COLECTIVO    MUNICIPAL  BUENOS AIRES   \n",
       "\n",
       "            MUNICIPIO  CANTIDAD DATO_PRELIMINAR DIA_TRANSPORTE  FECHA_ORDINAL  \\\n",
       "0            MERCEDES        61              NO            Sun              1   \n",
       "1            MERCEDES        11              NO            Sun              1   \n",
       "2  GENERAL PUEYRREDON      1707              NO            Sun              1   \n",
       "3                  SN       438              NO            Sun              1   \n",
       "4  GENERAL PUEYRREDON      1189              NO            Sun              1   \n",
       "\n",
       "  FECHA_MES  \n",
       "0        01  \n",
       "1        01  \n",
       "2        01  \n",
       "3        01  \n",
       "4        01  "
      ]
     },
     "execution_count": 50,
     "metadata": {},
     "output_type": "execute_result"
    }
   ],
   "source": [
    "sube_2023_fecha['FECHA'] = pd.to_datetime(sube_2023_fecha['FECHA'])\n",
    "sube_2023_fecha[\"DIA_TRANSPORTE\"] = sube_2023_fecha[\"FECHA\"].dt.strftime('%a').str[:3]\n",
    "sube_2023_fecha[\"FECHA_ORDINAL\"] = sube_2023_fecha[\"FECHA\"].dt.dayofyear\n",
    "sube_2023_fecha[\"FECHA_MES\"] = sube_2023_fecha[\"FECHA\"].dt.strftime('%m')\n",
    "sube_2023_fecha.head()"
   ]
  },
  {
   "cell_type": "markdown",
   "metadata": {},
   "source": [
    "### 2"
   ]
  },
  {
   "cell_type": "markdown",
   "metadata": {},
   "source": [
    "##### Crear el DataFrame datos_amba"
   ]
  },
  {
   "cell_type": "code",
   "execution_count": 66,
   "metadata": {},
   "outputs": [
    {
     "data": {
      "text/html": [
       "<div>\n",
       "<style scoped>\n",
       "    .dataframe tbody tr th:only-of-type {\n",
       "        vertical-align: middle;\n",
       "    }\n",
       "\n",
       "    .dataframe tbody tr th {\n",
       "        vertical-align: top;\n",
       "    }\n",
       "\n",
       "    .dataframe thead th {\n",
       "        text-align: right;\n",
       "    }\n",
       "</style>\n",
       "<table border=\"1\" class=\"dataframe\">\n",
       "  <thead>\n",
       "    <tr style=\"text-align: right;\">\n",
       "      <th></th>\n",
       "      <th>fecha</th>\n",
       "      <th>fecha_dia</th>\n",
       "      <th>fecha_mes</th>\n",
       "      <th>fecha_ordinal</th>\n",
       "      <th>jurisdiccion</th>\n",
       "      <th>linea</th>\n",
       "      <th>pasajeros</th>\n",
       "      <th>tipo_transporte</th>\n",
       "    </tr>\n",
       "  </thead>\n",
       "  <tbody>\n",
       "    <tr>\n",
       "      <th>0</th>\n",
       "      <td>2023-01-01</td>\n",
       "      <td>Sun</td>\n",
       "      <td>01</td>\n",
       "      <td>1</td>\n",
       "      <td>MUNICIPAL</td>\n",
       "      <td>1</td>\n",
       "      <td>61</td>\n",
       "      <td>COLECTIVO</td>\n",
       "    </tr>\n",
       "    <tr>\n",
       "      <th>1</th>\n",
       "      <td>2023-01-01</td>\n",
       "      <td>Sun</td>\n",
       "      <td>01</td>\n",
       "      <td>1</td>\n",
       "      <td>MUNICIPAL</td>\n",
       "      <td>2B</td>\n",
       "      <td>11</td>\n",
       "      <td>COLECTIVO</td>\n",
       "    </tr>\n",
       "    <tr>\n",
       "      <th>3</th>\n",
       "      <td>2023-01-01</td>\n",
       "      <td>Sun</td>\n",
       "      <td>01</td>\n",
       "      <td>1</td>\n",
       "      <td>PROVINCIAL</td>\n",
       "      <td>BS_AS_LINEA_326</td>\n",
       "      <td>438</td>\n",
       "      <td>COLECTIVO</td>\n",
       "    </tr>\n",
       "    <tr>\n",
       "      <th>5</th>\n",
       "      <td>2023-01-01</td>\n",
       "      <td>Sun</td>\n",
       "      <td>01</td>\n",
       "      <td>1</td>\n",
       "      <td>MUNICIPAL</td>\n",
       "      <td>BS_AS_LINEA_514</td>\n",
       "      <td>3067</td>\n",
       "      <td>COLECTIVO</td>\n",
       "    </tr>\n",
       "    <tr>\n",
       "      <th>6</th>\n",
       "      <td>2023-01-01</td>\n",
       "      <td>Sun</td>\n",
       "      <td>01</td>\n",
       "      <td>1</td>\n",
       "      <td>MUNICIPAL</td>\n",
       "      <td>BS_AS_LINEA_522</td>\n",
       "      <td>332</td>\n",
       "      <td>COLECTIVO</td>\n",
       "    </tr>\n",
       "  </tbody>\n",
       "</table>\n",
       "</div>"
      ],
      "text/plain": [
       "       fecha fecha_dia fecha_mes  fecha_ordinal jurisdiccion            linea  \\\n",
       "0 2023-01-01       Sun        01              1    MUNICIPAL                1   \n",
       "1 2023-01-01       Sun        01              1    MUNICIPAL               2B   \n",
       "3 2023-01-01       Sun        01              1   PROVINCIAL  BS_AS_LINEA_326   \n",
       "5 2023-01-01       Sun        01              1    MUNICIPAL  BS_AS_LINEA_514   \n",
       "6 2023-01-01       Sun        01              1    MUNICIPAL  BS_AS_LINEA_522   \n",
       "\n",
       "   pasajeros tipo_transporte  \n",
       "0         61       COLECTIVO  \n",
       "1         11       COLECTIVO  \n",
       "3        438       COLECTIVO  \n",
       "5       3067       COLECTIVO  \n",
       "6        332       COLECTIVO  "
      ]
     },
     "execution_count": 66,
     "metadata": {},
     "output_type": "execute_result"
    }
   ],
   "source": [
    "restricciones = (sube_2023_fecha[\"AMBA\"] == \"SI\") & (sube_2023_fecha[\"DATO_PRELIMINAR\"]== \"NO\")\n",
    "#DEBE TENER DATOS DEL AMBA, Y NO DEBE TENER DATOS PRELIMINARES.\n",
    "sube_2023_fecha_ = sube_2023_fecha[restricciones].copy()\n",
    "data = {\n",
    "    \"fecha\": sube_2023_fecha_[\"FECHA\"],\n",
    "    \"fecha_dia\": sube_2023_fecha_[\"DIA_TRANSPORTE\"],\n",
    "    \"fecha_mes\" : sube_2023_fecha_[\"FECHA_MES\"],\n",
    "    \"fecha_ordinal\": sube_2023_fecha_[\"FECHA_ORDINAL\"],\n",
    "    \"jurisdiccion\" :sube_2023_fecha_[\"JURISDICCION\"],\n",
    "    \"linea\" :sube_2023_fecha_[\"LINEA\"],\n",
    "    \"pasajeros\" :sube_2023_fecha_[\"CANTIDAD\"],\n",
    "    \"tipo_transporte\" :sube_2023_fecha_[\"TIPO_TRANSPORTE\"]\n",
    "}\n",
    "datos_amba = pd.DataFrame(data)\n",
    "datos_amba.head()\n",
    "\n",
    "#PREGUNTAR LO DE LAS TRES LETRAS DEL DIA "
   ]
  },
  {
   "cell_type": "markdown",
   "metadata": {},
   "source": [
    "### 3"
   ]
  },
  {
   "cell_type": "markdown",
   "metadata": {},
   "source": [
    "##### Identificar:\n",
    "* La proporción de la cantidad total anual de pasajeros que le corresponde a cada medio de transporte\n",
    "* La tupla (mes, línea de subte) donde viajó la mayor cantidad de pasajeros\n",
    "* El día hábil con menor desvío estándar en cantidad de pasajeros"
   ]
  },
  {
   "cell_type": "code",
   "execution_count": 80,
   "metadata": {},
   "outputs": [
    {
     "name": "stdout",
     "output_type": "stream",
     "text": [
      "Proporción de la cantidad total anual de pasajeros por tipo de transporte:\n",
      "tipo_transporte\n",
      "COLECTIVO    0.837645\n",
      "SUBTE        0.068097\n",
      "TREN         0.094258\n",
      "Name: pasajeros, dtype: float64\n",
      "\n",
      "Cantidad total anual de pasajeros por tipo de transporte: 3518818971\n",
      "tipo_transporte\n",
      "COLECTIVO    2947520678\n",
      "SUBTE         239621028\n",
      "TREN          331677265\n",
      "Name: pasajeros, dtype: int64\n"
     ]
    }
   ],
   "source": [
    "pasajeros_por_transporte = datos_amba.groupby(\"tipo_transporte\")[\"pasajeros\"].sum()\n",
    "\n",
    "total_pasajeros = pasajeros_por_transporte.sum()\n",
    "\n",
    "proporcion_pasajeros_por_transporte = pasajeros_por_transporte / total_pasajeros\n",
    "\n",
    "print(\"Proporción de la cantidad total anual de pasajeros por tipo de transporte:\")\n",
    "print(proporcion_pasajeros_por_transporte)\n",
    "print()\n",
    "print(\"Cantidad total anual de pasajeros por tipo de transporte:\", total_pasajeros)\n",
    "print(pasajeros_por_transporte)\n"
   ]
  },
  {
   "cell_type": "code",
   "execution_count": 111,
   "metadata": {},
   "outputs": [
    {
     "data": {
      "image/png": "[encoded data removed]",
      "text/plain": [
       "<Figure size 640x480 with 1 Axes>"
      ]
     },
     "metadata": {},
     "output_type": "display_data"
    }
   ],
   "source": [
    "fig, ax = plt.subplots()\n",
    "\n",
    "proporcion_pasajeros_por_transporte.plot(kind='bar', ax=ax)\n",
    "\n",
    "ax.set_title('Proporción de pasajeros por tipo de transporte')\n",
    "ax.set_xlabel('Tipo de transporte')\n",
    "ax.set_ylabel('Proporción de pasajeros')\n",
    "\n",
    "plt.show()"
   ]
  },
  {
   "cell_type": "code",
   "execution_count": 100,
   "metadata": {},
   "outputs": [
    {
     "name": "stdout",
     "output_type": "stream",
     "text": [
      "La tupla (mes, línea de subte) donde viajó la mayor cantidad de pasajeros es: ('08', 'LINEA_B')\n"
     ]
    }
   ],
   "source": [
    "datos_subte = datos_amba[datos_amba[\"tipo_transporte\"] == \"SUBTE\"]\n",
    "pasajeros_por_mes_y_linea = datos_subte.groupby([\"fecha_mes\", \"linea\"])[\"pasajeros\"].sum()\n",
    "mayor_cantidad_pasajeros = pasajeros_por_mes_y_linea.idxmax()\n",
    "\n",
    "print(\"La tupla (mes, línea de subte) donde viajó la mayor cantidad de pasajeros es:\", mayor_cantidad_pasajeros)"
   ]
  },
  {
   "cell_type": "code",
   "execution_count": 109,
   "metadata": {},
   "outputs": [
    {
     "name": "stdout",
     "output_type": "stream",
     "text": [
      "El dia habil con menos concurencia en el transporte publico es Mon con 540161948 pasajeros\n"
     ]
    }
   ],
   "source": [
    "dias_habiles = datos_amba[(datos_amba[\"fecha_dia\"] != \"Sun\") & (datos_amba[\"fecha_dia\"] != \"Sat\")]\n",
    "pasajeros_por_dia = dias_habiles.groupby(\"fecha_dia\")[\"pasajeros\"].std()\n",
    "dia_con_menor_concurrencia = pasajeros_por_dia.idxmin()\n",
    "cantidad_de_pasajeros = dias_habiles[dias_habiles[\"fecha_dia\"] == dia_con_menor_concurrencia][\"pasajeros\"].sum()\n",
    "print(\"El dia habil con menos concurencia en el transporte publico es\", dia_con_menor_concurrencia, \"con\", cantidad_de_pasajeros, \"pasajeros\")\n"
   ]
  },
  {
   "cell_type": "code",
   "execution_count": 119,
   "metadata": {},
   "outputs": [
    {
     "data": {
      "text/plain": [
       "Text(0, 0.5, 'Dia')"
      ]
     },
     "execution_count": 119,
     "metadata": {},
     "output_type": "execute_result"
    },
    {
     "data": {
      "image/png": "[encoded data removed]",
      "text/plain": [
       "<Figure size 640x480 with 1 Axes>"
      ]
     },
     "metadata": {},
     "output_type": "display_data"
    }
   ],
   "source": [
    "fig, ax = plt.subplots()\n",
    "\n",
    "pasajeros_por_dia.plot(kind='bar', ax=ax)\n",
    "\n",
    "ax.set_title('Concurrencia en dias habiles')\n",
    "ax.set_xlabel('Cantidad de pasajeros')\n",
    "ax.set_ylabel('Dia')"
   ]
  },
  {
   "cell_type": "markdown",
   "metadata": {},
   "source": [
    "# Análisis Exploratorio"
   ]
  },
  {
   "cell_type": "markdown",
   "metadata": {},
   "source": [
    "### 4\n"
   ]
  },
  {
   "cell_type": "markdown",
   "metadata": {},
   "source": []
  }
 ],
 "metadata": {
  "kernelspec": {
   "display_name": "Python 3",
   "language": "python",
   "name": "python3"
  },
  "language_info": {
   "codemirror_mode": {
    "name": "ipython",
    "version": 3
   },
   "file_extension": ".py",
   "mimetype": "text/x-python",
   "name": "python",
   "nbconvert_exporter": "python",
   "pygments_lexer": "ipython3",
   "version": "3.10.11"
  }
 },
 "nbformat": 4,
 "nbformat_minor": 2
}
