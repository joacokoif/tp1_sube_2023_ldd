{
 "cells": [
  {
   "cell_type": "markdown",
   "metadata": {},
   "source": [
    "<img src=\"https://upload.wikimedia.org/wikipedia/commons/thumb/2/22/Logo_exactas.svg/800px-Logo_exactas.svg.png\" alt=\"Logo Exactas UBA\" style=\"width:100px;\">\n",
    "<img src=\"\n",
    "https://ic.fcen.uba.ar/images/logo.png\" alt=\"Logo Instituto de Cálculo\" style=\"width:100px;\">\n",
    "\n",
    "# **TP 1: SUBE-2023** \n",
    "\n",
    "\n",
    "\n",
    "### Participantes: Joaquín Koifman y Tobías Palacín Roitbarg"
   ]
  },
  {
   "cell_type": "markdown",
   "metadata": {},
   "source": [
    "## Procesamiento de datos"
   ]
  },
  {
   "cell_type": "code",
   "execution_count": 1,
   "metadata": {},
   "outputs": [],
   "source": [
    "# Importación de librerías necesarias\n",
    "import numpy as np\n",
    "import pandas as pd\n",
    "import matplotlib.pyplot as plt\n",
    "import seaborn as sns\n",
    "import seaborn.objects as so\n",
    "import matplotlib.pyplot as plt\n",
    "import matplotlib.ticker as ticker\n",
    "import geopandas as gpd\n",
    "import json\n",
    "import plotly.express as px"
   ]
  },
  {
   "cell_type": "code",
   "execution_count": 2,
   "metadata": {},
   "outputs": [
    {
     "data": {
      "text/html": [
       "<div>\n",
       "<style scoped>\n",
       "    .dataframe tbody tr th:only-of-type {\n",
       "        vertical-align: middle;\n",
       "    }\n",
       "\n",
       "    .dataframe tbody tr th {\n",
       "        vertical-align: top;\n",
       "    }\n",
       "\n",
       "    .dataframe thead th {\n",
       "        text-align: right;\n",
       "    }\n",
       "</style>\n",
       "<table border=\"1\" class=\"dataframe\">\n",
       "  <thead>\n",
       "    <tr style=\"text-align: right;\">\n",
       "      <th></th>\n",
       "      <th>DIA_TRANSPORTE</th>\n",
       "      <th>NOMBRE_EMPRESA</th>\n",
       "      <th>LINEA</th>\n",
       "      <th>AMBA</th>\n",
       "      <th>TIPO_TRANSPORTE</th>\n",
       "      <th>JURISDICCION</th>\n",
       "      <th>PROVINCIA</th>\n",
       "      <th>MUNICIPIO</th>\n",
       "      <th>CANTIDAD</th>\n",
       "      <th>DATO_PRELIMINAR</th>\n",
       "    </tr>\n",
       "  </thead>\n",
       "  <tbody>\n",
       "    <tr>\n",
       "      <th>0</th>\n",
       "      <td>2023-01-01</td>\n",
       "      <td>MUNICIPALIDAD DE MERCEDES PROVINCIA DE BUENOS ...</td>\n",
       "      <td>1</td>\n",
       "      <td>SI</td>\n",
       "      <td>COLECTIVO</td>\n",
       "      <td>MUNICIPAL</td>\n",
       "      <td>BUENOS AIRES</td>\n",
       "      <td>MERCEDES</td>\n",
       "      <td>61</td>\n",
       "      <td>NO</td>\n",
       "    </tr>\n",
       "    <tr>\n",
       "      <th>1</th>\n",
       "      <td>2023-01-01</td>\n",
       "      <td>MUNICIPALIDAD DE MERCEDES PROVINCIA DE BUENOS ...</td>\n",
       "      <td>2B</td>\n",
       "      <td>SI</td>\n",
       "      <td>COLECTIVO</td>\n",
       "      <td>MUNICIPAL</td>\n",
       "      <td>BUENOS AIRES</td>\n",
       "      <td>MERCEDES</td>\n",
       "      <td>11</td>\n",
       "      <td>NO</td>\n",
       "    </tr>\n",
       "    <tr>\n",
       "      <th>2</th>\n",
       "      <td>2023-01-01</td>\n",
       "      <td>EMPRESA BATAN S.A.</td>\n",
       "      <td>BS_AS_LINEA 715M</td>\n",
       "      <td>NO</td>\n",
       "      <td>COLECTIVO</td>\n",
       "      <td>MUNICIPAL</td>\n",
       "      <td>BUENOS AIRES</td>\n",
       "      <td>GENERAL PUEYRREDON</td>\n",
       "      <td>1707</td>\n",
       "      <td>NO</td>\n",
       "    </tr>\n",
       "    <tr>\n",
       "      <th>3</th>\n",
       "      <td>2023-01-01</td>\n",
       "      <td>COMPAÑIA  DE TRANSPORTE VECINAL S.A.</td>\n",
       "      <td>BS_AS_LINEA_326</td>\n",
       "      <td>SI</td>\n",
       "      <td>COLECTIVO</td>\n",
       "      <td>PROVINCIAL</td>\n",
       "      <td>BUENOS AIRES</td>\n",
       "      <td>SN</td>\n",
       "      <td>438</td>\n",
       "      <td>NO</td>\n",
       "    </tr>\n",
       "    <tr>\n",
       "      <th>4</th>\n",
       "      <td>2023-01-01</td>\n",
       "      <td>EMPRESA DE TRANSPORTE PERALTA RAMOS SACI</td>\n",
       "      <td>BS_AS_LINEA_512</td>\n",
       "      <td>NO</td>\n",
       "      <td>COLECTIVO</td>\n",
       "      <td>MUNICIPAL</td>\n",
       "      <td>BUENOS AIRES</td>\n",
       "      <td>GENERAL PUEYRREDON</td>\n",
       "      <td>1189</td>\n",
       "      <td>NO</td>\n",
       "    </tr>\n",
       "  </tbody>\n",
       "</table>\n",
       "</div>"
      ],
      "text/plain": [
       "  DIA_TRANSPORTE                                     NOMBRE_EMPRESA  \\\n",
       "0     2023-01-01  MUNICIPALIDAD DE MERCEDES PROVINCIA DE BUENOS ...   \n",
       "1     2023-01-01  MUNICIPALIDAD DE MERCEDES PROVINCIA DE BUENOS ...   \n",
       "2     2023-01-01                                 EMPRESA BATAN S.A.   \n",
       "3     2023-01-01               COMPAÑIA  DE TRANSPORTE VECINAL S.A.   \n",
       "4     2023-01-01           EMPRESA DE TRANSPORTE PERALTA RAMOS SACI   \n",
       "\n",
       "              LINEA AMBA TIPO_TRANSPORTE JURISDICCION     PROVINCIA  \\\n",
       "0                 1   SI       COLECTIVO    MUNICIPAL  BUENOS AIRES   \n",
       "1                2B   SI       COLECTIVO    MUNICIPAL  BUENOS AIRES   \n",
       "2  BS_AS_LINEA 715M   NO       COLECTIVO    MUNICIPAL  BUENOS AIRES   \n",
       "3   BS_AS_LINEA_326   SI       COLECTIVO   PROVINCIAL  BUENOS AIRES   \n",
       "4   BS_AS_LINEA_512   NO       COLECTIVO    MUNICIPAL  BUENOS AIRES   \n",
       "\n",
       "            MUNICIPIO  CANTIDAD DATO_PRELIMINAR  \n",
       "0            MERCEDES        61              NO  \n",
       "1            MERCEDES        11              NO  \n",
       "2  GENERAL PUEYRREDON      1707              NO  \n",
       "3                  SN       438              NO  \n",
       "4  GENERAL PUEYRREDON      1189              NO  "
      ]
     },
     "execution_count": 2,
     "metadata": {},
     "output_type": "execute_result"
    }
   ],
   "source": [
    "# Leer dataset y ver las primeras filas\n",
    "datos_sube_2023 = pd.read_csv(\"sube-2023.csv\")\n",
    "datos_sube_2023.head()"
   ]
  },
  {
   "cell_type": "markdown",
   "metadata": {},
   "source": [
    "#### **1. a)** Transformar la columna `DIA_TRANSPORTE` para que sea reconocida como una fecha."
   ]
  },
  {
   "cell_type": "code",
   "execution_count": 3,
   "metadata": {},
   "outputs": [
    {
     "data": {
      "text/plain": [
       "dtype('<M8[ns]')"
      ]
     },
     "execution_count": 3,
     "metadata": {},
     "output_type": "execute_result"
    }
   ],
   "source": [
    "sube_2023=datos_sube_2023.rename(columns={\"DIA_TRANSPORTE\" : \"FECHA\"}) # Renombrar la columna por comodidad\n",
    "sube_2023['FECHA'] = pd.to_datetime(sube_2023['FECHA']) # Aplicar el cambio del tipo de dato sobre la columna correspondiente con la librería datetime\n",
    "sube_2023['FECHA'].dtype # Corroboramos por consola que se trata del tipo M8, que es otra forma de llamarle al tipo datetime64"
   ]
  },
  {
   "cell_type": "markdown",
   "metadata": {},
   "source": [
    "#### **b)** Agregar tres columnas al DataFrame:\n",
    "* `FECHA_DIA`\n",
    "* `FECHA_ORDINAL`\n",
    "* `FECHA_MES`"
   ]
  },
  {
   "cell_type": "code",
   "execution_count": 4,
   "metadata": {},
   "outputs": [
    {
     "data": {
      "text/html": [
       "<div>\n",
       "<style scoped>\n",
       "    .dataframe tbody tr th:only-of-type {\n",
       "        vertical-align: middle;\n",
       "    }\n",
       "\n",
       "    .dataframe tbody tr th {\n",
       "        vertical-align: top;\n",
       "    }\n",
       "\n",
       "    .dataframe thead th {\n",
       "        text-align: right;\n",
       "    }\n",
       "</style>\n",
       "<table border=\"1\" class=\"dataframe\">\n",
       "  <thead>\n",
       "    <tr style=\"text-align: right;\">\n",
       "      <th></th>\n",
       "      <th>FECHA</th>\n",
       "      <th>NOMBRE_EMPRESA</th>\n",
       "      <th>LINEA</th>\n",
       "      <th>AMBA</th>\n",
       "      <th>TIPO_TRANSPORTE</th>\n",
       "      <th>JURISDICCION</th>\n",
       "      <th>PROVINCIA</th>\n",
       "      <th>MUNICIPIO</th>\n",
       "      <th>CANTIDAD</th>\n",
       "      <th>DATO_PRELIMINAR</th>\n",
       "      <th>DIA_TRANSPORTE</th>\n",
       "      <th>FECHA_ORDINAL</th>\n",
       "      <th>FECHA_MES</th>\n",
       "    </tr>\n",
       "  </thead>\n",
       "  <tbody>\n",
       "    <tr>\n",
       "      <th>0</th>\n",
       "      <td>2023-01-01</td>\n",
       "      <td>MUNICIPALIDAD DE MERCEDES PROVINCIA DE BUENOS ...</td>\n",
       "      <td>1</td>\n",
       "      <td>SI</td>\n",
       "      <td>COLECTIVO</td>\n",
       "      <td>MUNICIPAL</td>\n",
       "      <td>BUENOS AIRES</td>\n",
       "      <td>MERCEDES</td>\n",
       "      <td>61</td>\n",
       "      <td>NO</td>\n",
       "      <td>Sun</td>\n",
       "      <td>1</td>\n",
       "      <td>01</td>\n",
       "    </tr>\n",
       "    <tr>\n",
       "      <th>1</th>\n",
       "      <td>2023-01-01</td>\n",
       "      <td>MUNICIPALIDAD DE MERCEDES PROVINCIA DE BUENOS ...</td>\n",
       "      <td>2B</td>\n",
       "      <td>SI</td>\n",
       "      <td>COLECTIVO</td>\n",
       "      <td>MUNICIPAL</td>\n",
       "      <td>BUENOS AIRES</td>\n",
       "      <td>MERCEDES</td>\n",
       "      <td>11</td>\n",
       "      <td>NO</td>\n",
       "      <td>Sun</td>\n",
       "      <td>1</td>\n",
       "      <td>01</td>\n",
       "    </tr>\n",
       "    <tr>\n",
       "      <th>2</th>\n",
       "      <td>2023-01-01</td>\n",
       "      <td>EMPRESA BATAN S.A.</td>\n",
       "      <td>BS_AS_LINEA 715M</td>\n",
       "      <td>NO</td>\n",
       "      <td>COLECTIVO</td>\n",
       "      <td>MUNICIPAL</td>\n",
       "      <td>BUENOS AIRES</td>\n",
       "      <td>GENERAL PUEYRREDON</td>\n",
       "      <td>1707</td>\n",
       "      <td>NO</td>\n",
       "      <td>Sun</td>\n",
       "      <td>1</td>\n",
       "      <td>01</td>\n",
       "    </tr>\n",
       "    <tr>\n",
       "      <th>3</th>\n",
       "      <td>2023-01-01</td>\n",
       "      <td>COMPAÑIA  DE TRANSPORTE VECINAL S.A.</td>\n",
       "      <td>BS_AS_LINEA_326</td>\n",
       "      <td>SI</td>\n",
       "      <td>COLECTIVO</td>\n",
       "      <td>PROVINCIAL</td>\n",
       "      <td>BUENOS AIRES</td>\n",
       "      <td>SN</td>\n",
       "      <td>438</td>\n",
       "      <td>NO</td>\n",
       "      <td>Sun</td>\n",
       "      <td>1</td>\n",
       "      <td>01</td>\n",
       "    </tr>\n",
       "    <tr>\n",
       "      <th>4</th>\n",
       "      <td>2023-01-01</td>\n",
       "      <td>EMPRESA DE TRANSPORTE PERALTA RAMOS SACI</td>\n",
       "      <td>BS_AS_LINEA_512</td>\n",
       "      <td>NO</td>\n",
       "      <td>COLECTIVO</td>\n",
       "      <td>MUNICIPAL</td>\n",
       "      <td>BUENOS AIRES</td>\n",
       "      <td>GENERAL PUEYRREDON</td>\n",
       "      <td>1189</td>\n",
       "      <td>NO</td>\n",
       "      <td>Sun</td>\n",
       "      <td>1</td>\n",
       "      <td>01</td>\n",
       "    </tr>\n",
       "  </tbody>\n",
       "</table>\n",
       "</div>"
      ],
      "text/plain": [
       "       FECHA                                     NOMBRE_EMPRESA  \\\n",
       "0 2023-01-01  MUNICIPALIDAD DE MERCEDES PROVINCIA DE BUENOS ...   \n",
       "1 2023-01-01  MUNICIPALIDAD DE MERCEDES PROVINCIA DE BUENOS ...   \n",
       "2 2023-01-01                                 EMPRESA BATAN S.A.   \n",
       "3 2023-01-01               COMPAÑIA  DE TRANSPORTE VECINAL S.A.   \n",
       "4 2023-01-01           EMPRESA DE TRANSPORTE PERALTA RAMOS SACI   \n",
       "\n",
       "              LINEA AMBA TIPO_TRANSPORTE JURISDICCION     PROVINCIA  \\\n",
       "0                 1   SI       COLECTIVO    MUNICIPAL  BUENOS AIRES   \n",
       "1                2B   SI       COLECTIVO    MUNICIPAL  BUENOS AIRES   \n",
       "2  BS_AS_LINEA 715M   NO       COLECTIVO    MUNICIPAL  BUENOS AIRES   \n",
       "3   BS_AS_LINEA_326   SI       COLECTIVO   PROVINCIAL  BUENOS AIRES   \n",
       "4   BS_AS_LINEA_512   NO       COLECTIVO    MUNICIPAL  BUENOS AIRES   \n",
       "\n",
       "            MUNICIPIO  CANTIDAD DATO_PRELIMINAR DIA_TRANSPORTE  FECHA_ORDINAL  \\\n",
       "0            MERCEDES        61              NO            Sun              1   \n",
       "1            MERCEDES        11              NO            Sun              1   \n",
       "2  GENERAL PUEYRREDON      1707              NO            Sun              1   \n",
       "3                  SN       438              NO            Sun              1   \n",
       "4  GENERAL PUEYRREDON      1189              NO            Sun              1   \n",
       "\n",
       "  FECHA_MES  \n",
       "0        01  \n",
       "1        01  \n",
       "2        01  \n",
       "3        01  \n",
       "4        01  "
      ]
     },
     "execution_count": 4,
     "metadata": {},
     "output_type": "execute_result"
    }
   ],
   "source": [
    "sube_2023[\"DIA_TRANSPORTE\"] = sube_2023[\"FECHA\"].dt.strftime('%a').str[:3]\n",
    "\n",
    "sube_2023[\"FECHA_ORDINAL\"] = sube_2023[\"FECHA\"].dt.dayofyear\n",
    "\n",
    "sube_2023[\"FECHA_MES\"] = sube_2023[\"FECHA\"].dt.strftime('%m')\n",
    "\n",
    "sube_2023.head()\n"
   ]
  },
  {
   "cell_type": "markdown",
   "metadata": {},
   "source": [
    "#### **2.**  Crear el DataFrame `datos_amba`\n"
   ]
  },
  {
   "cell_type": "code",
   "execution_count": 5,
   "metadata": {},
   "outputs": [
    {
     "data": {
      "text/html": [
       "<div>\n",
       "<style scoped>\n",
       "    .dataframe tbody tr th:only-of-type {\n",
       "        vertical-align: middle;\n",
       "    }\n",
       "\n",
       "    .dataframe tbody tr th {\n",
       "        vertical-align: top;\n",
       "    }\n",
       "\n",
       "    .dataframe thead th {\n",
       "        text-align: right;\n",
       "    }\n",
       "</style>\n",
       "<table border=\"1\" class=\"dataframe\">\n",
       "  <thead>\n",
       "    <tr style=\"text-align: right;\">\n",
       "      <th></th>\n",
       "      <th>fecha</th>\n",
       "      <th>fecha_dia</th>\n",
       "      <th>fecha_mes</th>\n",
       "      <th>fecha_ordinal</th>\n",
       "      <th>jurisdiccion</th>\n",
       "      <th>linea</th>\n",
       "      <th>pasajeros</th>\n",
       "      <th>tipo_transporte</th>\n",
       "    </tr>\n",
       "  </thead>\n",
       "  <tbody>\n",
       "    <tr>\n",
       "      <th>0</th>\n",
       "      <td>2023-01-01</td>\n",
       "      <td>Sun</td>\n",
       "      <td>01</td>\n",
       "      <td>1</td>\n",
       "      <td>MUNICIPAL</td>\n",
       "      <td>1</td>\n",
       "      <td>61</td>\n",
       "      <td>COLECTIVO</td>\n",
       "    </tr>\n",
       "    <tr>\n",
       "      <th>1</th>\n",
       "      <td>2023-01-01</td>\n",
       "      <td>Sun</td>\n",
       "      <td>01</td>\n",
       "      <td>1</td>\n",
       "      <td>MUNICIPAL</td>\n",
       "      <td>2B</td>\n",
       "      <td>11</td>\n",
       "      <td>COLECTIVO</td>\n",
       "    </tr>\n",
       "    <tr>\n",
       "      <th>3</th>\n",
       "      <td>2023-01-01</td>\n",
       "      <td>Sun</td>\n",
       "      <td>01</td>\n",
       "      <td>1</td>\n",
       "      <td>PROVINCIAL</td>\n",
       "      <td>BS_AS_LINEA_326</td>\n",
       "      <td>438</td>\n",
       "      <td>COLECTIVO</td>\n",
       "    </tr>\n",
       "    <tr>\n",
       "      <th>5</th>\n",
       "      <td>2023-01-01</td>\n",
       "      <td>Sun</td>\n",
       "      <td>01</td>\n",
       "      <td>1</td>\n",
       "      <td>MUNICIPAL</td>\n",
       "      <td>BS_AS_LINEA_514</td>\n",
       "      <td>3067</td>\n",
       "      <td>COLECTIVO</td>\n",
       "    </tr>\n",
       "    <tr>\n",
       "      <th>6</th>\n",
       "      <td>2023-01-01</td>\n",
       "      <td>Sun</td>\n",
       "      <td>01</td>\n",
       "      <td>1</td>\n",
       "      <td>MUNICIPAL</td>\n",
       "      <td>BS_AS_LINEA_522</td>\n",
       "      <td>332</td>\n",
       "      <td>COLECTIVO</td>\n",
       "    </tr>\n",
       "  </tbody>\n",
       "</table>\n",
       "</div>"
      ],
      "text/plain": [
       "       fecha fecha_dia fecha_mes  fecha_ordinal jurisdiccion            linea  \\\n",
       "0 2023-01-01       Sun        01              1    MUNICIPAL                1   \n",
       "1 2023-01-01       Sun        01              1    MUNICIPAL               2B   \n",
       "3 2023-01-01       Sun        01              1   PROVINCIAL  BS_AS_LINEA_326   \n",
       "5 2023-01-01       Sun        01              1    MUNICIPAL  BS_AS_LINEA_514   \n",
       "6 2023-01-01       Sun        01              1    MUNICIPAL  BS_AS_LINEA_522   \n",
       "\n",
       "   pasajeros tipo_transporte  \n",
       "0         61       COLECTIVO  \n",
       "1         11       COLECTIVO  \n",
       "3        438       COLECTIVO  \n",
       "5       3067       COLECTIVO  \n",
       "6        332       COLECTIVO  "
      ]
     },
     "execution_count": 5,
     "metadata": {},
     "output_type": "execute_result"
    }
   ],
   "source": [
    "datos_amba = sube_2023.loc[(sube_2023[\"AMBA\"] == \"SI\") & (sube_2023[\"DATO_PRELIMINAR\"]== \"NO\")] # Filtrar para obtener el DataFrame con las restricciones pedidas\n",
    "datos_amba = datos_amba[[\"FECHA\",\"DIA_TRANSPORTE\",\"FECHA_MES\",\"FECHA_ORDINAL\",\"JURISDICCION\",\"LINEA\",\"CANTIDAD\",\"TIPO_TRANSPORTE\"]] # Quedarse con las columnas de interés\n",
    "datos_amba = datos_amba.rename(columns={\"CANTIDAD\": \"pasajeros\",\"DIA_TRANSPORTE\":\"fecha_dia\"}) # Renombrar columnas con nombres más descriptivos\n",
    "datos_amba.columns = datos_amba.columns.str.lower() # Aplicar .lower() a todas las columnas para que sean iguales a las del DataFrame de salida\n",
    "datos_amba.head()"
   ]
  },
  {
   "cell_type": "markdown",
   "metadata": {},
   "source": [
    "#### **3. a)** Identificar la proporción de la cantidad total anual de pasajeros que le corresponde a cada medio de transporte\n",
    "\n"
   ]
  },
  {
   "cell_type": "code",
   "execution_count": 6,
   "metadata": {},
   "outputs": [
    {
     "name": "stdout",
     "output_type": "stream",
     "text": [
      "Proporción de la cantidad total anual de pasajeros por tipo de transporte:\n",
      "tipo_transporte\n",
      "COLECTIVO    0.837645\n",
      "SUBTE        0.068097\n",
      "TREN         0.094258\n",
      "Name: pasajeros, dtype: float64\n"
     ]
    }
   ],
   "source": [
    "pasajeros_por_transporte = datos_amba.groupby(\"tipo_transporte\")[\"pasajeros\"].sum()\n",
    "\n",
    "total_pasajeros = pasajeros_por_transporte.sum()\n",
    "\n",
    "proporcion_pasajeros_por_transporte = pasajeros_por_transporte / total_pasajeros\n",
    "\n",
    "print(\"Proporción de la cantidad total anual de pasajeros por tipo de transporte:\")\n",
    "print(proporcion_pasajeros_por_transporte)"
   ]
  },
  {
   "cell_type": "code",
   "execution_count": 17,
   "metadata": {},
   "outputs": [
    {
     "data": {
      "image/png": "[encoded data removed]",
      "text/plain": [
       "<Figure size 640x480 with 1 Axes>"
      ]
     },
     "metadata": {},
     "output_type": "display_data"
    }
   ],
   "source": [
    "fig, ax = plt.subplots()\n",
    "\n",
    "sns.set_style(\"darkgrid\") \n",
    "\n",
    "proporcion_pasajeros_por_transporte.plot(kind='bar', ax=ax)\n",
    "\n",
    "ax.set_title('Proporción de pasajeros por tipo de transporte')\n",
    "ax.set_xlabel('Tipo de transporte')\n",
    "ax.set_ylabel('Proporción de pasajeros')\n",
    "\n",
    "plt.show()"
   ]
  },
  {
   "cell_type": "markdown",
   "metadata": {},
   "source": [
    "**b)** Identificar la tupla `(mes, línea de subte)` donde viajó la mayor cantidad de pasajeros."
   ]
  },
  {
   "cell_type": "code",
   "execution_count": 8,
   "metadata": {},
   "outputs": [
    {
     "name": "stdout",
     "output_type": "stream",
     "text": [
      "La tupla (mes, línea de subte) donde viajó la mayor cantidad de pasajeros es: ('08', 'LINEA_B')\n"
     ]
    }
   ],
   "source": [
    "datos_subte = datos_amba.loc[datos_amba[\"tipo_transporte\"] == \"SUBTE\",:]\n",
    "\n",
    "pasajeros_por_mes_y_linea = datos_subte.groupby([\"fecha_mes\", \"linea\"])[\"pasajeros\"].sum()\n",
    "\n",
    "mayor_cantidad_pasajeros = pasajeros_por_mes_y_linea.idxmax()\n",
    "\n",
    "print(\"La tupla (mes, línea de subte) donde viajó la mayor cantidad de pasajeros es:\", mayor_cantidad_pasajeros)"
   ]
  },
  {
   "cell_type": "markdown",
   "metadata": {},
   "source": [
    "**c)** Identificar el día hábil con menos concurrencia en el transporte público."
   ]
  },
  {
   "cell_type": "code",
   "execution_count": 9,
   "metadata": {},
   "outputs": [
    {
     "name": "stdout",
     "output_type": "stream",
     "text": [
      "El dia habil con menos concurencia en el transporte publico es Mon con 540161948 pasajeros\n"
     ]
    }
   ],
   "source": [
    "dias_habiles = datos_amba.loc[(datos_amba[\"fecha_dia\"] != \"Sun\") & (datos_amba[\"fecha_dia\"] != \"Sat\"),:]\n",
    "\n",
    "pasajeros_por_dia = dias_habiles.groupby(\"fecha_dia\")[\"pasajeros\"].std()\n",
    "\n",
    "dia_con_menor_concurrencia = pasajeros_por_dia.idxmin()\n",
    "\n",
    "cantidad_de_pasajeros = dias_habiles[dias_habiles[\"fecha_dia\"] == dia_con_menor_concurrencia][\"pasajeros\"].sum()\n",
    "\n",
    "print(\"El día hábil con menos concurencia en el transporte público es\", dia_con_menor_concurrencia, \"con\", cantidad_de_pasajeros, \"pasajeros\")"
   ]
  },
  {
   "cell_type": "code",
   "execution_count": 19,
   "metadata": {},
   "outputs": [
    {
     "data": {
      "text/plain": [
       "Text(0, 0.5, 'Cantidad de pasajeros')"
      ]
     },
     "execution_count": 19,
     "metadata": {},
     "output_type": "execute_result"
    },
    {
     "data": {
      "image/png": "[encoded data removed]",
      "text/plain": [
       "<Figure size 640x480 with 1 Axes>"
      ]
     },
     "metadata": {},
     "output_type": "display_data"
    }
   ],
   "source": [
    "fig, ax = plt.subplots()\n",
    "\n",
    "pasajeros_por_dia.plot(kind='bar', ax=ax)\n",
    "\n",
    "ax.set_title('Concurrencia en días hábiles')\n",
    "ax.set_xlabel('Día')\n",
    "ax.set_ylabel('Cantidad de pasajeros')"
   ]
  },
  {
   "cell_type": "markdown",
   "metadata": {},
   "source": [
    "# Análisis Exploratorio"
   ]
  },
  {
   "cell_type": "markdown",
   "metadata": {},
   "source": [
    "## **4**\n"
   ]
  },
  {
   "cell_type": "code",
   "execution_count": 65,
   "metadata": {},
   "outputs": [
    {
     "name": "stderr",
     "output_type": "stream",
     "text": [
      "/home/tobias/anaconda3/lib/python3.11/site-packages/seaborn/_oldcore.py:1119: FutureWarning: use_inf_as_na option is deprecated and will be removed in a future version. Convert inf values to NaN before operating instead.\n",
      "  with pd.option_context('mode.use_inf_as_na', True):\n",
      "/home/tobias/anaconda3/lib/python3.11/site-packages/seaborn/_oldcore.py:1119: FutureWarning: use_inf_as_na option is deprecated and will be removed in a future version. Convert inf values to NaN before operating instead.\n",
      "  with pd.option_context('mode.use_inf_as_na', True):\n",
      "/home/tobias/anaconda3/lib/python3.11/site-packages/seaborn/_oldcore.py:1119: FutureWarning: use_inf_as_na option is deprecated and will be removed in a future version. Convert inf values to NaN before operating instead.\n",
      "  with pd.option_context('mode.use_inf_as_na', True):\n",
      "/home/tobias/anaconda3/lib/python3.11/site-packages/seaborn/_oldcore.py:1119: FutureWarning: use_inf_as_na option is deprecated and will be removed in a future version. Convert inf values to NaN before operating instead.\n",
      "  with pd.option_context('mode.use_inf_as_na', True):\n",
      "/home/tobias/anaconda3/lib/python3.11/site-packages/seaborn/_oldcore.py:1119: FutureWarning: use_inf_as_na option is deprecated and will be removed in a future version. Convert inf values to NaN before operating instead.\n",
      "  with pd.option_context('mode.use_inf_as_na', True):\n",
      "/home/tobias/anaconda3/lib/python3.11/site-packages/seaborn/_oldcore.py:1119: FutureWarning: use_inf_as_na option is deprecated and will be removed in a future version. Convert inf values to NaN before operating instead.\n",
      "  with pd.option_context('mode.use_inf_as_na', True):\n"
     ]
    },
    {
     "data": {
      "image/png": "[encoded data removed]",
      "text/plain": [
       "<Figure size 1000x600 with 1 Axes>"
      ]
     },
     "metadata": {},
     "output_type": "display_data"
    },
    {
     "name": "stdout",
     "output_type": "stream",
     "text": [
      "\u001b[1;32;40m\u001b[8;10;20m- En promedio, el 80% de todos los pasajeros que viajaron en transporte público lo hicieron dentro del AMBA. Solo el 20% restante viajó en otras zonas.\n",
      "- Se observan caídas pronunciadas en vacaciones de verano e invierno. El mes con menos tráfico es Febrero con una caída de -22%MoM con respecto a Diciembre. \n",
      "- El pico de tráfico más alto durante el año fue en el mes de Agosto, donde se registraron 408751702 pasajeros a lo largo y ancho del país.\u001b[0m \n"
     ]
    },
    {
     "name": "stderr",
     "output_type": "stream",
     "text": [
      "/tmp/ipykernel_6455/4274243943.py:17: FutureWarning: Series.__getitem__ treating keys as positions is deprecated. In a future version, integer keys will always be treated as labels (consistent with DataFrame behavior). To access a value by position, use `ser.iloc[pos]`\n",
      "  print(f\"\\033[1;32;40m\\033[8;10;20m- En promedio, el {round(sube_2023.loc[sube_2023['AMBA']=='SI',:].groupby('FECHA_MES')['CANTIDAD'].sum().mean()*100/sube_2023.groupby('FECHA_MES')['CANTIDAD'].sum().mean())}% de todos los pasajeros que viajaron en transporte público lo hicieron dentro del AMBA. Solo el 20% restante viajó en otras zonas.\\n- Se observan caídas pronunciadas en vacaciones de verano e invierno. El mes con menos tráfico es Febrero con una caída de -{round((sube_2023.groupby('FECHA_MES')['CANTIDAD'].sum()[11]-sube_2023.groupby('FECHA_MES')['CANTIDAD'].sum()[1])*100/sube_2023.groupby('FECHA_MES')['CANTIDAD'].sum()[11])}%MoM con respecto a Diciembre. \\n- El pico de tráfico más alto durante el año fue en el mes de Agosto, donde se registraron {round(sube_2023.groupby('FECHA_MES')['CANTIDAD'].sum()[7])} pasajeros a lo largo y ancho del país.\\033[0m \")\n",
      "/tmp/ipykernel_6455/4274243943.py:17: FutureWarning: Series.__getitem__ treating keys as positions is deprecated. In a future version, integer keys will always be treated as labels (consistent with DataFrame behavior). To access a value by position, use `ser.iloc[pos]`\n",
      "  print(f\"\\033[1;32;40m\\033[8;10;20m- En promedio, el {round(sube_2023.loc[sube_2023['AMBA']=='SI',:].groupby('FECHA_MES')['CANTIDAD'].sum().mean()*100/sube_2023.groupby('FECHA_MES')['CANTIDAD'].sum().mean())}% de todos los pasajeros que viajaron en transporte público lo hicieron dentro del AMBA. Solo el 20% restante viajó en otras zonas.\\n- Se observan caídas pronunciadas en vacaciones de verano e invierno. El mes con menos tráfico es Febrero con una caída de -{round((sube_2023.groupby('FECHA_MES')['CANTIDAD'].sum()[11]-sube_2023.groupby('FECHA_MES')['CANTIDAD'].sum()[1])*100/sube_2023.groupby('FECHA_MES')['CANTIDAD'].sum()[11])}%MoM con respecto a Diciembre. \\n- El pico de tráfico más alto durante el año fue en el mes de Agosto, donde se registraron {round(sube_2023.groupby('FECHA_MES')['CANTIDAD'].sum()[7])} pasajeros a lo largo y ancho del país.\\033[0m \")\n",
      "/tmp/ipykernel_6455/4274243943.py:17: FutureWarning: Series.__getitem__ treating keys as positions is deprecated. In a future version, integer keys will always be treated as labels (consistent with DataFrame behavior). To access a value by position, use `ser.iloc[pos]`\n",
      "  print(f\"\\033[1;32;40m\\033[8;10;20m- En promedio, el {round(sube_2023.loc[sube_2023['AMBA']=='SI',:].groupby('FECHA_MES')['CANTIDAD'].sum().mean()*100/sube_2023.groupby('FECHA_MES')['CANTIDAD'].sum().mean())}% de todos los pasajeros que viajaron en transporte público lo hicieron dentro del AMBA. Solo el 20% restante viajó en otras zonas.\\n- Se observan caídas pronunciadas en vacaciones de verano e invierno. El mes con menos tráfico es Febrero con una caída de -{round((sube_2023.groupby('FECHA_MES')['CANTIDAD'].sum()[11]-sube_2023.groupby('FECHA_MES')['CANTIDAD'].sum()[1])*100/sube_2023.groupby('FECHA_MES')['CANTIDAD'].sum()[11])}%MoM con respecto a Diciembre. \\n- El pico de tráfico más alto durante el año fue en el mes de Agosto, donde se registraron {round(sube_2023.groupby('FECHA_MES')['CANTIDAD'].sum()[7])} pasajeros a lo largo y ancho del país.\\033[0m \")\n",
      "/tmp/ipykernel_6455/4274243943.py:17: FutureWarning: Series.__getitem__ treating keys as positions is deprecated. In a future version, integer keys will always be treated as labels (consistent with DataFrame behavior). To access a value by position, use `ser.iloc[pos]`\n",
      "  print(f\"\\033[1;32;40m\\033[8;10;20m- En promedio, el {round(sube_2023.loc[sube_2023['AMBA']=='SI',:].groupby('FECHA_MES')['CANTIDAD'].sum().mean()*100/sube_2023.groupby('FECHA_MES')['CANTIDAD'].sum().mean())}% de todos los pasajeros que viajaron en transporte público lo hicieron dentro del AMBA. Solo el 20% restante viajó en otras zonas.\\n- Se observan caídas pronunciadas en vacaciones de verano e invierno. El mes con menos tráfico es Febrero con una caída de -{round((sube_2023.groupby('FECHA_MES')['CANTIDAD'].sum()[11]-sube_2023.groupby('FECHA_MES')['CANTIDAD'].sum()[1])*100/sube_2023.groupby('FECHA_MES')['CANTIDAD'].sum()[11])}%MoM con respecto a Diciembre. \\n- El pico de tráfico más alto durante el año fue en el mes de Agosto, donde se registraron {round(sube_2023.groupby('FECHA_MES')['CANTIDAD'].sum()[7])} pasajeros a lo largo y ancho del país.\\033[0m \")\n"
     ]
    }
   ],
   "source": [
    "plt.figure(figsize=(10, 6))\n",
    "\n",
    "sns.lineplot(data=sube_2023.groupby('FECHA_MES')[\"CANTIDAD\"].sum().reset_index(), x='FECHA_MES', y='CANTIDAD', label='Total', color='blue')\n",
    "\n",
    "sns.lineplot(data=sube_2023[sube_2023[\"AMBA\"]==\"SI\"].groupby('FECHA_MES')[\"CANTIDAD\"].sum().reset_index(), x='FECHA_MES', y='CANTIDAD', label='AMBA', color='green')\n",
    "\n",
    "sns.lineplot(data=sube_2023[sube_2023[\"AMBA\"]==\"NO\"].groupby('FECHA_MES')[\"CANTIDAD\"].sum().reset_index(), x='FECHA_MES', y='CANTIDAD', label='No AMBA', color='red')\n",
    "\n",
    "plt.title('Cantidad de Pasajeros de Transporte Público a lo largo del 2023')\n",
    "plt.xlabel('Mes')\n",
    "plt.ylabel('Cantidad de Pasajeros')\n",
    "plt.legend()\n",
    "\n",
    "plt.ticklabel_format(style='plain', axis='y')  \n",
    "plt.tight_layout()\n",
    "plt.show()\n",
    "print(f\"\\033[1;32;40m\\033[8;10;20m- En promedio, el {round(sube_2023.loc[sube_2023['AMBA']=='SI',:].groupby('FECHA_MES')['CANTIDAD'].sum().mean()*100/sube_2023.groupby('FECHA_MES')['CANTIDAD'].sum().mean())}% de todos los pasajeros que viajaron en transporte público lo hicieron dentro del AMBA. Solo el 20% restante viajó en otras zonas.\\n- Se observan caídas pronunciadas en vacaciones de verano e invierno. El mes con menos tráfico es Febrero con una caída de -{round((sube_2023.groupby('FECHA_MES')['CANTIDAD'].sum()[11]-sube_2023.groupby('FECHA_MES')['CANTIDAD'].sum()[1])*100/sube_2023.groupby('FECHA_MES')['CANTIDAD'].sum()[11])}%MoM con respecto a Diciembre. \\n- El pico de tráfico más alto durante el año fue en el mes de Agosto, donde se registraron {round(sube_2023.groupby('FECHA_MES')['CANTIDAD'].sum()[7])} pasajeros a lo largo y ancho del país.\\033[0m \")\n"
   ]
  },
  {
   "cell_type": "code",
   "execution_count": 12,
   "metadata": {},
   "outputs": [
    {
     "name": "stderr",
     "output_type": "stream",
     "text": [
      "/home/tobias/anaconda3/lib/python3.11/site-packages/seaborn/_oldcore.py:1119: FutureWarning: use_inf_as_na option is deprecated and will be removed in a future version. Convert inf values to NaN before operating instead.\n",
      "  with pd.option_context('mode.use_inf_as_na', True):\n",
      "/home/tobias/anaconda3/lib/python3.11/site-packages/seaborn/_oldcore.py:1119: FutureWarning: use_inf_as_na option is deprecated and will be removed in a future version. Convert inf values to NaN before operating instead.\n",
      "  with pd.option_context('mode.use_inf_as_na', True):\n",
      "/home/tobias/anaconda3/lib/python3.11/site-packages/seaborn/_oldcore.py:1119: FutureWarning: use_inf_as_na option is deprecated and will be removed in a future version. Convert inf values to NaN before operating instead.\n",
      "  with pd.option_context('mode.use_inf_as_na', True):\n",
      "/home/tobias/anaconda3/lib/python3.11/site-packages/seaborn/_oldcore.py:1119: FutureWarning: use_inf_as_na option is deprecated and will be removed in a future version. Convert inf values to NaN before operating instead.\n",
      "  with pd.option_context('mode.use_inf_as_na', True):\n",
      "/home/tobias/anaconda3/lib/python3.11/site-packages/seaborn/_oldcore.py:1119: FutureWarning: use_inf_as_na option is deprecated and will be removed in a future version. Convert inf values to NaN before operating instead.\n",
      "  with pd.option_context('mode.use_inf_as_na', True):\n",
      "/home/tobias/anaconda3/lib/python3.11/site-packages/seaborn/_oldcore.py:1119: FutureWarning: use_inf_as_na option is deprecated and will be removed in a future version. Convert inf values to NaN before operating instead.\n",
      "  with pd.option_context('mode.use_inf_as_na', True):\n"
     ]
    },
    {
     "data": {
      "image/png": "[encoded data removed]",
      "text/plain": [
       "<Figure size 1200x800 with 1 Axes>"
      ]
     },
     "metadata": {},
     "output_type": "display_data"
    }
   ],
   "source": [
    "plt.figure(figsize=(12, 8))\n",
    "\n",
    "sns.lineplot(data=sube_2023[sube_2023['TIPO_TRANSPORTE'] == 'COLECTIVO'].groupby('FECHA_MES')[\"CANTIDAD\"].sum().reset_index(), x='FECHA_MES', y='CANTIDAD', color='red', label='Colectivo')\n",
    "sns.lineplot(data=sube_2023[sube_2023['TIPO_TRANSPORTE'] == 'TREN'].groupby('FECHA_MES')[\"CANTIDAD\"].sum().reset_index(), x='FECHA_MES', y='CANTIDAD', color='blue', label='Tren')\n",
    "sns.lineplot(data=sube_2023[sube_2023['TIPO_TRANSPORTE'] == 'SUBTE'].groupby('FECHA_MES')[\"CANTIDAD\"].sum().reset_index(), x='FECHA_MES', y='CANTIDAD', color='green', label='Subte')\n",
    "\n",
    "plt.title('Cantidad de Pasajeros de Transporte Público a lo largo del 2023 por Tipo de Transporte')\n",
    "plt.legend()\n",
    "plt.ticklabel_format(style='plain', axis='y')  \n",
    "plt.show()"
   ]
  },
  {
   "cell_type": "code",
   "execution_count": 67,
   "metadata": {},
   "outputs": [
    {
     "data": {
      "image/png": "[encoded data removed]",
      "text/plain": [
       "<Figure size 1000x600 with 1 Axes>"
      ]
     },
     "metadata": {},
     "output_type": "display_data"
    }
   ],
   "source": [
    "plt.figure(figsize=(10, 6))\n",
    "\n",
    "sns.barplot(data=sube_2023.groupby(\"DIA_TRANSPORTE\")[\"CANTIDAD\"].mean().reset_index(), x='DIA_TRANSPORTE', y='CANTIDAD',order=['Mon', 'Tue', 'Wed', 'Thu', 'Fri', 'Sat', 'Sun'], palette='viridis')\n",
    "plt.title('Cantidad Promedio de Transacciones de Transporte Público por Día de la Semana')\n",
    "plt.xlabel('Día de la Semana')\n",
    "plt.ylabel('Cantidad Promedio de Transacciones')\n",
    "plt.ticklabel_format(style='plain', axis='y')  \n",
    "plt.show()"
   ]
  },
  {
   "cell_type": "code",
   "execution_count": 115,
   "metadata": {},
   "outputs": [
    {
     "name": "stderr",
     "output_type": "stream",
     "text": [
      "/tmp/ipykernel_6455/799839635.py:5: SettingWithCopyWarning:\n",
      "\n",
      "\n",
      "A value is trying to be set on a copy of a slice from a DataFrame.\n",
      "Try using .loc[row_indexer,col_indexer] = value instead\n",
      "\n",
      "See the caveats in the documentation: https://pandas.pydata.org/pandas-docs/stable/user_guide/indexing.html#returning-a-view-versus-a-copy\n",
      "\n"
     ]
    },
    {
     "data": {
      "application/vnd.plotly.v1+json": {
       "config": {
        "plotlyServerURL": "https://plot.ly"
       },
       "data": [
        {
         "coloraxis": "coloraxis",
         "featureidkey": "properties.nombre",
         "geojson": {
          "features": [
           {
            "geometry": {
             "coordinates": [
              [
               [
                -66.20361328125,
                -26.62781822639305
               ],
               [
                -66.0498046875,
                -26.64745870265937
               ],
               [
                -65.830078125,
                -26.725986812271756
               ],
               [
                -65.89599609375,
                -26.92206991673281
               ],
               [
                -66.181640625,
                -27.274161117374668
               ],
               [
                -65.6103515625,
                -27.994401411046148
               ],
               [
                -65.4345703125,
                -27.89734922968425
               ],
               [
                -65.0390625,
                -27.89734922968425
               ],
               [
                -64.4677734375,
                -26.29341500426577
               ],
               [
                -65.36865234375,
                -26.07652055985696
               ],
               [
                -65.85205078125,
                -26.31311263768267
               ],
               [
                -66.11572265625,
                -26.2145910237943
               ],
               [
                -66.20361328125,
                -26.62781822639305
               ]
              ]
             ],
             "type": "Polygon"
            },
            "properties": {
             "nombre": "Tucumán"
            },
            "type": "Feature"
           },
           {
            "geometry": {
             "coordinates": [
              [
               [
                -64.42108154296874,
                -26.28356493253137
               ],
               [
                -65.0390625,
                -27.885211577912145
               ],
               [
                -65.18463134765625,
                -27.931327412293648
               ],
               [
                -65.08026123046874,
                -28.738763971370293
               ],
               [
                -64.88250732421875,
                -28.7965462417692
               ],
               [
                -64.81658935546872,
                -29.506549442788607
               ],
               [
                -62.79510498046873,
                -29.869228848968298
               ],
               [
                -62.091979980468736,
                -30.439202087235568
               ],
               [
                -61.58660888671873,
                -25.671235828577018
               ],
               [
                -64.22332763671874,
                -25.651430347039724
               ],
               [
                -64.42108154296874,
                -26.28356493253137
               ]
              ]
             ],
             "type": "Polygon"
            },
            "properties": {
             "nombre": "Santiago del Estero"
            },
            "type": "Feature"
           },
           {
            "geometry": {
             "coordinates": [
              [
               [
                -66.11572265625,
                -26.2145910237943
               ],
               [
                -65.85205078125,
                -26.322960198925365
               ],
               [
                -65.379638671875,
                -26.056782885778798
               ],
               [
                -64.4677734375,
                -26.29341500426577
               ],
               [
                -64.215087890625,
                -25.641526373065755
               ],
               [
                -63.45703124999999,
                -25.661333498952683
               ],
               [
                -62.33642578125001,
                -24.397133017391038
               ],
               [
                -62.347412109375,
                -22.49225722008518
               ],
               [
                -62.80883789062499,
                -22.15688318686069
               ],
               [
                -62.81982421875001,
                -22.004174972901993
               ],
               [
                -63.951416015625,
                -22.034729817044195
               ],
               [
                -64.31396484375,
                -22.847070687839064
               ],
               [
                -64.5556640625,
                -22.268764039073968
               ],
               [
                -65.23681640625,
                -22.09581971780769
               ],
               [
                -65.28076171875,
                -22.92804166565175
               ],
               [
                -64.434814453125,
                -23.624394569716923
               ],
               [
                -64.35791015625,
                -23.49347666096087
               ],
               [
                -64.171142578125,
                -23.50355189742412
               ],
               [
                -64.18212890625,
                -24.226928664976363
               ],
               [
                -64.64355468749999,
                -24.597080137096412
               ],
               [
                -64.83032226562499,
                -24.44714958973082
               ],
               [
                -64.951171875,
                -24.597080137096412
               ],
               [
                -65.654296875,
                -24.397133017391038
               ],
               [
                -65.7421875,
                -24.096618611278767
               ],
               [
                -65.994873046875,
                -23.96617587126503
               ],
               [
                -65.950927734375,
                -23.51362636346272
               ],
               [
                -66.2255859375,
                -23.433009077420344
               ],
               [
                -66.46728515624999,
                -24.20688962239801
               ],
               [
                -67.225341796875,
                -23.694834722205936
               ],
               [
                -67.313232421875,
                -24.066528197726857
               ],
               [
                -68.40087890624999,
                -24.487148563173424
               ],
               [
                -68.57666015625,
                -24.78673454198888
               ],
               [
                -68.37890625,
                -25.085598897064763
               ],
               [
                -68.499755859375,
                -25.17511653162175
               ],
               [
                -66.610107421875,
                -25.29437116258816
               ],
               [
                -66.533203125,
                -25.393660521998022
               ],
               [
                -66.68701171875,
                -25.710836919640595
               ],
               [
                -66.884765625,
                -25.74052909277321
               ],
               [
                -66.851806640625,
                -26.017297563851745
               ],
               [
                -66.390380859375,
                -26.401710528707692
               ],
               [
                -66.214599609375,
                -26.13571361317392
               ],
               [
                -66.11572265625,
                -26.2145910237943
               ]
              ]
             ],
             "type": "Polygon"
            },
            "properties": {
             "nombre": "Salta"
            },
            "type": "Feature"
           },
           {
            "geometry": {
             "coordinates": [
              [
               [
                -67.225341796875,
                -23.694834722205936
               ],
               [
                -66.478271484375,
                -24.20688962239801
               ],
               [
                -66.214599609375,
                -23.433009077420344
               ],
               [
                -65.950927734375,
                -23.51362636346272
               ],
               [
                -66.005859375,
                -23.956136333969273
               ],
               [
                -65.7421875,
                -24.086589258228027
               ],
               [
                -65.654296875,
                -24.387127324604496
               ],
               [
                -64.97314453125,
                -24.58709033920962
               ],
               [
                -64.852294921875,
                -24.45715052418584
               ],
               [
                -64.66552734375,
                -24.597080137096412
               ],
               [
                -64.2041015625,
                -24.196868919249642
               ],
               [
                -64.193115234375,
                -23.49347666096087
               ],
               [
                -64.35791015625,
                -23.49347666096087
               ],
               [
                -64.434814453125,
                -23.61432859499168
               ],
               [
                -65.291748046875,
                -22.92804166565175
               ],
               [
                -65.247802734375,
                -22.09581971780769
               ],
               [
                -65.753173828125,
                -22.09581971780769
               ],
               [
                -66.236572265625,
                -21.769702899409655
               ],
               [
                -66.302490234375,
                -22.09581971780769
               ],
               [
                -66.73095703125,
                -22.207749178410847
               ],
               [
                -66.785888671875,
                -22.421184710331858
               ],
               [
                -67.00561523437499,
                -22.52270570348246
               ],
               [
                -67.027587890625,
                -22.664709810176813
               ],
               [
                -67.1484375,
                -22.695120184965685
               ],
               [
                -67.19238281249999,
                -22.806567100271508
               ],
               [
                -67.027587890625,
                -22.98873816096073
               ],
               [
                -67.225341796875,
                -23.694834722205936
               ]
              ]
             ],
             "type": "Polygon"
            },
            "properties": {
             "nombre": "Jujuy"
            },
            "type": "Feature"
           },
           {
            "geometry": {
             "coordinates": [
              [
               [
                -62.35839843749999,
                -24.086589258228027
               ],
               [
                -58.4033203125,
                -26.804460766546146
               ],
               [
                -57.59033203125,
                -25.443274612305732
               ],
               [
                -58.13964843749999,
                -24.96614015991296
               ],
               [
                -58.33740234375,
                -25.025884063244828
               ],
               [
                -60.09521484375,
                -24.006326198751115
               ],
               [
                -60.22705078125,
                -24.046463999666567
               ],
               [
                -61.06201171875,
                -23.84564988765934
               ],
               [
                -61.36962890625001,
                -23.483400654325628
               ],
               [
                -62.40234375,
                -22.43134015636061
               ],
               [
                -62.35839843749999,
                -24.086589258228027
               ]
              ]
             ],
             "type": "Polygon"
            },
            "properties": {
             "nombre": "Formosa"
            },
            "type": "Feature"
           },
           {
            "geometry": {
             "coordinates": [
              [
               [
                -61.74316406249999,
                -27.137368359795584
               ],
               [
                -61.65527343749999,
                -28.052590823339845
               ],
               [
                -58.91967773437499,
                -28.03319784767635
               ],
               [
                -58.41430664062501,
                -26.78484736105119
               ],
               [
                -62.369384765625,
                -24.10664717920179
               ],
               [
                -62.32543945312499,
                -24.37712083961039
               ],
               [
                -63.468017578125,
                -25.661333498952683
               ],
               [
                -61.58935546875,
                -25.681137335685307
               ],
               [
                -61.74316406249999,
                -27.137368359795584
               ]
              ]
             ],
             "type": "Polygon"
            },
            "properties": {
             "nombre": "Chaco"
            },
            "type": "Feature"
           },
           {
            "geometry": {
             "coordinates": [
              [
               [
                -56.041259765625,
                -27.371767300523032
               ],
               [
                -55.5908203125,
                -28.16887518006333
               ],
               [
                -54.86572265625,
                -27.605670826465445
               ],
               [
                -54.7998046875,
                -27.547241546253268
               ],
               [
                -54.722900390625,
                -27.61540601339959
               ],
               [
                -53.81103515625,
                -27.166695222253104
               ],
               [
                -53.67919921875,
                -26.892679095908154
               ],
               [
                -53.646240234375,
                -26.23430203240673
               ],
               [
                -53.8330078125,
                -25.97779895546436
               ],
               [
                -53.876953125,
                -25.651430347039724
               ],
               [
                -54.11865234375,
                -25.50278454875533
               ],
               [
                -54.4482421875,
                -25.681137335685307
               ],
               [
                -54.64599609375,
                -25.582085278700696
               ],
               [
                -54.810791015625,
                -26.657277674217575
               ],
               [
                -55.21728515625,
                -26.961245770526954
               ],
               [
                -55.382080078125,
                -26.980828590472107
               ],
               [
                -55.623779296875,
                -27.215556209029675
               ],
               [
                -55.579833984375,
                -27.293689224852393
               ],
               [
                -55.777587890625,
                -27.43028973886258
               ],
               [
                -56.041259765625,
                -27.371767300523032
               ]
              ]
             ],
             "type": "Polygon"
            },
            "properties": {
             "nombre": "Misiones"
            },
            "type": "Feature"
           },
           {
            "geometry": {
             "coordinates": [
              [
               [
                -56.03027343749999,
                -27.371767300523032
               ],
               [
                -56.31591796875,
                -27.41078570257701
               ],
               [
                -56.3818359375,
                -27.664068965384516
               ],
               [
                -56.6015625,
                -27.43028973886258
               ],
               [
                -58.71093750000001,
                -27.254629577800063
               ],
               [
                -58.9306640625,
                -28.14950321154457
               ],
               [
                -59.08447265624999,
                -28.130127737874005
               ],
               [
                -59.26025390625,
                -29.11377539511439
               ],
               [
                -59.56787109374999,
                -29.267232865200878
               ],
               [
                -59.6337890625,
                -30.410781790845878
               ],
               [
                -58.62304687499999,
                -30.12612436422458
               ],
               [
                -58.3154296875,
                -30.240086360983412
               ],
               [
                -57.83203125,
                -30.751277776257812
               ],
               [
                -57.94189453125,
                -30.524413269923986
               ],
               [
                -57.65624999999999,
                -30.334953881988564
               ],
               [
                -57.12890625,
                -29.745301662213585
               ],
               [
                -55.92041015625,
                -28.38173504322308
               ],
               [
                -55.70068359375,
                -28.459033019728043
               ],
               [
                -55.7666015625,
                -28.246327971048842
               ],
               [
                -55.634765625,
                -28.110748760633534
               ],
               [
                -56.03027343749999,
                -27.371767300523032
               ]
              ]
             ],
             "type": "Polygon"
            },
            "properties": {
             "nombre": "Corrientes"
            },
            "type": "Feature"
           },
           {
            "geometry": {
             "coordinates": [
              [
               [
                -68.5107421875,
                -25.16517336866393
               ],
               [
                -68.543701171875,
                -25.631621577258482
               ],
               [
                -68.40087890624999,
                -26.194876675795218
               ],
               [
                -68.5546875,
                -26.28356493253137
               ],
               [
                -68.5986328125,
                -26.539394329017032
               ],
               [
                -68.26904296875,
                -26.931865156388916
               ],
               [
                -68.323974609375,
                -27.019984007982554
               ],
               [
                -68.587646484375,
                -27.196014383173296
               ],
               [
                -68.719482421875,
                -27.098253906137884
               ],
               [
                -68.818359375,
                -27.08847315655588
               ],
               [
                -69.10400390625,
                -27.80020993741824
               ],
               [
                -68.785400390625,
                -27.761329874505233
               ],
               [
                -68.609619140625,
                -27.819644755099446
               ],
               [
                -68.5986328125,
                -27.732160709580892
               ],
               [
                -68.466796875,
                -27.877928333679495
               ],
               [
                -68.48876953125,
                -27.994401411046148
               ],
               [
                -68.09326171875,
                -28.19792655722614
               ],
               [
                -67.928466796875,
                -28.110748760633534
               ],
               [
                -67.840576171875,
                -28.391400375817753
               ],
               [
                -67.7197265625,
                -28.30438068296277
               ],
               [
                -67.1484375,
                -28.391400375817753
               ],
               [
                -67.060546875,
                -28.256005619824972
               ],
               [
                -66.566162109375,
                -28.30438068296277
               ],
               [
                -66.4892578125,
                -28.661671216419496
               ],
               [
                -66.368408203125,
                -28.729130483430154
               ],
               [
                -66.42333984375,
                -28.815799886487284
               ],
               [
                -65.80810546875,
                -29.180941290001776
               ],
               [
                -65.830078125,
                -29.286398892934763
               ],
               [
                -65.72021484375,
                -29.286398892934763
               ],
               [
                -65.445556640625,
                -30.12612436422458
               ],
               [
                -65.137939453125,
                -30.05007652169871
               ],
               [
                -64.940185546875,
                -29.831113764737136
               ],
               [
                -64.962158203125,
                -29.592565403314072
               ],
               [
                -64.8193359375,
                -29.563901551414432
               ],
               [
                -64.896240234375,
                -28.815799886487284
               ],
               [
                -65.126953125,
                -28.73876397137028
               ],
               [
                -65.181884765625,
                -27.90705837112198
               ],
               [
                -65.445556640625,
                -27.90705837112198
               ],
               [
                -65.599365234375,
                -27.994401411046148
               ],
               [
                -66.2255859375,
                -27.254629577800063
               ],
               [
                -65.906982421875,
                -26.912273826625587
               ],
               [
                -65.819091796875,
                -26.725986812271756
               ],
               [
                -66.2255859375,
                -26.62781822639305
               ],
               [
                -66.126708984375,
                -26.23430203240673
               ],
               [
                -66.236572265625,
                -26.145576207592264
               ],
               [
                -66.42333984375,
                -26.401710528707692
               ],
               [
                -66.884765625,
                -25.997549919572098
               ],
               [
                -66.884765625,
                -25.74052909277321
               ],
               [
                -66.719970703125,
                -25.70093788144426
               ],
               [
                -66.533203125,
                -25.41350860804229
               ],
               [
                -66.62109375,
                -25.28443774698303
               ],
               [
                -68.5107421875,
                -25.16517336866393
               ]
              ]
             ],
             "type": "Polygon"
            },
            "properties": {
             "nombre": "Catamarca"
            },
            "type": "Feature"
           },
           {
            "geometry": {
             "coordinates": [
              [
               [
                -65.56640625,
                -30.183121842195504
               ],
               [
                -65.7861328125,
                -31.91486750327621
               ],
               [
                -65.390625,
                -32.0639555946604
               ],
               [
                -65.302734375,
                -32.32427558887654
               ],
               [
                -64.9072265625,
                -32.43561304116276
               ],
               [
                -65.1434326171875,
                -33.22030778968541
               ],
               [
                -65.14892578125,
                -35.0120020431607
               ],
               [
                -63.39111328125,
                -34.95799531086791
               ],
               [
                -63.39111328125,
                -34.39784494644985
               ],
               [
                -62.8857421875,
                -34.37971258046219
               ],
               [
                -62.90771484375,
                -34.39784494644985
               ],
               [
                -61.80908203125,
                -33.04550781490999
               ],
               [
                -62.2705078125,
                -31.69078180613681
               ],
               [
                -61.87499999999999,
                -30.713503990354965
               ],
               [
                -62.77587890625,
                -29.91685223307016
               ],
               [
                -64.8193359375,
                -29.516110386062277
               ],
               [
                -64.8193359375,
                -29.592565403314072
               ],
               [
                -64.9951171875,
                -29.554345125748267
               ],
               [
                -64.92919921875,
                -29.82158272057499
               ],
               [
                -65.10498046875,
                -30.05007652169871
               ],
               [
                -65.56640625,
                -30.183121842195504
               ]
              ]
             ],
             "type": "Polygon"
            },
            "properties": {
             "nombre": "Córdoba"
            },
            "type": "Feature"
           },
           {
            "geometry": {
             "coordinates": [
              [
               [
                -61.8310546875,
                -28.09136628140693
               ],
               [
                -62.11669921874999,
                -30.496017831341284
               ],
               [
                -61.885986328125,
                -30.694611546632277
               ],
               [
                -62.2705078125,
                -31.672083485607377
               ],
               [
                -61.84204101562499,
                -33.05471648804274
               ],
               [
                -62.8857421875,
                -34.34343606848294
               ],
               [
                -61.8310546875,
                -34.37971258046219
               ],
               [
                -60.87524414062499,
                -33.54139466898275
               ],
               [
                -60.50170898437499,
                -33.687781758439364
               ],
               [
                -60.2490234375,
                -33.26624989076273
               ],
               [
                -60.68847656249999,
                -32.981020148981465
               ],
               [
                -60.8203125,
                -31.84023266790935
               ],
               [
                -59.65576171875,
                -30.694611546632277
               ],
               [
                -59.688720703125,
                -30.439202087235582
               ],
               [
                -59.578857421875,
                -29.22889003019423
               ],
               [
                -59.2822265625,
                -29.094577077511815
               ],
               [
                -59.08447265624999,
                -28.139815912754436
               ],
               [
                -58.9306640625,
                -28.16887518006333
               ],
               [
                -58.89770507812501,
                -27.994401411046148
               ],
               [
                -61.8310546875,
                -28.09136628140693
               ]
              ]
             ],
             "type": "Polygon"
            },
            "properties": {
             "nombre": "Santa Fe"
            },
            "type": "Feature"
           },
           {
            "geometry": {
             "coordinates": [
              [
               [
                -59.69970703124999,
                -30.713503990354965
               ],
               [
                -60.8203125,
                -31.78421688448737
               ],
               [
                -60.71044921875,
                -32.99023555965107
               ],
               [
                -60.29296874999999,
                -33.26624989076273
               ],
               [
                -59.58984374999999,
                -33.687781758439364
               ],
               [
                -59.52392578125,
                -33.62834199137178
               ],
               [
                -59.45800781249999,
                -33.72890830547333
               ],
               [
                -59.2437744140625,
                -33.71977077483139
               ],
               [
                -59.249267578125,
                -33.792843773631844
               ],
               [
                -58.85925292968751,
                -33.957030069982295
               ],
               [
                -58.74938964843749,
                -33.95247360616282
               ],
               [
                -58.64501953125,
                -34.02990029603907
               ],
               [
                -58.392333984375,
                -33.99802726234876
               ],
               [
                -58.4967041015625,
                -33.57343808567734
               ],
               [
                -58.4307861328125,
                -33.536816067733
               ],
               [
                -58.35937499999999,
                -33.08233672856374
               ],
               [
                -58.07373046875,
                -32.953368145799324
               ],
               [
                -58.22753906250001,
                -32.509761735919426
               ],
               [
                -58.00781249999999,
                -32.32427558887654
               ],
               [
                -58.16162109375,
                -32.249974455863295
               ],
               [
                -58.24951171874999,
                -31.821564514920727
               ],
               [
                -58.07373046875,
                -31.821564514920727
               ],
               [
                -57.94189453125,
                -31.55981453201843
               ],
               [
                -58.0517578125,
                -31.409912194070973
               ],
               [
                -57.81005859375,
                -30.789036751261136
               ],
               [
                -58.24951171874999,
                -30.29701788337204
               ],
               [
                -58.71093750000001,
                -30.10711788709237
               ],
               [
                -59.69970703124999,
                -30.4297295750316
               ],
               [
                -59.69970703124999,
                -30.713503990354965
               ]
              ]
             ],
             "type": "Polygon"
            },
            "properties": {
             "nombre": "Entre Ríos"
            },
            "type": "Feature"
           },
           {
            "geometry": {
             "coordinates": [
              [
               [
                -60.5126953125,
                -33.687781758439364
               ],
               [
                -60.87524414062499,
                -33.54139466898275
               ],
               [
                -61.84204101562499,
                -34.384246040152185
               ],
               [
                -62.852783203125,
                -34.352506668675936
               ],
               [
                -62.90222167968749,
                -34.39784494644985
               ],
               [
                -63.4130859375,
                -34.37971258046219
               ],
               [
                -63.39111328125,
                -40.713955826286046
               ],
               [
                -63.19335937499999,
                -40.72228267283148
               ],
               [
                -62.99560546875,
                -40.813809230569596
               ],
               [
                -62.984619140625,
                -40.768061709366116
               ],
               [
                -62.78686523437499,
                -41.02549937831375
               ],
               [
                -62.70996093749999,
                -41.02964338716638
               ],
               [
                -62.34191894531249,
                -40.8844479390356
               ],
               [
                -62.17163085937499,
                -40.59309953216488
               ],
               [
                -62.39685058593749,
                -40.48873742102282
               ],
               [
                -62.479248046875,
                -40.27533480732467
               ],
               [
                -62.3529052734375,
                -40.20405042511328
               ],
               [
                -62.30346679687499,
                -39.871803651624425
               ],
               [
                -62.13317871093751,
                -39.87601941962115
               ],
               [
                -62.0562744140625,
                -39.44467758047343
               ],
               [
                -62.22656249999999,
                -39.32579941789297
               ],
               [
                -62.02880859375,
                -39.40648882684978
               ],
               [
                -62.00683593749999,
                -39.33854604847978
               ],
               [
                -62.2979736328125,
                -39.23650795487107
               ],
               [
                -62.3529052734375,
                -39.10022600175344
               ],
               [
                -62.314453125,
                -39.031986028740064
               ],
               [
                -62.33642578125001,
                -38.95513722542956
               ],
               [
                -62.391357421875,
                -38.81403111409755
               ],
               [
                -62.51220703125,
                -38.818311173746615
               ],
               [
                -62.52868652343749,
                -38.719804742642374
               ],
               [
                -62.40234375,
                -38.728375918239784
               ],
               [
                -62.16064453125,
                -38.82687052138062
               ],
               [
                -62.105712890625,
                -38.90813299596704
               ],
               [
                -61.80908203125,
                -38.99784130750071
               ],
               [
                -61.74316406249999,
                -38.98076276501631
               ],
               [
                -61.65527343749999,
                -39.01491572891581
               ],
               [
                -61.04003906249999,
                -38.98076276501631
               ],
               [
                -60.7269287109375,
                -38.95513722542956
               ],
               [
                -60.062255859375,
                -38.85254239036424
               ],
               [
                -59.25476074218749,
                -38.724090458956944
               ],
               [
                -58.74938964843749,
                -38.5825261593533
               ],
               [
                -58.56811523437499,
                -38.561052624469774
               ],
               [
                -58.3154296875,
                -38.475094320502436
               ],
               [
                -58.018798828125,
                -38.358887858666755
               ],
               [
                -57.81005859375,
                -38.272688535980954
               ],
               [
                -57.54638671874999,
                -38.09133660751174
               ],
               [
                -57.568359375,
                -37.98750437106372
               ],
               [
                -57.48046875,
                -37.75334401310657
               ],
               [
                -57.19482421875,
                -37.54457732085582
               ],
               [
                -56.689453125,
                -36.89719446989034
               ],
               [
                -56.766357421875,
                -36.29741818650809
               ],
               [
                -57.008056640625,
                -36.28856319836237
               ],
               [
                -57.23876953124999,
                -36.199958059328935
               ],
               [
                -57.37060546875,
                -36.01356058518153
               ],
               [
                -57.403564453125,
                -35.764343479667176
               ],
               [
                -57.095947265625,
                -35.415914923456214
               ],
               [
                -57.83203125,
                -34.867904962568716
               ],
               [
                -58.502197265625,
                -34.50655662164559
               ],
               [
                -58.42529296875,
                -33.96158628979907
               ],
               [
                -58.67797851562499,
                -34.04355650412745
               ],
               [
                -58.78784179687499,
                -33.9433599465788
               ],
               [
                -58.853759765625,
                -33.97980872872456
               ],
               [
                -59.26025390625,
                -33.797408767572485
               ],
               [
                -59.249267578125,
                -33.7243396617476
               ],
               [
                -59.45800781249999,
                -33.73347670599253
               ],
               [
                -59.56787109374999,
                -33.61461929233377
               ],
               [
                -59.61181640625,
                -33.69692269295766
               ],
               [
                -60.303955078125,
                -33.28461996888768
               ],
               [
                -60.5126953125,
                -33.687781758439364
               ]
              ]
             ],
             "type": "Polygon"
            },
            "properties": {
             "nombre": "Buenos Aires"
            },
            "type": "Feature"
           },
           {
            "geometry": {
             "coordinates": [
              [
               [
                -65.126953125,
                -35.94243575255425
               ],
               [
                -68.3349609375,
                -36.03133177633187
               ],
               [
                -68.2470703125,
                -36.226550147470896
               ],
               [
                -68.291015625,
                -37.596824001083654
               ],
               [
                -67.87353515625,
                -37.6664292120906
               ],
               [
                -67.7197265625,
                -37.87485339352927
               ],
               [
                -67.96142578125,
                -38.01347623104191
               ],
               [
                -67.65380859375,
                -38.255436376379464
               ],
               [
                -67.236328125,
                -38.20365531807149
               ],
               [
                -67.1484375,
                -38.42777351132903
               ],
               [
                -66.62109375,
                -38.5825261593533
               ],
               [
                -66.62109375,
                -38.736946065676
               ],
               [
                -66.3134765625,
                -38.78834535508562
               ],
               [
                -66.09375,
                -38.75408327579141
               ],
               [
                -65.654296875,
                -38.83970761354513
               ],
               [
                -65.56640625,
                -38.75408327579141
               ],
               [
                -65.36865234375,
                -38.87392853923629
               ],
               [
                -65.19287109375,
                -38.8225909761771
               ],
               [
                -64.53369140625,
                -38.856820134743614
               ],
               [
                -64.0283203125,
                -39.07890809706474
               ],
               [
                -63.43505859374999,
                -39.35129035526704
               ],
               [
                -63.4130859375,
                -34.93998515156043
               ],
               [
                -65.126953125,
                -35.0120020431607
               ],
               [
                -65.126953125,
                -35.94243575255425
               ]
              ]
             ],
             "type": "Polygon"
            },
            "properties": {
             "nombre": "La Pampa"
            },
            "type": "Feature"
           },
           {
            "geometry": {
             "coordinates": [
              [
               [
                -69.10400390625,
                -27.797780340741387
               ],
               [
                -69.169921875,
                -27.98470011861267
               ],
               [
                -69.27978515625,
                -27.97499795326775
               ],
               [
                -69.400634765625,
                -28.217289755957054
               ],
               [
                -69.49951171875,
                -28.178559849396965
               ],
               [
                -69.598388671875,
                -28.391400375817753
               ],
               [
                -69.41162109375,
                -28.44937385955666
               ],
               [
                -69.312744140625,
                -28.401064827220896
               ],
               [
                -69.2138671875,
                -28.5941685062326
               ],
               [
                -69.2138671875,
                -28.729130483430154
               ],
               [
                -68.93920898437499,
                -28.835049972635165
               ],
               [
                -68.92822265625,
                -29.171348850951507
               ],
               [
                -69.027099609375,
                -29.171348850951507
               ],
               [
                -68.9501953125,
                -29.439597566602902
               ],
               [
                -69.027099609375,
                -29.487424847484775
               ],
               [
                -68.97216796875,
                -29.64986867797228
               ],
               [
                -68.90625,
                -29.602118211647333
               ],
               [
                -68.26904296875,
                -29.754839972510933
               ],
               [
                -68.170166015625,
                -29.91685223307016
               ],
               [
                -68.0712890625,
                -29.897805610155864
               ],
               [
                -67.598876953125,
                -30.29701788337204
               ],
               [
                -67.4560546875,
                -30.56226095049943
               ],
               [
                -67.291259765625,
                -30.56226095049943
               ],
               [
                -67.093505859375,
                -30.892797477508154
               ],
               [
                -67.159423828125,
                -31.005862904624195
               ],
               [
                -67.071533203125,
                -31.05293398570514
               ],
               [
                -67.1044921875,
                -31.42866311735861
               ],
               [
                -67.00561523437499,
                -31.531726144517158
               ],
               [
                -67.03857421875,
                -31.63467554954133
               ],
               [
                -66.873779296875,
                -31.63467554954133
               ],
               [
                -66.829833984375,
                -31.78421688448737
               ],
               [
                -66.676025390625,
                -31.905541455900355
               ],
               [
                -66.346435546875,
                -31.98944183792288
               ],
               [
                -66.3134765625,
                -31.905541455900355
               ],
               [
                -66.082763671875,
                -31.980123357368026
               ],
               [
                -65.9619140625,
                -31.886886525780806
               ],
               [
                -65.80810546875,
                -31.905541455900355
               ],
               [
                -65.577392578125,
                -30.183121842195504
               ],
               [
                -65.4345703125,
                -30.145127183376115
               ],
               [
                -65.71746826171875,
                -29.288794393648296
               ],
               [
                -65.8355712890625,
                -29.286398892934763
               ],
               [
                -65.81634521484375,
                -29.18333925965321
               ],
               [
                -66.42608642578125,
                -28.806173508854766
               ],
               [
                -66.37390136718749,
                -28.729130483430154
               ],
               [
                -66.49200439453125,
                -28.671310915880834
               ],
               [
                -66.566162109375,
                -28.30921698045776
               ],
               [
                -67.06878662109375,
                -28.263263279931966
               ],
               [
                -67.14569091796874,
                -28.388984125273186
               ],
               [
                -67.7252197265625,
                -28.301962451766745
               ],
               [
                -67.84332275390625,
                -28.386567819657188
               ],
               [
                -67.92572021484374,
                -28.110748760633534
               ],
               [
                -68.0987548828125,
                -28.19308520918522
               ],
               [
                -68.49700927734375,
                -27.98712552356428
               ],
               [
                -68.47503662109375,
                -27.87307256542277
               ],
               [
                -68.60412597656249,
                -27.737022779516813
               ],
               [
                -68.61785888671875,
                -27.819644755099446
               ],
               [
                -68.78814697265625,
                -27.763760285581967
               ],
               [
                -69.10400390625,
                -27.797780340741387
               ]
              ]
             ],
             "type": "Polygon"
            },
            "properties": {
             "nombre": "La Rioja"
            },
            "type": "Feature"
           },
           {
            "geometry": {
             "coordinates": [
              [
               [
                -69.840087890625,
                -29.152161283318915
               ],
               [
                -69.949951171875,
                -29.200123477644983
               ],
               [
                -69.93896484375,
                -29.257648503615542
               ],
               [
                -70.0048828125,
                -29.29598055871568
               ],
               [
                -70.0213623046875,
                -29.396533739128387
               ],
               [
                -69.971923828125,
                -29.40610505570927
               ],
               [
                -69.9884033203125,
                -29.516110386062277
               ],
               [
                -69.949951171875,
                -29.55912345157795
               ],
               [
                -69.9609375,
                -29.65941605491237
               ],
               [
                -69.884033203125,
                -29.726222319395493
               ],
               [
                -69.89501953125,
                -29.869228848968298
               ],
               [
                -69.9774169921875,
                -30.07860131571654
               ],
               [
                -69.818115234375,
                -30.121373087823034
               ],
               [
                -69.8291015625,
                -30.216355152668537
               ],
               [
                -69.8785400390625,
                -30.230594564932193
               ],
               [
                -69.949951171875,
                -30.38709188778112
               ],
               [
                -70.07080078125,
                -30.38709188778112
               ],
               [
                -70.125732421875,
                -30.32547125932808
               ],
               [
                -70.169677734375,
                -30.34917609414982
               ],
               [
                -70.1312255859375,
                -30.4297295750316
               ],
               [
                -70.18615722656249,
                -30.481817002827256
               ],
               [
                -70.3179931640625,
                -30.93050081760778
               ],
               [
                -70.257568359375,
                -31.029401353028874
               ],
               [
                -70.323486328125,
                -31.043521630684204
               ],
               [
                -70.400390625,
                -31.16110911780645
               ],
               [
                -70.4443359375,
                -31.067050772707812
               ],
               [
                -70.5377197265625,
                -31.142304905845723
               ],
               [
                -70.5706787109375,
                -31.57853542647337
               ],
               [
                -70.4443359375,
                -31.84489911613476
               ],
               [
                -70.2960205078125,
                -31.872892847840692
               ],
               [
                -70.213623046875,
                -31.961483557268544
               ],
               [
                -70.2850341796875,
                -32.04533283885849
               ],
               [
                -70.3839111328125,
                -32.02204906495203
               ],
               [
                -70.3179931640625,
                -32.26855544621476
               ],
               [
                -70.224609375,
                -32.32427558887654
               ],
               [
                -70.24658203125,
                -32.42634016154639
               ],
               [
                -70.1531982421875,
                -32.458791067834575
               ],
               [
                -70.09140014648438,
                -32.60236166681751
               ],
               [
                -70.09140014648438,
                -32.622026838432575
               ],
               [
                -70.06805419921875,
                -32.625496714513716
               ],
               [
                -70.00900268554688,
                -32.535236240827224
               ],
               [
                -69.84420776367188,
                -32.5722771706588
               ],
               [
                -69.82086181640625,
                -32.54681317351514
               ],
               [
                -69.79202270507812,
                -32.54797078468893
               ],
               [
                -69.77279663085938,
                -32.53176286998226
               ],
               [
                -69.77005004882812,
                -32.5178680435577
               ],
               [
                -69.70962524414062,
                -32.49354692775989
               ],
               [
                -69.70138549804688,
                -32.441408106676086
               ],
               [
                -69.69039916992188,
                -32.42981760314475
               ],
               [
                -69.74395751953125,
                -32.39155837235157
               ],
               [
                -69.72061157226562,
                -32.31267005062579
               ],
               [
                -69.68765258789061,
                -32.30686672385539
               ],
               [
                -69.63272094726561,
                -32.25694277294589
               ],
               [
                -69.6038818359375,
                -32.208153325473255
               ],
               [
                -69.60525512695312,
                -32.14073437803538
               ],
               [
                -69.532470703125,
                -32.13840869677249
               ],
               [
                -69.44183349609375,
                -32.07326555104237
               ],
               [
                -69.30450439453125,
                -32.082574559545904
               ],
               [
                -69.27154541015625,
                -32.0616279574764
               ],
               [
                -69.224853515625,
                -32.00807595929104
               ],
               [
                -69.12597656249999,
                -32.010404958190534
               ],
               [
                -68.92547607421875,
                -32.133757156326446
               ],
               [
                -68.91998291015625,
                -32.33355894864106
               ],
               [
                -68.67828369140625,
                -32.33355894864106
               ],
               [
                -68.4722900390625,
                -32.23603621746474
               ],
               [
                -68.46405029296875,
                -32.136082956202074
               ],
               [
                -68.30749511718749,
                -32.13840869677249
               ],
               [
                -68.25531005859375,
                -32.09420948699397
               ],
               [
                -68.20381164550781,
                -32.12619789718211
               ],
               [
                -68.19145202636719,
                -32.11224069645199
               ],
               [
                -68.15162658691405,
                -32.11631176714
               ],
               [
                -68.08090209960938,
                -32.08606519332937
               ],
               [
                -68.07609558105469,
                -32.09828136159138
               ],
               [
                -68.05686950683594,
                -32.07268370653683
               ],
               [
                -68.02253723144531,
                -32.08606519332937
               ],
               [
                -68.00537109375,
                -32.079665596220444
               ],
               [
                -67.99095153808594,
                -32.0947911944772
               ],
               [
                -67.97378540039062,
                -32.09711798736979
               ],
               [
                -67.95867919921875,
                -32.118638011730695
               ],
               [
                -67.94975280761719,
                -32.10991428883184
               ],
               [
                -67.94151306152344,
                -32.112822289094396
               ],
               [
                -67.94700622558594,
                -32.12677940089152
               ],
               [
                -67.93327331542967,
                -32.133175697091374
               ],
               [
                -67.9229736328125,
                -32.170962836413246
               ],
               [
                -67.89276123046875,
                -32.18723554514384
               ],
               [
                -67.8460693359375,
                -32.22674287041065
               ],
               [
                -67.77191162109375,
                -32.22674287041065
               ],
               [
                -67.7362060546875,
                -32.21744857303103
               ],
               [
                -67.71697998046875,
                -32.24068253457368
               ],
               [
                -67.67578124999999,
                -32.22906629627296
               ],
               [
                -67.65380859375,
                -32.24068253457368
               ],
               [
                -67.55218505859375,
                -32.24300560401556
               ],
               [
                -67.52471923828125,
                -32.21744857303103
               ],
               [
                -67.510986328125,
                -32.24068253457368
               ],
               [
                -67.48626708984375,
                -32.30802741894788
               ],
               [
                -67.38739013671874,
                -32.33355894864106
               ],
               [
                -67.33245849609375,
                -32.35444302709291
               ],
               [
                -67.2637939453125,
                -32.34980253736092
               ],
               [
                -67.2857666015625,
                -32.28945451339287
               ],
               [
                -67.4395751953125,
                -32.18955998041357
               ],
               [
                -67.4835205078125,
                -32.11514862261243
               ],
               [
                -67.4505615234375,
                -32.04766089060863
               ],
               [
                -67.4395751953125,
                -32.01506277844934
               ],
               [
                -67.44232177734374,
                -31.926523733115925
               ],
               [
                -67.467041015625,
                -31.86822781618069
               ],
               [
                -67.24456787109375,
                -31.87755764334002
               ],
               [
                -67.137451171875,
                -31.83089906339438
               ],
               [
                -67.060546875,
                -31.85889704445453
               ],
               [
                -66.9781494140625,
                -31.87056036152958
               ],
               [
                -66.78314208984375,
                -31.91953017247695
               ],
               [
                -66.62109375,
                -31.92186141844725
               ],
               [
                -66.676025390625,
                -31.907873056360206
               ],
               [
                -66.83258056640625,
                -31.781882156411022
               ],
               [
                -66.873779296875,
                -31.637013986617973
               ],
               [
                -67.03857421875,
                -31.632337053668728
               ],
               [
                -67.00836181640625,
                -31.534067166324203
               ],
               [
                -67.11273193359375,
                -31.4310067191785
               ],
               [
                -67.0770263671875,
                -31.05763981413011
               ],
               [
                -67.159423828125,
                -31.005862904624195
               ],
               [
                -67.10174560546875,
                -30.888083515609047
               ],
               [
                -67.29400634765624,
                -30.56226095049943
               ],
               [
                -67.45880126953125,
                -30.56462594065098
               ],
               [
                -67.59613037109375,
                -30.301760686320698
               ],
               [
                -68.0712890625,
                -29.900186637177384
               ],
               [
                -68.18115234375,
                -29.91447160438235
               ],
               [
                -68.26904296875,
                -29.754839972510933
               ],
               [
                -68.91448974609375,
                -29.606894276531495
               ],
               [
                -68.97491455078125,
                -29.645094649860745
               ],
               [
                -69.03533935546875,
                -29.489815619374937
               ],
               [
                -68.95294189453125,
                -29.432421529604852
               ],
               [
                -69.0380859375,
                -29.171348850951507
               ],
               [
                -68.9501953125,
                -29.180941290001776
               ],
               [
                -68.93920898437499,
                -28.84467368077178
               ],
               [
                -69.224853515625,
                -28.729130483430154
               ],
               [
                -69.224853515625,
                -28.5941685062326
               ],
               [
                -69.356689453125,
                -28.410728397237914
               ],
               [
                -69.42260742187499,
                -28.43971381702787
               ],
               [
                -69.67529296875,
                -28.43971381702787
               ],
               [
                -69.78515625,
                -28.700224692776974
               ],
               [
                -69.708251953125,
                -28.786918085420226
               ],
               [
                -69.774169921875,
                -28.93124697186731
               ],
               [
                -69.840087890625,
                -29.152161283318915
               ]
              ]
             ],
             "type": "Polygon"
            },
            "properties": {
             "nombre": "San Juan"
            },
            "type": "Feature"
           },
           {
            "geometry": {
             "coordinates": [
              [
               [
                -67.269287109375,
                -32.34516180956194
               ],
               [
                -67.30224609375,
                -32.45415593941475
               ],
               [
                -67.24731445312499,
                -32.63937487360668
               ],
               [
                -67.159423828125,
                -32.73184089686568
               ],
               [
                -67.25830078125,
                -32.87036022808353
               ],
               [
                -67.17041015625,
                -33.46810795527895
               ],
               [
                -66.895751953125,
                -33.760882000869174
               ],
               [
                -66.873779296875,
                -33.84304531474468
               ],
               [
                -66.676025390625,
                -33.96158628979907
               ],
               [
                -66.7529296875,
                -34.234512362369856
               ],
               [
                -66.81884765625,
                -34.27083595164999
               ],
               [
                -66.7529296875,
                -34.45221847282653
               ],
               [
                -66.7529296875,
                -34.569906380856345
               ],
               [
                -66.5771484375,
                -34.84085858477277
               ],
               [
                -66.4892578125,
                -35.15584570226543
               ],
               [
                -66.533203125,
                -35.55904339525895
               ],
               [
                -66.5771484375,
                -35.594785665487244
               ],
               [
                -66.566162109375,
                -35.65729624809628
               ],
               [
                -66.632080078125,
                -35.98689628443789
               ],
               [
                -65.137939453125,
                -35.933540642493114
               ],
               [
                -65.159912109375,
                -33.20192418977892
               ],
               [
                -64.9072265625,
                -32.43793111207064
               ],
               [
                -65.31097412109375,
                -32.32427558887654
               ],
               [
                -65.390625,
                -32.0639555946604
               ],
               [
                -65.78887939453125,
                -31.912536080050494
               ],
               [
                -65.9674072265625,
                -31.886886525780806
               ],
               [
                -66.082763671875,
                -31.980123357368026
               ],
               [
                -66.3134765625,
                -31.910204597744368
               ],
               [
                -66.3409423828125,
                -31.994100723260793
               ],
               [
                -66.62384033203124,
                -31.92186141844725
               ],
               [
                -66.785888671875,
                -31.91953017247695
               ],
               [
                -67.14019775390625,
                -31.835565983656227
               ],
               [
                -67.24456787109375,
                -31.88222220265971
               ],
               [
                -67.467041015625,
                -31.87056036152958
               ],
               [
                -67.445068359375,
                -31.924192605327708
               ],
               [
                -67.43682861328125,
                -32.00807595929104
               ],
               [
                -67.48077392578125,
                -32.12212726745139
               ],
               [
                -67.43682861328125,
                -32.19188435632485
               ],
               [
                -67.28302001953125,
                -32.28481069238482
               ],
               [
                -67.269287109375,
                -32.34516180956194
               ]
              ]
             ],
             "type": "Polygon"
            },
            "properties": {
             "nombre": "San Luis"
            },
            "type": "Feature"
           },
           {
            "geometry": {
             "coordinates": [
              [
               [
                -70.17242431640625,
                -32.623183478738675
               ],
               [
                -70.14770507812499,
                -32.76880048488168
               ],
               [
                -69.993896484375,
                -32.898038181605216
               ],
               [
                -70.103759765625,
                -33.11915022676886
               ],
               [
                -70.015869140625,
                -33.321348526698806
               ],
               [
                -69.949951171875,
                -33.25706340236547
               ],
               [
                -69.840087890625,
                -33.26624989076273
               ],
               [
                -69.78515625,
                -33.35806161277886
               ],
               [
                -69.884033203125,
                -33.54139466898275
               ],
               [
                -69.884033203125,
                -33.706062655101206
               ],
               [
                -69.93896484375,
                -33.797408767572485
               ],
               [
                -69.884033203125,
                -33.88865750124074
               ],
               [
                -69.927978515625,
                -33.96158628979907
               ],
               [
                -69.818115234375,
                -34.03445260967644
               ],
               [
                -69.862060546875,
                -34.143634820312634
               ],
               [
                -69.840087890625,
                -34.24359472969739
               ],
               [
                -69.9609375,
                -34.29806835099083
               ],
               [
                -70.015869140625,
                -34.225429015241396
               ],
               [
                -70.059814453125,
                -34.30714385628803
               ],
               [
                -70.037841796875,
                -34.40690965652058
               ],
               [
                -70.323486328125,
                -34.7506398050501
               ],
               [
                -70.24658203125,
                -34.79576153473033
               ],
               [
                -70.38940429687499,
                -35.15584570226543
               ],
               [
                -70.587158203125,
                -35.19176696594738
               ],
               [
                -70.587158203125,
                -35.27253175660237
               ],
               [
                -70.455322265625,
                -35.3621760591468
               ],
               [
                -70.33447265624999,
                -35.82672127366603
               ],
               [
                -70.455322265625,
                -35.89795019335754
               ],
               [
                -70.433349609375,
                -36.11125252076157
               ],
               [
                -70.37841796875,
                -36.323977120112616
               ],
               [
                -70.24658203125,
                -36.323977120112616
               ],
               [
                -70.24658203125,
                -36.46547188679815
               ],
               [
                -69.8291015625,
                -36.888408043138206
               ],
               [
                -69.752197265625,
                -37.0990029438762
               ],
               [
                -69.42260742187499,
                -37.17782559332974
               ],
               [
                -69.32373046875,
                -37.13404537126445
               ],
               [
                -69.08203125,
                -37.239075302021824
               ],
               [
                -69.01611328125,
                -37.37015718405751
               ],
               [
                -68.873291015625,
                -37.39634613318924
               ],
               [
                -68.79638671875,
                -37.35269280367274
               ],
               [
                -68.70849609375,
                -37.448696585910376
               ],
               [
                -68.543701171875,
                -37.448696585910376
               ],
               [
                -68.433837890625,
                -37.561996953143506
               ],
               [
                -68.31298828125,
                -37.579412513438385
               ],
               [
                -68.29376220703125,
                -36.17335693522159
               ],
               [
                -68.3349609375,
                -36.01356058518153
               ],
               [
                -66.63482666015625,
                -35.98689628443789
               ],
               [
                -66.566162109375,
                -35.66845370835341
               ],
               [
                -66.57440185546875,
                -35.6037187406973
               ],
               [
                -66.544189453125,
                -35.56798045801208
               ],
               [
                -66.500244140625,
                -35.13787911963418
               ],
               [
                -66.59912109375,
                -34.858890491257796
               ],
               [
                -66.76391601562499,
                -34.56085936708384
               ],
               [
                -66.76391601562499,
                -34.488447837809304
               ],
               [
                -66.829833984375,
                -34.27083595164999
               ],
               [
                -66.68701171875,
                -33.934245311173115
               ],
               [
                -66.88201904296875,
                -33.838482755995145
               ],
               [
                -66.90399169921874,
                -33.765448698492214
               ],
               [
                -67.17864990234375,
                -33.45894275368763
               ],
               [
                -67.236328125,
                -32.861132322810946
               ],
               [
                -67.18414306640625,
                -32.819594869239744
               ],
               [
                -67.16766357421875,
                -32.741082231501245
               ],
               [
                -67.2528076171875,
                -32.64400044827675
               ],
               [
                -67.3077392578125,
                -32.45415593941475
               ],
               [
                -67.27203369140625,
                -32.35212281198642
               ],
               [
                -67.33245849609375,
                -32.359083278739675
               ],
               [
                -67.49176025390625,
                -32.30570601389429
               ],
               [
                -67.532958984375,
                -32.22209584050232
               ],
               [
                -67.554931640625,
                -32.24765156466267
               ],
               [
                -67.66754150390625,
                -32.2313896627376
               ],
               [
                -67.72247314453124,
                -32.23835940572264
               ],
               [
                -67.74169921875,
                -32.21977223646089
               ],
               [
                -67.7801513671875,
                -32.22906629627296
               ],
               [
                -67.840576171875,
                -32.22906629627296
               ],
               [
                -67.93121337890625,
                -32.16863792635911
               ],
               [
                -68.00811767578125,
                -32.0849016635483
               ],
               [
                -68.15643310546875,
                -32.11514862261243
               ],
               [
                -68.19488525390625,
                -32.112822289094396
               ],
               [
                -68.20587158203124,
                -32.131431297147934
               ],
               [
                -68.25531005859375,
                -32.09653629470277
               ],
               [
                -68.30474853515625,
                -32.14305999998843
               ],
               [
                -68.46405029296875,
                -32.13840869677249
               ],
               [
                -68.466796875,
                -32.2313896627376
               ],
               [
                -68.66729736328125,
                -32.34052084371421
               ],
               [
                -68.92547607421875,
                -32.33587963983593
               ],
               [
                -68.93096923828124,
                -32.131431297147934
               ],
               [
                -69.12872314453125,
                -32.01273389791075
               ],
               [
                -69.22760009765624,
                -32.01506277844934
               ],
               [
                -69.29901123046875,
                -32.0849016635483
               ],
               [
                -69.43634033203125,
                -32.07326555104237
               ],
               [
                -69.52423095703125,
                -32.13840869677249
               ],
               [
                -69.60113525390625,
                -32.136082956202074
               ],
               [
                -69.60113525390625,
                -32.210477226433824
               ],
               [
                -69.62860107421875,
                -32.2546200600072
               ],
               [
                -69.686279296875,
                -32.31731244438278
               ],
               [
                -69.71923828125,
                -32.30570601389429
               ],
               [
                -69.7467041015625,
                -32.39155837235157
               ],
               [
                -69.686279296875,
                -32.424021792657385
               ],
               [
                -69.70550537109375,
                -32.49123028794758
               ],
               [
                -69.76318359375,
                -32.5190260278275
               ],
               [
                -69.79888916015625,
                -32.54681317351514
               ],
               [
                -69.82086181640625,
                -32.54681317351514
               ],
               [
                -69.8455810546875,
                -32.5722771706588
               ],
               [
                -70.00762939453125,
                -32.53755174676898
               ],
               [
                -70.06256103515625,
                -32.63243606312154
               ],
               [
                -70.09552001953125,
                -32.618556827843264
               ],
               [
                -70.0982666015625,
                -32.590791901737894
               ],
               [
                -70.12847900390625,
                -32.57459172113417
               ],
               [
                -70.17242431640625,
                -32.623183478738675
               ]
              ]
             ],
             "type": "Polygon"
            },
            "properties": {
             "nombre": "Mendoza"
            },
            "type": "Feature"
           },
           {
            "geometry": {
             "coordinates": [
              [
               [
                -68.0712890625,
                -38.95940879245421
               ],
               [
                -68.22509765625,
                -38.69408504756832
               ],
               [
                -68.258056640625,
                -37.570705242331144
               ],
               [
                -68.45581054687499,
                -37.570705242331144
               ],
               [
                -68.543701171875,
                -37.448696585910376
               ],
               [
                -68.70849609375,
                -37.448696585910376
               ],
               [
                -68.79638671875,
                -37.32648861334206
               ],
               [
                -68.851318359375,
                -37.40507375017693
               ],
               [
                -69.049072265625,
                -37.35269280367274
               ],
               [
                -69.08203125,
                -37.212831514455935
               ],
               [
                -69.3017578125,
                -37.13404537126445
               ],
               [
                -69.444580078125,
                -37.18657859524883
               ],
               [
                -69.76318359375,
                -37.090239803072066
               ],
               [
                -69.85107421874999,
                -36.87962060502676
               ],
               [
                -70.2685546875,
                -36.46547188679815
               ],
               [
                -70.257568359375,
                -36.3151251474805
               ],
               [
                -70.37841796875,
                -36.30627216957991
               ],
               [
                -70.433349609375,
                -36.15561783381853
               ],
               [
                -70.55419921875,
                -36.120127589781454
               ],
               [
                -70.675048828125,
                -36.26199220445662
               ],
               [
                -70.675048828125,
                -36.40359962073253
               ],
               [
                -70.927734375,
                -36.37706783983681
               ],
               [
                -70.927734375,
                -36.47430675509521
               ],
               [
                -70.9716796875,
                -36.500805317604794
               ],
               [
                -71.05957031249999,
                -36.456636011596196
               ],
               [
                -71.015625,
                -36.65960622647969
               ],
               [
                -71.05957031249999,
                -36.72127388004499
               ],
               [
                -71.11450195312499,
                -36.6507925250347
               ],
               [
                -71.103515625,
                -36.91476428895593
               ],
               [
                -71.19140625,
                -36.96744946416932
               ],
               [
                -71.103515625,
                -37.17782559332974
               ],
               [
                -71.224365234375,
                -37.300275281344305
               ],
               [
                -71.11450195312499,
                -37.46613860234405
               ],
               [
                -71.1474609375,
                -37.60552821745789
               ],
               [
                -71.2353515625,
                -37.64033489805947
               ],
               [
                -70.960693359375,
                -38.462191723068266
               ],
               [
                -70.86181640625,
                -38.54816542304657
               ],
               [
                -70.894775390625,
                -38.719804742642374
               ],
               [
                -71.47705078125,
                -38.9764924855394
               ],
               [
                -71.378173828125,
                -39.33429742980723
               ],
               [
                -71.466064453125,
                -39.39375459224347
               ],
               [
                -71.531982421875,
                -39.53793974517625
               ],
               [
                -71.488037109375,
                -39.65645604812829
               ],
               [
                -71.6748046875,
                -39.56335316582929
               ],
               [
                -71.6748046875,
                -39.84228602074339
               ],
               [
                -71.5869140625,
                -39.89287990029478
               ],
               [
                -71.6748046875,
                -40.103285912934396
               ],
               [
                -71.806640625,
                -40.078071427450084
               ],
               [
                -71.8505859375,
                -40.25437660372649
               ],
               [
                -71.74072265625,
                -40.3130432088809
               ],
               [
                -71.71875,
                -40.413496049701955
               ],
               [
                -71.8505859375,
                -40.39676430557204
               ],
               [
                -71.905517578125,
                -40.58058466412763
               ],
               [
                -71.982421875,
                -40.73893324113602
               ],
               [
                -71.883544921875,
                -40.91351257612757
               ],
               [
                -71.905517578125,
                -40.98819156349393
               ],
               [
                -71.861572265625,
                -41.03793062246527
               ],
               [
                -71.3232421875,
                -41.11246878918086
               ],
               [
                -71.03759765625,
                -40.93841495689794
               ],
               [
                -71.08154296875,
                -40.76390128094587
               ],
               [
                -70.90576171875,
                -40.58058466412763
               ],
               [
                -70.751953125,
                -40.58058466412763
               ],
               [
                -70.55419921875,
                -40.48038142908171
               ],
               [
                -70.400390625,
                -40.530501775743204
               ],
               [
                -70.13671875,
                -40.49709237269566
               ],
               [
                -69.9609375,
                -40.17887331434695
               ],
               [
                -70.07080078125,
                -39.97712009843963
               ],
               [
                -69.43359375,
                -39.77476948529546
               ],
               [
                -68.79638671875,
                -39.30029918615028
               ],
               [
                -68.291015625,
                -38.95940879245421
               ],
               [
                -68.0712890625,
                -38.95940879245421
               ]
              ]
             ],
             "type": "Polygon"
            },
            "properties": {
             "nombre": "Neuquén"
            },
            "type": "Feature"
           },
           {
            "geometry": {
             "coordinates": [
              [
               [
                -68.07952880859375,
                -38.950865400919994
               ],
               [
                -68.291015625,
                -38.96154447940714
               ],
               [
                -68.345947265625,
                -38.9764924855394
               ],
               [
                -69.41162109375,
                -39.7663252565449
               ],
               [
                -70.09277343749999,
                -39.985538414809724
               ],
               [
                -69.9664306640625,
                -40.18097176388719
               ],
               [
                -70.13671875,
                -40.49291502689579
               ],
               [
                -70.3948974609375,
                -40.53258931069554
               ],
               [
                -70.55145263671875,
                -40.482470524589495
               ],
               [
                -70.7574462890625,
                -40.58058466412763
               ],
               [
                -70.91125488281249,
                -40.58684239087908
               ],
               [
                -71.07879638671875,
                -40.76390128094587
               ],
               [
                -71.03485107421875,
                -40.94256444133327
               ],
               [
                -71.33148193359375,
                -41.10832999732831
               ],
               [
                -71.82861328125,
                -41.02135510866601
               ],
               [
                -71.905517578125,
                -41.186922422902946
               ],
               [
                -71.817626953125,
                -41.310823880918186
               ],
               [
                -71.905517578125,
                -41.269549502842565
               ],
               [
                -71.905517578125,
                -41.39329428878487
               ],
               [
                -71.806640625,
                -41.590796851056
               ],
               [
                -71.89453125,
                -41.66470503009206
               ],
               [
                -71.78466796874999,
                -41.80407814427234
               ],
               [
                -71.795654296875,
                -41.99216023337628
               ],
               [
                -65.093994140625,
                -41.97582726102571
               ],
               [
                -64.9951171875,
                -41.50857729743933
               ],
               [
                -65.17364501953124,
                -41.0607151401866
               ],
               [
                -65.16265869140625,
                -41.03585891144299
               ],
               [
                -65.159912109375,
                -40.92804010533238
               ],
               [
                -65.12420654296875,
                -40.86991083161534
               ],
               [
                -65.13519287109375,
                -40.84290487729675
               ],
               [
                -65.0006103515625,
                -40.75974059207391
               ],
               [
                -64.9017333984375,
                -40.761820969066
               ],
               [
                -64.88800048828125,
                -40.7472569628042
               ],
               [
                -64.9896240234375,
                -40.713955826286046
               ],
               [
                -64.84405517578125,
                -40.713955826286046
               ],
               [
                -64.77813720703125,
                -40.743095232181844
               ],
               [
                -64.80560302734375,
                -40.75349907043136
               ],
               [
                -64.79461669921875,
                -40.786780414016455
               ],
               [
                -64.7589111328125,
                -40.768061709366116
               ],
               [
                -64.73968505859375,
                -40.7888599444948
               ],
               [
                -64.775390625,
                -40.801335759791996
               ],
               [
                -64.84954833984375,
                -40.782621157698514
               ],
               [
                -64.90997314453125,
                -40.80965166748854
               ],
               [
                -64.8797607421875,
                -40.83459313808023
               ],
               [
                -64.74517822265625,
                -40.80757278825516
               ],
               [
                -64.20135498046875,
                -41.01099329360267
               ],
               [
                -64.14093017578125,
                -41.017210578228436
               ],
               [
                -64.0887451171875,
                -40.977824533189505
               ],
               [
                -64.06951904296875,
                -40.994410999439516
               ],
               [
                -64.08599853515625,
                -41.04000226828483
               ],
               [
                -63.94317626953125,
                -41.07935114946897
               ],
               [
                -63.88000488281251,
                -41.13936457644674
               ],
               [
                -63.84979248046875,
                -41.14143302653628
               ],
               [
                -63.78662109375001,
                -41.15591035054503
               ],
               [
                -63.4295654296875,
                -41.16418167186549
               ],
               [
                -63.32519531249999,
                -41.14763798539186
               ],
               [
                -63.29223632812499,
                -41.16211393939691
               ],
               [
                -63.05328369140626,
                -41.15177429844499
               ],
               [
                -62.98736572265625,
                -41.11039942586732
               ],
               [
                -62.78686523437499,
                -41.02342727608893
               ],
               [
                -62.984619140625,
                -40.77014182590509
               ],
               [
                -62.99835205078124,
                -40.80965166748854
               ],
               [
                -63.19885253906249,
                -40.718119379753446
               ],
               [
                -63.39385986328124,
                -40.70979201243495
               ],
               [
                -63.4130859375,
                -39.35978526869
               ],
               [
                -64.5281982421875,
                -38.85895891044852
               ],
               [
                -65.19561767578125,
                -38.8225909761771
               ],
               [
                -65.36865234375,
                -38.87606680031535
               ],
               [
                -65.58013916015625,
                -38.75408327579141
               ],
               [
                -65.6597900390625,
                -38.84184690380897
               ],
               [
                -66.09375,
                -38.756225137839074
               ],
               [
                -66.3134765625,
                -38.79048618862272
               ],
               [
                -66.6265869140625,
                -38.73266112048232
               ],
               [
                -66.6265869140625,
                -38.5825261593533
               ],
               [
                -67.15118408203125,
                -38.42992513040935
               ],
               [
                -67.2418212890625,
                -38.201496974020806
               ],
               [
                -67.65655517578125,
                -38.25759312039535
               ],
               [
                -67.96417236328124,
                -38.01131226070672
               ],
               [
                -67.72247314453124,
                -37.877021386076336
               ],
               [
                -67.87353515625,
                -37.6664292120906
               ],
               [
                -68.2635498046875,
                -37.60552821745789
               ],
               [
                -68.22784423828125,
                -38.69622870885281
               ],
               [
                -68.07952880859375,
                -38.950865400919994
               ]
              ]
             ],
             "type": "Polygon"
            },
            "properties": {
             "nombre": "Río Negro"
            },
            "type": "Feature"
           },
           {
            "geometry": {
             "coordinates": [
              [
               [
                -71.795654296875,
                -42.000325148316215
               ],
               [
                -71.751708984375,
                -42.12267315117256
               ],
               [
                -71.89453125,
                -42.204107493733176
               ],
               [
                -72.08129882812499,
                -42.0737622400872
               ],
               [
                -72.2021484375,
                -42.15525946577861
               ],
               [
                -72.169189453125,
                -42.350425122434565
               ],
               [
                -72.02636718749999,
                -42.40723466155186
               ],
               [
                -72.158203125,
                -42.72280375732726
               ],
               [
                -72.147216796875,
                -42.94033923363181
               ],
               [
                -71.773681640625,
                -43.16512263158296
               ],
               [
                -71.773681640625,
                -43.31718491566705
               ],
               [
                -71.9384765625,
                -43.36512572875842
               ],
               [
                -71.905517578125,
                -43.5326204268101
               ],
               [
                -71.60888671875,
                -43.63607515596578
               ],
               [
                -71.78466796874999,
                -43.81074731344698
               ],
               [
                -71.65283203125,
                -43.94537239244209
               ],
               [
                -71.7626953125,
                -44.150681159780916
               ],
               [
                -71.883544921875,
                -44.087585028245165
               ],
               [
                -71.817626953125,
                -44.4102404129601
               ],
               [
                -71.158447265625,
                -44.44946753600693
               ],
               [
                -71.11450195312499,
                -44.6061127451739
               ],
               [
                -71.21337890625,
                -44.61393394730626
               ],
               [
                -71.25732421875,
                -44.81691551782855
               ],
               [
                -71.52099609375,
                -44.73112559264325
               ],
               [
                -71.663818359375,
                -44.79353090474406
               ],
               [
                -72.08129882812499,
                -44.74673324024679
               ],
               [
                -72.08129882812499,
                -44.91035917458493
               ],
               [
                -71.553955078125,
                -44.98811302615805
               ],
               [
                -71.334228515625,
                -45.29034662473614
               ],
               [
                -71.553955078125,
                -45.38301927899064
               ],
               [
                -71.4990234375,
                -45.47554027158591
               ],
               [
                -71.641845703125,
                -45.52174389699363
               ],
               [
                -71.7626953125,
                -45.575600209478
               ],
               [
                -71.773681640625,
                -45.85176048817253
               ],
               [
                -71.619873046875,
                -45.98932892799953
               ],
               [
                -67.56591796875,
                -46.01985337287632
               ],
               [
                -67.401123046875,
                -45.83645405018771
               ],
               [
                -67.401123046875,
                -45.70617928533083
               ],
               [
                -66.99462890625,
                -45.25168825611765
               ],
               [
                -66.64306640625,
                -45.213003555993964
               ],
               [
                -66.588134765625,
                -45.213003555993964
               ],
               [
                -66.51123046875,
                -45.08127861241874
               ],
               [
                -66.148681640625,
                -44.941473354802504
               ],
               [
                -65.972900390625,
                -45.08127861241874
               ],
               [
                -65.8740234375,
                -45.02695045318544
               ],
               [
                -65.643310546875,
                -45.05800143539828
               ],
               [
                -65.54443359375,
                -44.941473354802504
               ],
               [
                -65.76416015625,
                -44.8636563054061
               ],
               [
                -65.72021484375,
                -44.65302415981199
               ],
               [
                -65.36865234375,
                -44.5982904898401
               ],
               [
                -65.23681640625,
                -44.363133113807706
               ],
               [
                -65.302734375,
                -44.22158376545796
               ],
               [
                -65.302734375,
                -44.12702800650004
               ],
               [
                -65.21484375,
                -44.09547572946636
               ],
               [
                -65.21484375,
                -43.96909818325171
               ],
               [
                -65.401611328125,
                -43.66787161011748
               ],
               [
                -65.181884765625,
                -43.52465500687185
               ],
               [
                -64.984130859375,
                -43.22118973298753
               ],
               [
                -64.281005859375,
                -42.98053954751642
               ],
               [
                -64.34692382812499,
                -42.92827401776912
               ],
               [
                -64.412841796875,
                -42.96245265666877
               ],
               [
                -64.53369140625,
                -42.93229601903057
               ],
               [
                -64.62158203125,
                -42.9182178655845
               ],
               [
                -64.70123291015625,
                -42.90816007196053
               ],
               [
                -64.70947265625,
                -42.87596410238254
               ],
               [
                -64.8248291015625,
                -42.833681387335886
               ],
               [
                -64.86328125,
                -42.837709559849614
               ],
               [
                -64.896240234375,
                -42.819580715795915
               ],
               [
                -64.9456787109375,
                -42.78935416050277
               ],
               [
                -65.02532958984374,
                -42.7752433806997
               ],
               [
                -65.04730224609375,
                -42.73490914651559
               ],
               [
                -65.00335693359375,
                -42.700604408080835
               ],
               [
                -64.9896240234375,
                -42.65214190481524
               ],
               [
                -64.874267578125,
                -42.61172761665583
               ],
               [
                -64.852294921875,
                -42.61779143282346
               ],
               [
                -64.69573974609375,
                -42.52272381854158
               ],
               [
                -64.57763671875,
                -42.49032731830466
               ],
               [
                -64.390869140625,
                -42.51462626746591
               ],
               [
                -64.34967041015625,
                -42.53082032025189
               ],
               [
                -64.31121826171875,
                -42.593532625649935
               ],
               [
                -64.27825927734375,
                -42.56117285531809
               ],
               [
                -64.25628662109375,
                -42.595554553719204
               ],
               [
                -64.281005859375,
                -42.627896481020834
               ],
               [
                -64.21783447265625,
                -42.61172761665583
               ],
               [
                -64.2041015625,
                -42.62587560259135
               ],
               [
                -64.26177978515625,
                -42.68647341541783
               ],
               [
                -64.259033203125,
                -42.76314586689493
               ],
               [
                -64.127197265625,
                -42.879989517714804
               ],
               [
                -63.73718261718749,
                -42.81555136172695
               ],
               [
                -63.62731933593749,
                -42.765162283274684
               ],
               [
                -63.64379882812499,
                -42.7066595635104
               ],
               [
                -63.58886718749999,
                -42.60970621339408
               ],
               [
                -63.60260009765625,
                -42.50247797334869
               ],
               [
                -63.60260009765625,
                -42.32809302822459
               ],
               [
                -63.6328125,
                -42.261049162113835
               ],
               [
                -63.67675781249999,
                -42.21427941637545
               ],
               [
                -63.75640869140625,
                -42.0737622400872
               ],
               [
                -63.797607421875,
                -42.067645723795266
               ],
               [
                -63.97338867187501,
                -42.116561350389006
               ],
               [
                -64.05303955078125,
                -42.16951070521655
               ],
               [
                -64.3853759765625,
                -42.24071874922666
               ],
               [
                -64.4842529296875,
                -42.24071874922666
               ],
               [
                -64.8248291015625,
                -42.20003826604674
               ],
               [
                -64.9072265625,
                -42.15933157601719
               ],
               [
                -65.093994140625,
                -41.996242821785806
               ],
               [
                -65.0994873046875,
                -41.97378534488486
               ],
               [
                -71.795654296875,
                -42.000325148316215
               ]
              ]
             ],
             "type": "Polygon"
            },
            "properties": {
             "nombre": "Chubut"
            },
            "type": "Feature"
           },
           {
            "geometry": {
             "coordinates": [
              [
               [
                -67.598876953125,
                -46.01985337287632
               ],
               [
                -71.60888671875,
                -45.98169518512228
               ],
               [
                -71.7626953125,
                -46.10370875598025
               ],
               [
                -71.9384765625,
                -46.13417004624325
               ],
               [
                -71.78466796874999,
                -46.21785176740299
               ],
               [
                -71.641845703125,
                -46.68713141244413
               ],
               [
                -71.883544921875,
                -46.8000594467873
               ],
               [
                -71.97143554687499,
                -46.8000594467873
               ],
               [
                -71.8505859375,
                -47.21210577562242
               ],
               [
                -72.037353515625,
                -47.19717795172787
               ],
               [
                -72.037353515625,
                -47.353710619513606
               ],
               [
                -72.1142578125,
                -47.31648293428332
               ],
               [
                -72.35595703125,
                -47.46523622438362
               ],
               [
                -72.322998046875,
                -47.613569753973955
               ],
               [
                -72.520751953125,
                -47.76886840424206
               ],
               [
                -72.564697265625,
                -47.95314495015593
               ],
               [
                -72.44384765625,
                -47.98992166741417
               ],
               [
                -72.257080078125,
                -48.34164617237459
               ],
               [
                -72.432861328125,
                -48.52388120259334
               ],
               [
                -72.57568359375,
                -48.451065619532145
               ],
               [
                -72.5537109375,
                -48.78515199804314
               ],
               [
                -72.83935546875,
                -48.98021698537499
               ],
               [
                -72.894287109375,
                -48.944151234187935
               ],
               [
                -73.135986328125,
                -49.2032427441791
               ],
               [
                -73.0810546875,
                -49.274972875996376
               ],
               [
                -73.47656249999999,
                -49.210420445650286
               ],
               [
                -73.5205078125,
                -49.26780455063752
               ],
               [
                -73.41064453125,
                -49.35375571830991
               ],
               [
                -73.54248046875,
                -49.55372551347578
               ],
               [
                -73.45458984375,
                -49.80963156356309
               ],
               [
                -73.564453125,
                -49.95121990866204
               ],
               [
                -73.45458984375,
                -49.96535590991309
               ],
               [
                -73.531494140625,
                -50.14170587960566
               ],
               [
                -73.41064453125,
                -50.24017888479702
               ],
               [
                -73.42163085937499,
                -50.34546040860478
               ],
               [
                -73.36669921875,
                -50.57626025689926
               ],
               [
                -73.17993164062499,
                -50.625073063414355
               ],
               [
                -73.1689453125,
                -50.79899141148548
               ],
               [
                -72.79541015625,
                -50.639010281258706
               ],
               [
                -72.59765625,
                -50.68775800806201
               ],
               [
                -72.4658203125,
                -50.59718623058701
               ],
               [
                -72.279052734375,
                -50.67383524992133
               ],
               [
                -72.3779296875,
                -50.736455137010644
               ],
               [
                -72.2900390625,
                -51.03448563297413
               ],
               [
                -72.388916015625,
                -51.020666012558095
               ],
               [
                -72.388916015625,
                -51.13800148806255
               ],
               [
                -72.26806640624999,
                -51.26878915771343
               ],
               [
                -72.3779296875,
                -51.35806157319091
               ],
               [
                -72.301025390625,
                -51.39920565355377
               ],
               [
                -72.421875,
                -51.570241445811234
               ],
               [
                -72.2900390625,
                -51.618016548773696
               ],
               [
                -72.2900390625,
                -51.692990211491846
               ],
               [
                -71.927490234375,
                -51.923943445544694
               ],
               [
                -72.02636718749999,
                -51.971345808851716
               ],
               [
                -69.9609375,
                -51.99841038239032
               ],
               [
                -69.521484375,
                -52.15371445951162
               ],
               [
                -69.169921875,
                -52.146973340644706
               ],
               [
                -68.895263671875,
                -52.274880130680536
               ],
               [
                -68.4228515625,
                -52.35547370875268
               ],
               [
                -68.35693359375,
                -52.32862548843016
               ],
               [
                -68.9501953125,
                -51.68617954855623
               ],
               [
                -68.9501953125,
                -51.52241608253253
               ],
               [
                -69.18090820312499,
                -50.965346321637696
               ],
               [
                -69.3896484375,
                -51.082821861609766
               ],
               [
                -69.136962890625,
                -50.847572953653874
               ],
               [
                -68.93920898437499,
                -50.324422739309384
               ],
               [
                -68.367919921875,
                -50.13466432216695
               ],
               [
                -68.64257812499999,
                -49.83798245308484
               ],
               [
                -68.291015625,
                -50.12057809796008
               ],
               [
                -67.752685546875,
                -49.85215166776998
               ],
               [
                -67.6318359375,
                -49.26780455063752
               ],
               [
                -67.598876953125,
                -49.0738659012854
               ],
               [
                -67.203369140625,
                -48.821332549646634
               ],
               [
                -67.159423828125,
                -48.64016871811908
               ],
               [
                -66.873779296875,
                -48.60385760823253
               ],
               [
                -66.46728515624999,
                -48.400032496106846
               ],
               [
                -66.478271484375,
                -48.327039130634766
               ],
               [
                -66.37939453125,
                -48.363548888986884
               ],
               [
                -66.192626953125,
                -48.12943437745314
               ],
               [
                -65.93994140625,
                -48.08541857551197
               ],
               [
                -66.02783203125,
                -48.01197512670994
               ],
               [
                -65.9619140625,
                -47.93106634750977
               ],
               [
                -65.841064453125,
                -47.975214123416166
               ],
               [
                -65.775146484375,
                -47.91634204016117
               ],
               [
                -65.906982421875,
                -47.75409797968002
               ],
               [
                -65.709228515625,
                -47.36115300722623
               ],
               [
                -65.753173828125,
                -47.18224592701489
               ],
               [
                -65.928955078125,
                -47.055154085503474
               ],
               [
                -66.192626953125,
                -47.070121823833084
               ],
               [
                -66.632080078125,
                -47.04766864046081
               ],
               [
                -67.39013671875,
                -46.59661864884464
               ],
               [
                -67.576904296875,
                -46.36967413462374
               ],
               [
                -67.6318359375,
                -46.21785176740299
               ],
               [
                -67.598876953125,
                -46.01985337287632
               ]
              ]
             ],
             "type": "Polygon"
            },
            "properties": {
             "nombre": "Santa Cruz"
            },
            "type": "Feature"
           },
           {
            "geometry": {
             "coordinates": [
              [
               [
                -68.40087890624999,
                -52.36218321674425
               ],
               [
                -68.62060546875,
                -52.643063436658906
               ],
               [
                -68.62060546875,
                -54.927141864546435
               ],
               [
                -67.25830078125,
                -54.914514007665254
               ],
               [
                -66.37939453125,
                -55.040614327716725
               ],
               [
                -65.3466796875,
                -54.914514007665254
               ],
               [
                -65.19287109375,
                -54.686534234529695
               ],
               [
                -65.63232421875,
                -54.67383096593114
               ],
               [
                -66.5771484375,
                -54.48280455958254
               ],
               [
                -66.70898437499999,
                -54.316523240258256
               ],
               [
                -67.47802734375,
                -53.95608553098789
               ],
               [
                -67.6318359375,
                -53.77468884583576
               ],
               [
                -68.04931640625,
                -53.59250480903936
               ],
               [
                -68.09326171875,
                -53.34399288223421
               ],
               [
                -68.62060546875,
                -53.25206880589412
               ],
               [
                -68.3349609375,
                -53.01478324585921
               ],
               [
                -68.5546875,
                -52.72298552457067
               ],
               [
                -68.40087890624999,
                -52.36218321674425
               ]
              ]
             ],
             "type": "Polygon"
            },
            "properties": {
             "nombre": "Tierra del Fuego"
            },
            "type": "Feature"
           },
           {
            "geometry": {
             "coordinates": [
              [
               [
                -58.41293334960937,
                -34.56566571569509
               ],
               [
                -58.46580505371094,
                -34.53371242139564
               ],
               [
                -58.50116729736328,
                -34.54954921593402
               ],
               [
                -58.532752990722656,
                -34.61682196594163
               ],
               [
                -58.52931976318359,
                -34.6555214931444
               ],
               [
                -58.46099853515624,
                -34.705281728442685
               ],
               [
                -58.424949645996094,
                -34.662299113496196
               ],
               [
                -58.41293334960937,
                -34.65778076151677
               ],
               [
                -58.40572357177734,
                -34.65975757082139
               ],
               [
                -58.39336395263672,
                -34.66286389017133
               ],
               [
                -58.38409423828125,
                -34.6586279712784
               ],
               [
                -58.37692737579346,
                -34.6571453485119
               ],
               [
                -58.37362289428711,
                -34.65718064936219
               ],
               [
                -58.36963176727295,
                -34.6538270014492
               ],
               [
                -58.368988037109375,
                -34.65146171553466
               ],
               [
                -58.36418151855469,
                -34.64863740514246
               ],
               [
                -58.36186408996582,
                -34.64831966420204
               ],
               [
                -58.356971740722656,
                -34.64436545285109
               ],
               [
                -58.347015380859375,
                -34.63320791137958
               ],
               [
                -58.34564208984375,
                -34.626427912618915
               ],
               [
                -58.33602905273437,
                -34.62699293367837
               ],
               [
                -58.34770202636719,
                -34.598737167902335
               ],
               [
                -58.35868835449218,
                -34.595345829770636
               ],
               [
                -58.36486816406249,
                -34.598737167902335
               ],
               [
                -58.36967468261719,
                -34.578387062362864
               ],
               [
                -58.41293334960937,
                -34.56566571569509
               ]
              ]
             ],
             "type": "Polygon"
            },
            "properties": {
             "nombre": "Capital Federal"
            },
            "type": "Feature"
           }
          ],
          "type": "FeatureCollection"
         },
         "hovertemplate": "PROVINCIA=%{location}<br>CANTIDAD=%{z}<extra></extra>",
         "locations": [
          "Buenos Aires",
          "Catamarca",
          "Chaco",
          "Chubut",
          "Corrientes",
          "Córdoba",
          "Entre Ríos",
          "Formosa",
          "JUJUY",
          "Jujuy",
          "La Pampa",
          "Mendoza",
          "Neuquén",
          "Río Negro",
          "San Juan",
          "San Luis",
          "Santa Cruz",
          "Santa Fe",
          "Santiago del Estero",
          "Tierra del Fuego"
         ],
         "marker": {
          "opacity": 0.3
         },
         "name": "",
         "subplot": "mapbox",
         "type": "choroplethmapbox",
         "z": [
          136627286,
          19405862,
          30895035,
          21973807,
          28895819,
          36031,
          34751011,
          10227663,
          68183741,
          18812244,
          3218221,
          218523548,
          26149637,
          18316783,
          96031987,
          16380758,
          2122996,
          130693902,
          117939,
          8868719
         ]
        }
       ],
       "layout": {
        "coloraxis": {
         "cmax": 137000000,
         "cmin": 1000000,
         "colorbar": {
          "title": {
           "text": "CANTIDAD"
          }
         },
         "colorscale": [
          [
           0,
           "#440154"
          ],
          [
           0.1111111111111111,
           "#482878"
          ],
          [
           0.2222222222222222,
           "#3e4989"
          ],
          [
           0.3333333333333333,
           "#31688e"
          ],
          [
           0.4444444444444444,
           "#26828e"
          ],
          [
           0.5555555555555556,
           "#1f9e89"
          ],
          [
           0.6666666666666666,
           "#35b779"
          ],
          [
           0.7777777777777778,
           "#6ece58"
          ],
          [
           0.8888888888888888,
           "#b5de2b"
          ],
          [
           1,
           "#fde725"
          ]
         ]
        },
        "legend": {
         "tracegroupgap": 0
        },
        "mapbox": {
         "center": {
          "lat": -38.4,
          "lon": -63.6
         },
         "domain": {
          "x": [
           0,
           1
          ],
          "y": [
           0,
           1
          ]
         },
         "style": "open-street-map",
         "zoom": 3
        },
        "margin": {
         "b": 0,
         "l": 0,
         "r": 0,
         "t": 0
        },
        "template": {
         "data": {
          "bar": [
           {
            "error_x": {
             "color": "#2a3f5f"
            },
            "error_y": {
             "color": "#2a3f5f"
            },
            "marker": {
             "line": {
              "color": "#E5ECF6",
              "width": 0.5
             },
             "pattern": {
              "fillmode": "overlay",
              "size": 10,
              "solidity": 0.2
             }
            },
            "type": "bar"
           }
          ],
          "barpolar": [
           {
            "marker": {
             "line": {
              "color": "#E5ECF6",
              "width": 0.5
             },
             "pattern": {
              "fillmode": "overlay",
              "size": 10,
              "solidity": 0.2
             }
            },
            "type": "barpolar"
           }
          ],
          "carpet": [
           {
            "aaxis": {
             "endlinecolor": "#2a3f5f",
             "gridcolor": "white",
             "linecolor": "white",
             "minorgridcolor": "white",
             "startlinecolor": "#2a3f5f"
            },
            "baxis": {
             "endlinecolor": "#2a3f5f",
             "gridcolor": "white",
             "linecolor": "white",
             "minorgridcolor": "white",
             "startlinecolor": "#2a3f5f"
            },
            "type": "carpet"
           }
          ],
          "choropleth": [
           {
            "colorbar": {
             "outlinewidth": 0,
             "ticks": ""
            },
            "type": "choropleth"
           }
          ],
          "contour": [
           {
            "colorbar": {
             "outlinewidth": 0,
             "ticks": ""
            },
            "colorscale": [
             [
              0,
              "#0d0887"
             ],
             [
              0.1111111111111111,
              "#46039f"
             ],
             [
              0.2222222222222222,
              "#7201a8"
             ],
             [
              0.3333333333333333,
              "#9c179e"
             ],
             [
              0.4444444444444444,
              "#bd3786"
             ],
             [
              0.5555555555555556,
              "#d8576b"
             ],
             [
              0.6666666666666666,
              "#ed7953"
             ],
             [
              0.7777777777777778,
              "#fb9f3a"
             ],
             [
              0.8888888888888888,
              "#fdca26"
             ],
             [
              1,
              "#f0f921"
             ]
            ],
            "type": "contour"
           }
          ],
          "contourcarpet": [
           {
            "colorbar": {
             "outlinewidth": 0,
             "ticks": ""
            },
            "type": "contourcarpet"
           }
          ],
          "heatmap": [
           {
            "colorbar": {
             "outlinewidth": 0,
             "ticks": ""
            },
            "colorscale": [
             [
              0,
              "#0d0887"
             ],
             [
              0.1111111111111111,
              "#46039f"
             ],
             [
              0.2222222222222222,
              "#7201a8"
             ],
             [
              0.3333333333333333,
              "#9c179e"
             ],
             [
              0.4444444444444444,
              "#bd3786"
             ],
             [
              0.5555555555555556,
              "#d8576b"
             ],
             [
              0.6666666666666666,
              "#ed7953"
             ],
             [
              0.7777777777777778,
              "#fb9f3a"
             ],
             [
              0.8888888888888888,
              "#fdca26"
             ],
             [
              1,
              "#f0f921"
             ]
            ],
            "type": "heatmap"
           }
          ],
          "heatmapgl": [
           {
            "colorbar": {
             "outlinewidth": 0,
             "ticks": ""
            },
            "colorscale": [
             [
              0,
              "#0d0887"
             ],
             [
              0.1111111111111111,
              "#46039f"
             ],
             [
              0.2222222222222222,
              "#7201a8"
             ],
             [
              0.3333333333333333,
              "#9c179e"
             ],
             [
              0.4444444444444444,
              "#bd3786"
             ],
             [
              0.5555555555555556,
              "#d8576b"
             ],
             [
              0.6666666666666666,
              "#ed7953"
             ],
             [
              0.7777777777777778,
              "#fb9f3a"
             ],
             [
              0.8888888888888888,
              "#fdca26"
             ],
             [
              1,
              "#f0f921"
             ]
            ],
            "type": "heatmapgl"
           }
          ],
          "histogram": [
           {
            "marker": {
             "pattern": {
              "fillmode": "overlay",
              "size": 10,
              "solidity": 0.2
             }
            },
            "type": "histogram"
           }
          ],
          "histogram2d": [
           {
            "colorbar": {
             "outlinewidth": 0,
             "ticks": ""
            },
            "colorscale": [
             [
              0,
              "#0d0887"
             ],
             [
              0.1111111111111111,
              "#46039f"
             ],
             [
              0.2222222222222222,
              "#7201a8"
             ],
             [
              0.3333333333333333,
              "#9c179e"
             ],
             [
              0.4444444444444444,
              "#bd3786"
             ],
             [
              0.5555555555555556,
              "#d8576b"
             ],
             [
              0.6666666666666666,
              "#ed7953"
             ],
             [
              0.7777777777777778,
              "#fb9f3a"
             ],
             [
              0.8888888888888888,
              "#fdca26"
             ],
             [
              1,
              "#f0f921"
             ]
            ],
            "type": "histogram2d"
           }
          ],
          "histogram2dcontour": [
           {
            "colorbar": {
             "outlinewidth": 0,
             "ticks": ""
            },
            "colorscale": [
             [
              0,
              "#0d0887"
             ],
             [
              0.1111111111111111,
              "#46039f"
             ],
             [
              0.2222222222222222,
              "#7201a8"
             ],
             [
              0.3333333333333333,
              "#9c179e"
             ],
             [
              0.4444444444444444,
              "#bd3786"
             ],
             [
              0.5555555555555556,
              "#d8576b"
             ],
             [
              0.6666666666666666,
              "#ed7953"
             ],
             [
              0.7777777777777778,
              "#fb9f3a"
             ],
             [
              0.8888888888888888,
              "#fdca26"
             ],
             [
              1,
              "#f0f921"
             ]
            ],
            "type": "histogram2dcontour"
           }
          ],
          "mesh3d": [
           {
            "colorbar": {
             "outlinewidth": 0,
             "ticks": ""
            },
            "type": "mesh3d"
           }
          ],
          "parcoords": [
           {
            "line": {
             "colorbar": {
              "outlinewidth": 0,
              "ticks": ""
             }
            },
            "type": "parcoords"
           }
          ],
          "pie": [
           {
            "automargin": true,
            "type": "pie"
           }
          ],
          "scatter": [
           {
            "fillpattern": {
             "fillmode": "overlay",
             "size": 10,
             "solidity": 0.2
            },
            "type": "scatter"
           }
          ],
          "scatter3d": [
           {
            "line": {
             "colorbar": {
              "outlinewidth": 0,
              "ticks": ""
             }
            },
            "marker": {
             "colorbar": {
              "outlinewidth": 0,
              "ticks": ""
             }
            },
            "type": "scatter3d"
           }
          ],
          "scattercarpet": [
           {
            "marker": {
             "colorbar": {
              "outlinewidth": 0,
              "ticks": ""
             }
            },
            "type": "scattercarpet"
           }
          ],
          "scattergeo": [
           {
            "marker": {
             "colorbar": {
              "outlinewidth": 0,
              "ticks": ""
             }
            },
            "type": "scattergeo"
           }
          ],
          "scattergl": [
           {
            "marker": {
             "colorbar": {
              "outlinewidth": 0,
              "ticks": ""
             }
            },
            "type": "scattergl"
           }
          ],
          "scattermapbox": [
           {
            "marker": {
             "colorbar": {
              "outlinewidth": 0,
              "ticks": ""
             }
            },
            "type": "scattermapbox"
           }
          ],
          "scatterpolar": [
           {
            "marker": {
             "colorbar": {
              "outlinewidth": 0,
              "ticks": ""
             }
            },
            "type": "scatterpolar"
           }
          ],
          "scatterpolargl": [
           {
            "marker": {
             "colorbar": {
              "outlinewidth": 0,
              "ticks": ""
             }
            },
            "type": "scatterpolargl"
           }
          ],
          "scatterternary": [
           {
            "marker": {
             "colorbar": {
              "outlinewidth": 0,
              "ticks": ""
             }
            },
            "type": "scatterternary"
           }
          ],
          "surface": [
           {
            "colorbar": {
             "outlinewidth": 0,
             "ticks": ""
            },
            "colorscale": [
             [
              0,
              "#0d0887"
             ],
             [
              0.1111111111111111,
              "#46039f"
             ],
             [
              0.2222222222222222,
              "#7201a8"
             ],
             [
              0.3333333333333333,
              "#9c179e"
             ],
             [
              0.4444444444444444,
              "#bd3786"
             ],
             [
              0.5555555555555556,
              "#d8576b"
             ],
             [
              0.6666666666666666,
              "#ed7953"
             ],
             [
              0.7777777777777778,
              "#fb9f3a"
             ],
             [
              0.8888888888888888,
              "#fdca26"
             ],
             [
              1,
              "#f0f921"
             ]
            ],
            "type": "surface"
           }
          ],
          "table": [
           {
            "cells": {
             "fill": {
              "color": "#EBF0F8"
             },
             "line": {
              "color": "white"
             }
            },
            "header": {
             "fill": {
              "color": "#C8D4E3"
             },
             "line": {
              "color": "white"
             }
            },
            "type": "table"
           }
          ]
         },
         "layout": {
          "annotationdefaults": {
           "arrowcolor": "#2a3f5f",
           "arrowhead": 0,
           "arrowwidth": 1
          },
          "autotypenumbers": "strict",
          "coloraxis": {
           "colorbar": {
            "outlinewidth": 0,
            "ticks": ""
           }
          },
          "colorscale": {
           "diverging": [
            [
             0,
             "#8e0152"
            ],
            [
             0.1,
             "#c51b7d"
            ],
            [
             0.2,
             "#de77ae"
            ],
            [
             0.3,
             "#f1b6da"
            ],
            [
             0.4,
             "#fde0ef"
            ],
            [
             0.5,
             "#f7f7f7"
            ],
            [
             0.6,
             "#e6f5d0"
            ],
            [
             0.7,
             "#b8e186"
            ],
            [
             0.8,
             "#7fbc41"
            ],
            [
             0.9,
             "#4d9221"
            ],
            [
             1,
             "#276419"
            ]
           ],
           "sequential": [
            [
             0,
             "#0d0887"
            ],
            [
             0.1111111111111111,
             "#46039f"
            ],
            [
             0.2222222222222222,
             "#7201a8"
            ],
            [
             0.3333333333333333,
             "#9c179e"
            ],
            [
             0.4444444444444444,
             "#bd3786"
            ],
            [
             0.5555555555555556,
             "#d8576b"
            ],
            [
             0.6666666666666666,
             "#ed7953"
            ],
            [
             0.7777777777777778,
             "#fb9f3a"
            ],
            [
             0.8888888888888888,
             "#fdca26"
            ],
            [
             1,
             "#f0f921"
            ]
           ],
           "sequentialminus": [
            [
             0,
             "#0d0887"
            ],
            [
             0.1111111111111111,
             "#46039f"
            ],
            [
             0.2222222222222222,
             "#7201a8"
            ],
            [
             0.3333333333333333,
             "#9c179e"
            ],
            [
             0.4444444444444444,
             "#bd3786"
            ],
            [
             0.5555555555555556,
             "#d8576b"
            ],
            [
             0.6666666666666666,
             "#ed7953"
            ],
            [
             0.7777777777777778,
             "#fb9f3a"
            ],
            [
             0.8888888888888888,
             "#fdca26"
            ],
            [
             1,
             "#f0f921"
            ]
           ]
          },
          "colorway": [
           "#636efa",
           "#EF553B",
           "#00cc96",
           "#ab63fa",
           "#FFA15A",
           "#19d3f3",
           "#FF6692",
           "#B6E880",
           "#FF97FF",
           "#FECB52"
          ],
          "font": {
           "color": "#2a3f5f"
          },
          "geo": {
           "bgcolor": "white",
           "lakecolor": "white",
           "landcolor": "#E5ECF6",
           "showlakes": true,
           "showland": true,
           "subunitcolor": "white"
          },
          "hoverlabel": {
           "align": "left"
          },
          "hovermode": "closest",
          "mapbox": {
           "style": "light"
          },
          "paper_bgcolor": "white",
          "plot_bgcolor": "#E5ECF6",
          "polar": {
           "angularaxis": {
            "gridcolor": "white",
            "linecolor": "white",
            "ticks": ""
           },
           "bgcolor": "#E5ECF6",
           "radialaxis": {
            "gridcolor": "white",
            "linecolor": "white",
            "ticks": ""
           }
          },
          "scene": {
           "xaxis": {
            "backgroundcolor": "#E5ECF6",
            "gridcolor": "white",
            "gridwidth": 2,
            "linecolor": "white",
            "showbackground": true,
            "ticks": "",
            "zerolinecolor": "white"
           },
           "yaxis": {
            "backgroundcolor": "#E5ECF6",
            "gridcolor": "white",
            "gridwidth": 2,
            "linecolor": "white",
            "showbackground": true,
            "ticks": "",
            "zerolinecolor": "white"
           },
           "zaxis": {
            "backgroundcolor": "#E5ECF6",
            "gridcolor": "white",
            "gridwidth": 2,
            "linecolor": "white",
            "showbackground": true,
            "ticks": "",
            "zerolinecolor": "white"
           }
          },
          "shapedefaults": {
           "line": {
            "color": "#2a3f5f"
           }
          },
          "ternary": {
           "aaxis": {
            "gridcolor": "white",
            "linecolor": "white",
            "ticks": ""
           },
           "baxis": {
            "gridcolor": "white",
            "linecolor": "white",
            "ticks": ""
           },
           "bgcolor": "#E5ECF6",
           "caxis": {
            "gridcolor": "white",
            "linecolor": "white",
            "ticks": ""
           }
          },
          "title": {
           "x": 0.05
          },
          "xaxis": {
           "automargin": true,
           "gridcolor": "white",
           "linecolor": "white",
           "ticks": "",
           "title": {
            "standoff": 15
           },
           "zerolinecolor": "white",
           "zerolinewidth": 2
          },
          "yaxis": {
           "automargin": true,
           "gridcolor": "white",
           "linecolor": "white",
           "ticks": "",
           "title": {
            "standoff": 15
           },
           "zerolinecolor": "white",
           "zerolinewidth": 2
          }
         }
        },
        "title": {
         "text": "Mapa de tráfico de pasajeros fuera de AMBA"
        }
       }
      }
     },
     "metadata": {},
     "output_type": "display_data"
    }
   ],
   "source": [
    "with open (\"./ProvinciasArgentina.geojson\") as f:\n",
    "    data = json.load(f)\n",
    "\n",
    "data_mapa = sube_2023.loc[sube_2023['AMBA'] == 'NO',:]\n",
    "data_mapa[\"PROVINCIA\"]=data_mapa[\"PROVINCIA\"].replace({\n",
    "    'SANTIAGO DEL ESTERO': 'Santiago del Estero',\n",
    "    'TIERRA DEL FUEGO': 'Tierra del Fuego',\n",
    "    'CAPITAL FEDERAL': 'Capital Federal',\n",
    "    'BUENOS AIRES': 'Buenos Aires',\n",
    "    'JN': 'Jujuy',  \n",
    "    'CHUBUT': 'Chubut',\n",
    "    'SANTA FE': 'Santa Fe',\n",
    "    'ENTRE RÍOS': 'Entre Ríos',\n",
    "    'LA PAMPA': 'La Pampa',\n",
    "    'MENDOZA': 'Mendoza',\n",
    "    'RÍO NEGRO': 'Río Negro',\n",
    "    'CHACO': 'Chaco',\n",
    "    'NEUQUÉN': 'Neuquén',\n",
    "    'FORMOSA': 'Formosa',\n",
    "    'CORRIENTES': 'Corrientes',\n",
    "    'CATAMARCA': 'Catamarca',\n",
    "    'SAN JUAN': 'San Juan',\n",
    "    'SAN LUIS': 'San Luis',\n",
    "    'CORDOBA': 'Córdoba',\n",
    "    'SANTA CRUZ': 'Santa Cruz'\n",
    "})\n",
    "\n",
    "fig = px.choropleth_mapbox(data_mapa.groupby(['PROVINCIA'])['CANTIDAD'].sum().reset_index(), geojson=data,featureidkey='properties.nombre', locations='PROVINCIA', color='CANTIDAD',\n",
    "                           color_continuous_scale=\"Viridis\",\n",
    "                           range_color=(1000000, 137000000),\n",
    "                           mapbox_style= \"open-street-map\" , # formatos de diseño del mapa : \"carto-positron\", \"carto-positron\",   \"white-bg\",\n",
    "                           zoom=3, center = {\"lat\": -38.40, \"lon\": -63.60},\n",
    "                           opacity=0.3,\n",
    "                           title='Mapa de tráfico de pasajeros fuera de AMBA'\n",
    "                          )\n",
    "\n",
    "fig.update_layout(margin={\"r\":0,\"t\":0,\"l\":0,\"b\":0})\n",
    "\n",
    "fig.show()\n"
   ]
  },
  {
   "cell_type": "code",
   "execution_count": 96,
   "metadata": {},
   "outputs": [
    {
     "data": {
      "application/vnd.plotly.v1+json": {
       "config": {
        "plotlyServerURL": "https://plot.ly"
       },
       "data": [
        {
         "domain": {
          "x": [
           0,
           1
          ],
          "y": [
           0,
           1
          ]
         },
         "hovertemplate": "PROVINCIA=%{label}<br>Cantidad de Pasajeros=%{value}<extra></extra>",
         "labels": [
          "Catamarca",
          "Chaco",
          "Chubut",
          "Corrientes",
          "Córdoba",
          "Entre Ríos",
          "Formosa",
          "JUJUY",
          "Jujuy",
          "La Pampa",
          "Mendoza",
          "Neuquén",
          "Río Negro",
          "San Juan",
          "San Luis",
          "Santa Cruz",
          "Santa Fe",
          "Santiago del Estero",
          "Tierra del Fuego"
         ],
         "legendgroup": "",
         "name": "",
         "showlegend": true,
         "type": "pie",
         "values": [
          19405862,
          30895035,
          21973807,
          28895819,
          36031,
          34751011,
          10227663,
          68183741,
          18505312,
          3218221,
          218523548,
          26149637,
          18316783,
          96031987,
          16380758,
          2122996,
          130693902,
          117939,
          8868719
         ]
        }
       ],
       "layout": {
        "legend": {
         "tracegroupgap": 0
        },
        "template": {
         "data": {
          "bar": [
           {
            "error_x": {
             "color": "#2a3f5f"
            },
            "error_y": {
             "color": "#2a3f5f"
            },
            "marker": {
             "line": {
              "color": "#E5ECF6",
              "width": 0.5
             },
             "pattern": {
              "fillmode": "overlay",
              "size": 10,
              "solidity": 0.2
             }
            },
            "type": "bar"
           }
          ],
          "barpolar": [
           {
            "marker": {
             "line": {
              "color": "#E5ECF6",
              "width": 0.5
             },
             "pattern": {
              "fillmode": "overlay",
              "size": 10,
              "solidity": 0.2
             }
            },
            "type": "barpolar"
           }
          ],
          "carpet": [
           {
            "aaxis": {
             "endlinecolor": "#2a3f5f",
             "gridcolor": "white",
             "linecolor": "white",
             "minorgridcolor": "white",
             "startlinecolor": "#2a3f5f"
            },
            "baxis": {
             "endlinecolor": "#2a3f5f",
             "gridcolor": "white",
             "linecolor": "white",
             "minorgridcolor": "white",
             "startlinecolor": "#2a3f5f"
            },
            "type": "carpet"
           }
          ],
          "choropleth": [
           {
            "colorbar": {
             "outlinewidth": 0,
             "ticks": ""
            },
            "type": "choropleth"
           }
          ],
          "contour": [
           {
            "colorbar": {
             "outlinewidth": 0,
             "ticks": ""
            },
            "colorscale": [
             [
              0,
              "#0d0887"
             ],
             [
              0.1111111111111111,
              "#46039f"
             ],
             [
              0.2222222222222222,
              "#7201a8"
             ],
             [
              0.3333333333333333,
              "#9c179e"
             ],
             [
              0.4444444444444444,
              "#bd3786"
             ],
             [
              0.5555555555555556,
              "#d8576b"
             ],
             [
              0.6666666666666666,
              "#ed7953"
             ],
             [
              0.7777777777777778,
              "#fb9f3a"
             ],
             [
              0.8888888888888888,
              "#fdca26"
             ],
             [
              1,
              "#f0f921"
             ]
            ],
            "type": "contour"
           }
          ],
          "contourcarpet": [
           {
            "colorbar": {
             "outlinewidth": 0,
             "ticks": ""
            },
            "type": "contourcarpet"
           }
          ],
          "heatmap": [
           {
            "colorbar": {
             "outlinewidth": 0,
             "ticks": ""
            },
            "colorscale": [
             [
              0,
              "#0d0887"
             ],
             [
              0.1111111111111111,
              "#46039f"
             ],
             [
              0.2222222222222222,
              "#7201a8"
             ],
             [
              0.3333333333333333,
              "#9c179e"
             ],
             [
              0.4444444444444444,
              "#bd3786"
             ],
             [
              0.5555555555555556,
              "#d8576b"
             ],
             [
              0.6666666666666666,
              "#ed7953"
             ],
             [
              0.7777777777777778,
              "#fb9f3a"
             ],
             [
              0.8888888888888888,
              "#fdca26"
             ],
             [
              1,
              "#f0f921"
             ]
            ],
            "type": "heatmap"
           }
          ],
          "heatmapgl": [
           {
            "colorbar": {
             "outlinewidth": 0,
             "ticks": ""
            },
            "colorscale": [
             [
              0,
              "#0d0887"
             ],
             [
              0.1111111111111111,
              "#46039f"
             ],
             [
              0.2222222222222222,
              "#7201a8"
             ],
             [
              0.3333333333333333,
              "#9c179e"
             ],
             [
              0.4444444444444444,
              "#bd3786"
             ],
             [
              0.5555555555555556,
              "#d8576b"
             ],
             [
              0.6666666666666666,
              "#ed7953"
             ],
             [
              0.7777777777777778,
              "#fb9f3a"
             ],
             [
              0.8888888888888888,
              "#fdca26"
             ],
             [
              1,
              "#f0f921"
             ]
            ],
            "type": "heatmapgl"
           }
          ],
          "histogram": [
           {
            "marker": {
             "pattern": {
              "fillmode": "overlay",
              "size": 10,
              "solidity": 0.2
             }
            },
            "type": "histogram"
           }
          ],
          "histogram2d": [
           {
            "colorbar": {
             "outlinewidth": 0,
             "ticks": ""
            },
            "colorscale": [
             [
              0,
              "#0d0887"
             ],
             [
              0.1111111111111111,
              "#46039f"
             ],
             [
              0.2222222222222222,
              "#7201a8"
             ],
             [
              0.3333333333333333,
              "#9c179e"
             ],
             [
              0.4444444444444444,
              "#bd3786"
             ],
             [
              0.5555555555555556,
              "#d8576b"
             ],
             [
              0.6666666666666666,
              "#ed7953"
             ],
             [
              0.7777777777777778,
              "#fb9f3a"
             ],
             [
              0.8888888888888888,
              "#fdca26"
             ],
             [
              1,
              "#f0f921"
             ]
            ],
            "type": "histogram2d"
           }
          ],
          "histogram2dcontour": [
           {
            "colorbar": {
             "outlinewidth": 0,
             "ticks": ""
            },
            "colorscale": [
             [
              0,
              "#0d0887"
             ],
             [
              0.1111111111111111,
              "#46039f"
             ],
             [
              0.2222222222222222,
              "#7201a8"
             ],
             [
              0.3333333333333333,
              "#9c179e"
             ],
             [
              0.4444444444444444,
              "#bd3786"
             ],
             [
              0.5555555555555556,
              "#d8576b"
             ],
             [
              0.6666666666666666,
              "#ed7953"
             ],
             [
              0.7777777777777778,
              "#fb9f3a"
             ],
             [
              0.8888888888888888,
              "#fdca26"
             ],
             [
              1,
              "#f0f921"
             ]
            ],
            "type": "histogram2dcontour"
           }
          ],
          "mesh3d": [
           {
            "colorbar": {
             "outlinewidth": 0,
             "ticks": ""
            },
            "type": "mesh3d"
           }
          ],
          "parcoords": [
           {
            "line": {
             "colorbar": {
              "outlinewidth": 0,
              "ticks": ""
             }
            },
            "type": "parcoords"
           }
          ],
          "pie": [
           {
            "automargin": true,
            "type": "pie"
           }
          ],
          "scatter": [
           {
            "fillpattern": {
             "fillmode": "overlay",
             "size": 10,
             "solidity": 0.2
            },
            "type": "scatter"
           }
          ],
          "scatter3d": [
           {
            "line": {
             "colorbar": {
              "outlinewidth": 0,
              "ticks": ""
             }
            },
            "marker": {
             "colorbar": {
              "outlinewidth": 0,
              "ticks": ""
             }
            },
            "type": "scatter3d"
           }
          ],
          "scattercarpet": [
           {
            "marker": {
             "colorbar": {
              "outlinewidth": 0,
              "ticks": ""
             }
            },
            "type": "scattercarpet"
           }
          ],
          "scattergeo": [
           {
            "marker": {
             "colorbar": {
              "outlinewidth": 0,
              "ticks": ""
             }
            },
            "type": "scattergeo"
           }
          ],
          "scattergl": [
           {
            "marker": {
             "colorbar": {
              "outlinewidth": 0,
              "ticks": ""
             }
            },
            "type": "scattergl"
           }
          ],
          "scattermapbox": [
           {
            "marker": {
             "colorbar": {
              "outlinewidth": 0,
              "ticks": ""
             }
            },
            "type": "scattermapbox"
           }
          ],
          "scatterpolar": [
           {
            "marker": {
             "colorbar": {
              "outlinewidth": 0,
              "ticks": ""
             }
            },
            "type": "scatterpolar"
           }
          ],
          "scatterpolargl": [
           {
            "marker": {
             "colorbar": {
              "outlinewidth": 0,
              "ticks": ""
             }
            },
            "type": "scatterpolargl"
           }
          ],
          "scatterternary": [
           {
            "marker": {
             "colorbar": {
              "outlinewidth": 0,
              "ticks": ""
             }
            },
            "type": "scatterternary"
           }
          ],
          "surface": [
           {
            "colorbar": {
             "outlinewidth": 0,
             "ticks": ""
            },
            "colorscale": [
             [
              0,
              "#0d0887"
             ],
             [
              0.1111111111111111,
              "#46039f"
             ],
             [
              0.2222222222222222,
              "#7201a8"
             ],
             [
              0.3333333333333333,
              "#9c179e"
             ],
             [
              0.4444444444444444,
              "#bd3786"
             ],
             [
              0.5555555555555556,
              "#d8576b"
             ],
             [
              0.6666666666666666,
              "#ed7953"
             ],
             [
              0.7777777777777778,
              "#fb9f3a"
             ],
             [
              0.8888888888888888,
              "#fdca26"
             ],
             [
              1,
              "#f0f921"
             ]
            ],
            "type": "surface"
           }
          ],
          "table": [
           {
            "cells": {
             "fill": {
              "color": "#EBF0F8"
             },
             "line": {
              "color": "white"
             }
            },
            "header": {
             "fill": {
              "color": "#C8D4E3"
             },
             "line": {
              "color": "white"
             }
            },
            "type": "table"
           }
          ]
         },
         "layout": {
          "annotationdefaults": {
           "arrowcolor": "#2a3f5f",
           "arrowhead": 0,
           "arrowwidth": 1
          },
          "autotypenumbers": "strict",
          "coloraxis": {
           "colorbar": {
            "outlinewidth": 0,
            "ticks": ""
           }
          },
          "colorscale": {
           "diverging": [
            [
             0,
             "#8e0152"
            ],
            [
             0.1,
             "#c51b7d"
            ],
            [
             0.2,
             "#de77ae"
            ],
            [
             0.3,
             "#f1b6da"
            ],
            [
             0.4,
             "#fde0ef"
            ],
            [
             0.5,
             "#f7f7f7"
            ],
            [
             0.6,
             "#e6f5d0"
            ],
            [
             0.7,
             "#b8e186"
            ],
            [
             0.8,
             "#7fbc41"
            ],
            [
             0.9,
             "#4d9221"
            ],
            [
             1,
             "#276419"
            ]
           ],
           "sequential": [
            [
             0,
             "#0d0887"
            ],
            [
             0.1111111111111111,
             "#46039f"
            ],
            [
             0.2222222222222222,
             "#7201a8"
            ],
            [
             0.3333333333333333,
             "#9c179e"
            ],
            [
             0.4444444444444444,
             "#bd3786"
            ],
            [
             0.5555555555555556,
             "#d8576b"
            ],
            [
             0.6666666666666666,
             "#ed7953"
            ],
            [
             0.7777777777777778,
             "#fb9f3a"
            ],
            [
             0.8888888888888888,
             "#fdca26"
            ],
            [
             1,
             "#f0f921"
            ]
           ],
           "sequentialminus": [
            [
             0,
             "#0d0887"
            ],
            [
             0.1111111111111111,
             "#46039f"
            ],
            [
             0.2222222222222222,
             "#7201a8"
            ],
            [
             0.3333333333333333,
             "#9c179e"
            ],
            [
             0.4444444444444444,
             "#bd3786"
            ],
            [
             0.5555555555555556,
             "#d8576b"
            ],
            [
             0.6666666666666666,
             "#ed7953"
            ],
            [
             0.7777777777777778,
             "#fb9f3a"
            ],
            [
             0.8888888888888888,
             "#fdca26"
            ],
            [
             1,
             "#f0f921"
            ]
           ]
          },
          "colorway": [
           "#636efa",
           "#EF553B",
           "#00cc96",
           "#ab63fa",
           "#FFA15A",
           "#19d3f3",
           "#FF6692",
           "#B6E880",
           "#FF97FF",
           "#FECB52"
          ],
          "font": {
           "color": "#2a3f5f"
          },
          "geo": {
           "bgcolor": "white",
           "lakecolor": "white",
           "landcolor": "#E5ECF6",
           "showlakes": true,
           "showland": true,
           "subunitcolor": "white"
          },
          "hoverlabel": {
           "align": "left"
          },
          "hovermode": "closest",
          "mapbox": {
           "style": "light"
          },
          "paper_bgcolor": "white",
          "plot_bgcolor": "#E5ECF6",
          "polar": {
           "angularaxis": {
            "gridcolor": "white",
            "linecolor": "white",
            "ticks": ""
           },
           "bgcolor": "#E5ECF6",
           "radialaxis": {
            "gridcolor": "white",
            "linecolor": "white",
            "ticks": ""
           }
          },
          "scene": {
           "xaxis": {
            "backgroundcolor": "#E5ECF6",
            "gridcolor": "white",
            "gridwidth": 2,
            "linecolor": "white",
            "showbackground": true,
            "ticks": "",
            "zerolinecolor": "white"
           },
           "yaxis": {
            "backgroundcolor": "#E5ECF6",
            "gridcolor": "white",
            "gridwidth": 2,
            "linecolor": "white",
            "showbackground": true,
            "ticks": "",
            "zerolinecolor": "white"
           },
           "zaxis": {
            "backgroundcolor": "#E5ECF6",
            "gridcolor": "white",
            "gridwidth": 2,
            "linecolor": "white",
            "showbackground": true,
            "ticks": "",
            "zerolinecolor": "white"
           }
          },
          "shapedefaults": {
           "line": {
            "color": "#2a3f5f"
           }
          },
          "ternary": {
           "aaxis": {
            "gridcolor": "white",
            "linecolor": "white",
            "ticks": ""
           },
           "baxis": {
            "gridcolor": "white",
            "linecolor": "white",
            "ticks": ""
           },
           "bgcolor": "#E5ECF6",
           "caxis": {
            "gridcolor": "white",
            "linecolor": "white",
            "ticks": ""
           }
          },
          "title": {
           "x": 0.05
          },
          "xaxis": {
           "automargin": true,
           "gridcolor": "white",
           "linecolor": "white",
           "ticks": "",
           "title": {
            "standoff": 15
           },
           "zerolinecolor": "white",
           "zerolinewidth": 2
          },
          "yaxis": {
           "automargin": true,
           "gridcolor": "white",
           "linecolor": "white",
           "ticks": "",
           "title": {
            "standoff": 15
           },
           "zerolinecolor": "white",
           "zerolinewidth": 2
          }
         }
        },
        "title": {
         "text": "Proporción de Pasajeros por Provincia (Colectivos fuera de AMBA y Buenos Aires)"
        }
       }
      }
     },
     "metadata": {},
     "output_type": "display_data"
    }
   ],
   "source": [
    "datos_filtrados = sube_2023[(sube_2023['TIPO_TRANSPORTE'] == 'COLECTIVO') & (sube_2023['AMBA'] == 'NO') & (sube_2023['PROVINCIA'] != 'BUENOS AIRES')&(sube_2023['PROVINCIA'] != 'Buenos Aires')]\n",
    "\n",
    "pasajeros_por_provincia = datos_filtrados.groupby('PROVINCIA')['CANTIDAD'].sum().reset_index()\n",
    "\n",
    "fig = px.pie(pasajeros_por_provincia, values='CANTIDAD', names='PROVINCIA',\n",
    "             title='Proporción de Pasajeros por Provincia (Colectivos fuera de AMBA y Buenos Aires)',\n",
    "             labels={'CANTIDAD': 'Cantidad de Pasajeros'})\n",
    "\n",
    "fig.show()"
   ]
  },
  {
   "cell_type": "markdown",
   "metadata": {},
   "source": [
    "# Modelado"
   ]
  },
  {
   "cell_type": "markdown",
   "metadata": {},
   "source": [
    "## 5"
   ]
  },
  {
   "cell_type": "markdown",
   "metadata": {},
   "source": [
    "#### **5. a)** Generar un DataFrame en el que las columnas sean las líneas de colectivo de AMBA de jurisdicción nacional y las observaciones sean los días del año."
   ]
  },
  {
   "cell_type": "code",
   "execution_count": 85,
   "metadata": {},
   "outputs": [],
   "source": [
    "datos_AMBA = pd.read_csv('sube-2023-regresion.csv')"
   ]
  },
  {
   "cell_type": "code",
   "execution_count": 87,
   "metadata": {},
   "outputs": [
    {
     "name": "stdout",
     "output_type": "stream",
     "text": [
      "LINEA           BSAS_LINEA_002  BSAS_LINEA_009  BSAS_LINEA_010  \\\n",
      "DIA_TRANSPORTE                                                   \n",
      "2023-01-01              5670.0          5644.0          5177.0   \n",
      "2023-01-02             21759.0         23284.0         21176.0   \n",
      "2023-01-04             24755.0         25405.0         23806.0   \n",
      "2023-01-05             25772.0         26489.0         24688.0   \n",
      "2023-01-06             26021.0         26458.0         24167.0   \n",
      "\n",
      "LINEA           BSAS_LINEA_015  BSAS_LINEA_017  BSAS_LINEA_019  \\\n",
      "DIA_TRANSPORTE                                                   \n",
      "2023-01-01              9109.0          7013.0          1604.0   \n",
      "2023-01-02             45269.0         29962.0         13921.0   \n",
      "2023-01-04             52873.0         33659.0         16172.0   \n",
      "2023-01-05             53436.0         35182.0         16569.0   \n",
      "2023-01-06             53163.0         35212.0         16459.0   \n",
      "\n",
      "LINEA           BSAS_LINEA_020  BSAS_LINEA_021  BSAS_LINEA_022  \\\n",
      "DIA_TRANSPORTE                                                   \n",
      "2023-01-01              2617.0         11235.0          2202.0   \n",
      "2023-01-02             11934.0         55611.0         13823.0   \n",
      "2023-01-04             13366.0         61721.0         16206.0   \n",
      "2023-01-05             12929.0         62510.0         16863.0   \n",
      "2023-01-06             12955.0         63528.0         16846.0   \n",
      "\n",
      "LINEA           BSAS_LINEA_024  ...  LINEA 44  LINEA 5  LINEA 50  LINEA 6  \\\n",
      "DIA_TRANSPORTE                  ...                                         \n",
      "2023-01-01              7599.0  ...    4649.0   4832.0    4839.0   2449.0   \n",
      "2023-01-02             30397.0  ...   20387.0  20333.0   16221.0  10486.0   \n",
      "2023-01-04             33567.0  ...   23595.0  23041.0   18448.0  12193.0   \n",
      "2023-01-05             34352.0  ...   23687.0  23928.0   18481.0  12888.0   \n",
      "2023-01-06             34874.0  ...   23731.0  24247.0   19300.0  12703.0   \n",
      "\n",
      "LINEA           LINEA 7  LINEA 76  LINEA 8  LINEA_099  LINEA_119_AMBA  \\\n",
      "DIA_TRANSPORTE                                                          \n",
      "2023-01-01       2184.0    3797.0   5317.0     1882.0          1573.0   \n",
      "2023-01-02      12774.0   17374.0  23250.0    10322.0          7345.0   \n",
      "2023-01-04      13949.0   19860.0  26294.0    11981.0          7925.0   \n",
      "2023-01-05      14668.0   21235.0  27216.0    11787.0          7597.0   \n",
      "2023-01-06      14199.0   23472.0  27073.0    11567.0          7811.0   \n",
      "\n",
      "LINEA           LINEA_164_AMBA  \n",
      "DIA_TRANSPORTE                  \n",
      "2023-01-01              3210.0  \n",
      "2023-01-02             19362.0  \n",
      "2023-01-04             21784.0  \n",
      "2023-01-05             22972.0  \n",
      "2023-01-06             23411.0  \n",
      "\n",
      "[5 rows x 136 columns]\n"
     ]
    }
   ],
   "source": [
    "datos_ColectivoJN = datos_AMBA[(datos_AMBA[\"TIPO_TRANSPORTE\"] == \"COLECTIVO\") & (datos_AMBA['AMBA'] == 'SI') & (datos_AMBA[\"PROVINCIA\"] == \"JN\") & (datos_AMBA['DATO_PRELIMINAR'] == 'NO')] # filtro y excluyo los datos\n",
    "\n",
    "cols = datos_ColectivoJN[\"LINEA\"].unique() #busco toda las lineas (sin repetidos)\n",
    "\n",
    "pasajeros_por_linea = pd.DataFrame()\n",
    "\n",
    "pasajeros_por_linea = datos_ColectivoJN.pivot_table(index='DIA_TRANSPORTE', columns='LINEA', values='CANTIDAD').fillna(0)\n",
    "\n",
    "print(pasajeros_por_linea.head())\n",
    "\n"
   ]
  },
  {
   "cell_type": "markdown",
   "metadata": {},
   "source": [
    "#### **5. b)** Eliminar las columnas correspondientes a líneas de colectivo que tengan datos faltantes."
   ]
  },
  {
   "cell_type": "code",
   "execution_count": 88,
   "metadata": {},
   "outputs": [
    {
     "data": {
      "text/html": [
       "<div>\n",
       "<style scoped>\n",
       "    .dataframe tbody tr th:only-of-type {\n",
       "        vertical-align: middle;\n",
       "    }\n",
       "\n",
       "    .dataframe tbody tr th {\n",
       "        vertical-align: top;\n",
       "    }\n",
       "\n",
       "    .dataframe thead th {\n",
       "        text-align: right;\n",
       "    }\n",
       "</style>\n",
       "<table border=\"1\" class=\"dataframe\">\n",
       "  <thead>\n",
       "    <tr style=\"text-align: right;\">\n",
       "      <th>LINEA</th>\n",
       "      <th>BSAS_LINEA_002</th>\n",
       "      <th>BSAS_LINEA_009</th>\n",
       "      <th>BSAS_LINEA_010</th>\n",
       "      <th>BSAS_LINEA_015</th>\n",
       "      <th>BSAS_LINEA_017</th>\n",
       "      <th>BSAS_LINEA_019</th>\n",
       "      <th>BSAS_LINEA_020</th>\n",
       "      <th>BSAS_LINEA_021</th>\n",
       "      <th>BSAS_LINEA_022</th>\n",
       "      <th>BSAS_LINEA_024</th>\n",
       "      <th>...</th>\n",
       "      <th>LINEA 44</th>\n",
       "      <th>LINEA 5</th>\n",
       "      <th>LINEA 50</th>\n",
       "      <th>LINEA 6</th>\n",
       "      <th>LINEA 7</th>\n",
       "      <th>LINEA 76</th>\n",
       "      <th>LINEA 8</th>\n",
       "      <th>LINEA_099</th>\n",
       "      <th>LINEA_119_AMBA</th>\n",
       "      <th>LINEA_164_AMBA</th>\n",
       "    </tr>\n",
       "    <tr>\n",
       "      <th>DIA_TRANSPORTE</th>\n",
       "      <th></th>\n",
       "      <th></th>\n",
       "      <th></th>\n",
       "      <th></th>\n",
       "      <th></th>\n",
       "      <th></th>\n",
       "      <th></th>\n",
       "      <th></th>\n",
       "      <th></th>\n",
       "      <th></th>\n",
       "      <th></th>\n",
       "      <th></th>\n",
       "      <th></th>\n",
       "      <th></th>\n",
       "      <th></th>\n",
       "      <th></th>\n",
       "      <th></th>\n",
       "      <th></th>\n",
       "      <th></th>\n",
       "      <th></th>\n",
       "      <th></th>\n",
       "    </tr>\n",
       "  </thead>\n",
       "  <tbody>\n",
       "    <tr>\n",
       "      <th>2023-01-01</th>\n",
       "      <td>5670.0</td>\n",
       "      <td>5644.0</td>\n",
       "      <td>5177.0</td>\n",
       "      <td>9109.0</td>\n",
       "      <td>7013.0</td>\n",
       "      <td>1604.0</td>\n",
       "      <td>2617.0</td>\n",
       "      <td>11235.0</td>\n",
       "      <td>2202.0</td>\n",
       "      <td>7599.0</td>\n",
       "      <td>...</td>\n",
       "      <td>4649.0</td>\n",
       "      <td>4832.0</td>\n",
       "      <td>4839.0</td>\n",
       "      <td>2449.0</td>\n",
       "      <td>2184.0</td>\n",
       "      <td>3797.0</td>\n",
       "      <td>5317.0</td>\n",
       "      <td>1882.0</td>\n",
       "      <td>1573.0</td>\n",
       "      <td>3210.0</td>\n",
       "    </tr>\n",
       "    <tr>\n",
       "      <th>2023-01-02</th>\n",
       "      <td>21759.0</td>\n",
       "      <td>23284.0</td>\n",
       "      <td>21176.0</td>\n",
       "      <td>45269.0</td>\n",
       "      <td>29962.0</td>\n",
       "      <td>13921.0</td>\n",
       "      <td>11934.0</td>\n",
       "      <td>55611.0</td>\n",
       "      <td>13823.0</td>\n",
       "      <td>30397.0</td>\n",
       "      <td>...</td>\n",
       "      <td>20387.0</td>\n",
       "      <td>20333.0</td>\n",
       "      <td>16221.0</td>\n",
       "      <td>10486.0</td>\n",
       "      <td>12774.0</td>\n",
       "      <td>17374.0</td>\n",
       "      <td>23250.0</td>\n",
       "      <td>10322.0</td>\n",
       "      <td>7345.0</td>\n",
       "      <td>19362.0</td>\n",
       "    </tr>\n",
       "    <tr>\n",
       "      <th>2023-01-04</th>\n",
       "      <td>24755.0</td>\n",
       "      <td>25405.0</td>\n",
       "      <td>23806.0</td>\n",
       "      <td>52873.0</td>\n",
       "      <td>33659.0</td>\n",
       "      <td>16172.0</td>\n",
       "      <td>13366.0</td>\n",
       "      <td>61721.0</td>\n",
       "      <td>16206.0</td>\n",
       "      <td>33567.0</td>\n",
       "      <td>...</td>\n",
       "      <td>23595.0</td>\n",
       "      <td>23041.0</td>\n",
       "      <td>18448.0</td>\n",
       "      <td>12193.0</td>\n",
       "      <td>13949.0</td>\n",
       "      <td>19860.0</td>\n",
       "      <td>26294.0</td>\n",
       "      <td>11981.0</td>\n",
       "      <td>7925.0</td>\n",
       "      <td>21784.0</td>\n",
       "    </tr>\n",
       "    <tr>\n",
       "      <th>2023-01-05</th>\n",
       "      <td>25772.0</td>\n",
       "      <td>26489.0</td>\n",
       "      <td>24688.0</td>\n",
       "      <td>53436.0</td>\n",
       "      <td>35182.0</td>\n",
       "      <td>16569.0</td>\n",
       "      <td>12929.0</td>\n",
       "      <td>62510.0</td>\n",
       "      <td>16863.0</td>\n",
       "      <td>34352.0</td>\n",
       "      <td>...</td>\n",
       "      <td>23687.0</td>\n",
       "      <td>23928.0</td>\n",
       "      <td>18481.0</td>\n",
       "      <td>12888.0</td>\n",
       "      <td>14668.0</td>\n",
       "      <td>21235.0</td>\n",
       "      <td>27216.0</td>\n",
       "      <td>11787.0</td>\n",
       "      <td>7597.0</td>\n",
       "      <td>22972.0</td>\n",
       "    </tr>\n",
       "    <tr>\n",
       "      <th>2023-01-06</th>\n",
       "      <td>26021.0</td>\n",
       "      <td>26458.0</td>\n",
       "      <td>24167.0</td>\n",
       "      <td>53163.0</td>\n",
       "      <td>35212.0</td>\n",
       "      <td>16459.0</td>\n",
       "      <td>12955.0</td>\n",
       "      <td>63528.0</td>\n",
       "      <td>16846.0</td>\n",
       "      <td>34874.0</td>\n",
       "      <td>...</td>\n",
       "      <td>23731.0</td>\n",
       "      <td>24247.0</td>\n",
       "      <td>19300.0</td>\n",
       "      <td>12703.0</td>\n",
       "      <td>14199.0</td>\n",
       "      <td>23472.0</td>\n",
       "      <td>27073.0</td>\n",
       "      <td>11567.0</td>\n",
       "      <td>7811.0</td>\n",
       "      <td>23411.0</td>\n",
       "    </tr>\n",
       "  </tbody>\n",
       "</table>\n",
       "<p>5 rows × 136 columns</p>\n",
       "</div>"
      ],
      "text/plain": [
       "LINEA           BSAS_LINEA_002  BSAS_LINEA_009  BSAS_LINEA_010  \\\n",
       "DIA_TRANSPORTE                                                   \n",
       "2023-01-01              5670.0          5644.0          5177.0   \n",
       "2023-01-02             21759.0         23284.0         21176.0   \n",
       "2023-01-04             24755.0         25405.0         23806.0   \n",
       "2023-01-05             25772.0         26489.0         24688.0   \n",
       "2023-01-06             26021.0         26458.0         24167.0   \n",
       "\n",
       "LINEA           BSAS_LINEA_015  BSAS_LINEA_017  BSAS_LINEA_019  \\\n",
       "DIA_TRANSPORTE                                                   \n",
       "2023-01-01              9109.0          7013.0          1604.0   \n",
       "2023-01-02             45269.0         29962.0         13921.0   \n",
       "2023-01-04             52873.0         33659.0         16172.0   \n",
       "2023-01-05             53436.0         35182.0         16569.0   \n",
       "2023-01-06             53163.0         35212.0         16459.0   \n",
       "\n",
       "LINEA           BSAS_LINEA_020  BSAS_LINEA_021  BSAS_LINEA_022  \\\n",
       "DIA_TRANSPORTE                                                   \n",
       "2023-01-01              2617.0         11235.0          2202.0   \n",
       "2023-01-02             11934.0         55611.0         13823.0   \n",
       "2023-01-04             13366.0         61721.0         16206.0   \n",
       "2023-01-05             12929.0         62510.0         16863.0   \n",
       "2023-01-06             12955.0         63528.0         16846.0   \n",
       "\n",
       "LINEA           BSAS_LINEA_024  ...  LINEA 44  LINEA 5  LINEA 50  LINEA 6  \\\n",
       "DIA_TRANSPORTE                  ...                                         \n",
       "2023-01-01              7599.0  ...    4649.0   4832.0    4839.0   2449.0   \n",
       "2023-01-02             30397.0  ...   20387.0  20333.0   16221.0  10486.0   \n",
       "2023-01-04             33567.0  ...   23595.0  23041.0   18448.0  12193.0   \n",
       "2023-01-05             34352.0  ...   23687.0  23928.0   18481.0  12888.0   \n",
       "2023-01-06             34874.0  ...   23731.0  24247.0   19300.0  12703.0   \n",
       "\n",
       "LINEA           LINEA 7  LINEA 76  LINEA 8  LINEA_099  LINEA_119_AMBA  \\\n",
       "DIA_TRANSPORTE                                                          \n",
       "2023-01-01       2184.0    3797.0   5317.0     1882.0          1573.0   \n",
       "2023-01-02      12774.0   17374.0  23250.0    10322.0          7345.0   \n",
       "2023-01-04      13949.0   19860.0  26294.0    11981.0          7925.0   \n",
       "2023-01-05      14668.0   21235.0  27216.0    11787.0          7597.0   \n",
       "2023-01-06      14199.0   23472.0  27073.0    11567.0          7811.0   \n",
       "\n",
       "LINEA           LINEA_164_AMBA  \n",
       "DIA_TRANSPORTE                  \n",
       "2023-01-01              3210.0  \n",
       "2023-01-02             19362.0  \n",
       "2023-01-04             21784.0  \n",
       "2023-01-05             22972.0  \n",
       "2023-01-06             23411.0  \n",
       "\n",
       "[5 rows x 136 columns]"
      ]
     },
     "execution_count": 88,
     "metadata": {},
     "output_type": "execute_result"
    }
   ],
   "source": [
    "pasajeros_por_linea_2023 = pasajeros_por_linea.dropna(axis=1, how = 'any')\n",
    "pasajeros_por_linea_2023.head()"
   ]
  }
 ],
 "metadata": {
  "kernelspec": {
   "display_name": "Python 3 (ipykernel)",
   "language": "python",
   "name": "python3"
  },
  "language_info": {
   "codemirror_mode": {
    "name": "ipython",
    "version": 3
   },
   "file_extension": ".py",
   "mimetype": "text/x-python",
   "name": "python",
   "nbconvert_exporter": "python",
   "pygments_lexer": "ipython3",
   "version": "3.11.7"
  }
 },
 "nbformat": 4,
 "nbformat_minor": 4
}
